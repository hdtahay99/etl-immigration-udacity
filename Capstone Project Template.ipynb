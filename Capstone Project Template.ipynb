{
 "cells": [
  {
   "cell_type": "markdown",
   "metadata": {
    "editable": true
   },
   "source": [
    "# Project Title\n",
    "### Data Engineering Capstone Project\n",
    "\n",
    "#### Project Summary\n",
    "--describe your project at a high level--\n",
    "\n",
    "The project follows the follow steps:\n",
    "* Step 1: Scope the Project and Gather Data\n",
    "* Step 2: Explore and Assess the Data\n",
    "* Step 3: Define the Data Model\n",
    "* Step 4: Run ETL to Model the Data\n",
    "* Step 5: Complete Project Write Up"
   ]
  },
  {
   "cell_type": "code",
   "execution_count": 1,
   "metadata": {
    "editable": true
   },
   "outputs": [],
   "source": [
    "# Do all imports and installs here\n",
    "import pandas as pd\n",
    "from pyspark.sql import SparkSession\n",
    "from pyspark.sql.functions import udf, col, row_number, regexp_replace, upper, trim, split, desc\n",
    "from pyspark.sql.functions import year, month, dayofmonth, dayofweek, hour, weekofyear, date_format, monotonically_increasing_id\n",
    "from pyspark.sql.types import TimestampType as TS, LongType as Long, StructType as R, StructField as Fld, DoubleType as Dbl, StringType as Str, IntegerType as Int, DateType as Date"
   ]
  },
  {
   "cell_type": "code",
   "execution_count": 2,
   "metadata": {
    "editable": true
   },
   "outputs": [],
   "source": [
    "spark = SparkSession.builder.\\\n",
    "config(\"spark.jars.repositories\", \"https://repos.spark-packages.org/\").\\\n",
    "config(\"spark.jars.packages\", \"saurfang:spark-sas7bdat:2.0.0-s_2.11\").\\\n",
    "enableHiveSupport().getOrCreate()"
   ]
  },
  {
   "cell_type": "markdown",
   "metadata": {
    "editable": true
   },
   "source": [
    "### Step 1: Scope the Project and Gather Data\n",
    "\n",
    "#### Scope \n",
    "Explain what you plan to do in the project in more detail. What data do you use? What is your end solution look like? What tools did you use? etc>\n",
    "\n",
    "#### Describe and Gather Data \n",
    "Describe the data sets you're using. Where did it come from? What type of information is included? "
   ]
  },
  {
   "cell_type": "markdown",
   "metadata": {
    "editable": true
   },
   "source": [
    "## Immigration Data"
   ]
  },
  {
   "cell_type": "code",
   "execution_count": 2,
   "metadata": {
    "editable": true
   },
   "outputs": [],
   "source": [
    "# Read in the data here\n",
    "path = 'immigration_data_sample.csv'\n",
    "df = pd.read_csv(path, encoding=\"ISO-8859-1\")"
   ]
  },
  {
   "cell_type": "code",
   "execution_count": 3,
   "metadata": {
    "editable": true
   },
   "outputs": [
    {
     "data": {
      "text/plain": [
       "(1000, 29)"
      ]
     },
     "execution_count": 3,
     "metadata": {},
     "output_type": "execute_result"
    }
   ],
   "source": [
    "df.shape"
   ]
  },
  {
   "cell_type": "code",
   "execution_count": 4,
   "metadata": {
    "editable": true
   },
   "outputs": [
    {
     "data": {
      "text/html": [
       "<div>\n",
       "<style scoped>\n",
       "    .dataframe tbody tr th:only-of-type {\n",
       "        vertical-align: middle;\n",
       "    }\n",
       "\n",
       "    .dataframe tbody tr th {\n",
       "        vertical-align: top;\n",
       "    }\n",
       "\n",
       "    .dataframe thead th {\n",
       "        text-align: right;\n",
       "    }\n",
       "</style>\n",
       "<table border=\"1\" class=\"dataframe\">\n",
       "  <thead>\n",
       "    <tr style=\"text-align: right;\">\n",
       "      <th></th>\n",
       "      <th>Unnamed: 0</th>\n",
       "      <th>cicid</th>\n",
       "      <th>i94yr</th>\n",
       "      <th>i94mon</th>\n",
       "      <th>i94cit</th>\n",
       "      <th>i94res</th>\n",
       "      <th>arrdate</th>\n",
       "      <th>i94mode</th>\n",
       "      <th>depdate</th>\n",
       "      <th>i94bir</th>\n",
       "      <th>i94visa</th>\n",
       "      <th>count</th>\n",
       "      <th>dtadfile</th>\n",
       "      <th>entdepu</th>\n",
       "      <th>biryear</th>\n",
       "      <th>insnum</th>\n",
       "      <th>admnum</th>\n",
       "    </tr>\n",
       "  </thead>\n",
       "  <tbody>\n",
       "    <tr>\n",
       "      <th>count</th>\n",
       "      <td>1.000000e+03</td>\n",
       "      <td>1.000000e+03</td>\n",
       "      <td>1000.0</td>\n",
       "      <td>1000.0</td>\n",
       "      <td>1000.000000</td>\n",
       "      <td>1000.00000</td>\n",
       "      <td>1000.000000</td>\n",
       "      <td>1000.000000</td>\n",
       "      <td>951.000000</td>\n",
       "      <td>1000.000000</td>\n",
       "      <td>1000.000000</td>\n",
       "      <td>1000.0</td>\n",
       "      <td>1.000000e+03</td>\n",
       "      <td>0.0</td>\n",
       "      <td>1000.000000</td>\n",
       "      <td>35.000000</td>\n",
       "      <td>1.000000e+03</td>\n",
       "    </tr>\n",
       "    <tr>\n",
       "      <th>mean</th>\n",
       "      <td>1.542097e+06</td>\n",
       "      <td>3.040461e+06</td>\n",
       "      <td>2016.0</td>\n",
       "      <td>4.0</td>\n",
       "      <td>302.928000</td>\n",
       "      <td>298.26200</td>\n",
       "      <td>20559.680000</td>\n",
       "      <td>1.078000</td>\n",
       "      <td>20575.037855</td>\n",
       "      <td>42.382000</td>\n",
       "      <td>1.859000</td>\n",
       "      <td>1.0</td>\n",
       "      <td>2.016042e+07</td>\n",
       "      <td>NaN</td>\n",
       "      <td>1973.618000</td>\n",
       "      <td>3826.857143</td>\n",
       "      <td>6.937237e+10</td>\n",
       "    </tr>\n",
       "    <tr>\n",
       "      <th>std</th>\n",
       "      <td>9.152879e+05</td>\n",
       "      <td>1.799818e+06</td>\n",
       "      <td>0.0</td>\n",
       "      <td>0.0</td>\n",
       "      <td>206.485285</td>\n",
       "      <td>202.12039</td>\n",
       "      <td>8.995027</td>\n",
       "      <td>0.485955</td>\n",
       "      <td>24.211234</td>\n",
       "      <td>17.903424</td>\n",
       "      <td>0.386353</td>\n",
       "      <td>0.0</td>\n",
       "      <td>4.951657e+01</td>\n",
       "      <td>NaN</td>\n",
       "      <td>17.903424</td>\n",
       "      <td>221.742583</td>\n",
       "      <td>2.338134e+10</td>\n",
       "    </tr>\n",
       "    <tr>\n",
       "      <th>min</th>\n",
       "      <td>1.092500e+04</td>\n",
       "      <td>1.320800e+04</td>\n",
       "      <td>2016.0</td>\n",
       "      <td>4.0</td>\n",
       "      <td>103.000000</td>\n",
       "      <td>103.00000</td>\n",
       "      <td>20545.000000</td>\n",
       "      <td>1.000000</td>\n",
       "      <td>20547.000000</td>\n",
       "      <td>1.000000</td>\n",
       "      <td>1.000000</td>\n",
       "      <td>1.0</td>\n",
       "      <td>2.016040e+07</td>\n",
       "      <td>NaN</td>\n",
       "      <td>1923.000000</td>\n",
       "      <td>3468.000000</td>\n",
       "      <td>0.000000e+00</td>\n",
       "    </tr>\n",
       "    <tr>\n",
       "      <th>25%</th>\n",
       "      <td>7.214422e+05</td>\n",
       "      <td>1.412170e+06</td>\n",
       "      <td>2016.0</td>\n",
       "      <td>4.0</td>\n",
       "      <td>135.000000</td>\n",
       "      <td>131.00000</td>\n",
       "      <td>20552.000000</td>\n",
       "      <td>1.000000</td>\n",
       "      <td>20561.000000</td>\n",
       "      <td>30.750000</td>\n",
       "      <td>2.000000</td>\n",
       "      <td>1.0</td>\n",
       "      <td>2.016041e+07</td>\n",
       "      <td>NaN</td>\n",
       "      <td>1961.000000</td>\n",
       "      <td>3668.000000</td>\n",
       "      <td>5.599301e+10</td>\n",
       "    </tr>\n",
       "    <tr>\n",
       "      <th>50%</th>\n",
       "      <td>1.494568e+06</td>\n",
       "      <td>2.941176e+06</td>\n",
       "      <td>2016.0</td>\n",
       "      <td>4.0</td>\n",
       "      <td>213.000000</td>\n",
       "      <td>213.00000</td>\n",
       "      <td>20560.000000</td>\n",
       "      <td>1.000000</td>\n",
       "      <td>20570.000000</td>\n",
       "      <td>42.000000</td>\n",
       "      <td>2.000000</td>\n",
       "      <td>1.0</td>\n",
       "      <td>2.016042e+07</td>\n",
       "      <td>NaN</td>\n",
       "      <td>1974.000000</td>\n",
       "      <td>3887.000000</td>\n",
       "      <td>5.931477e+10</td>\n",
       "    </tr>\n",
       "    <tr>\n",
       "      <th>75%</th>\n",
       "      <td>2.360901e+06</td>\n",
       "      <td>4.694151e+06</td>\n",
       "      <td>2016.0</td>\n",
       "      <td>4.0</td>\n",
       "      <td>438.000000</td>\n",
       "      <td>438.00000</td>\n",
       "      <td>20567.250000</td>\n",
       "      <td>1.000000</td>\n",
       "      <td>20580.000000</td>\n",
       "      <td>55.000000</td>\n",
       "      <td>2.000000</td>\n",
       "      <td>1.0</td>\n",
       "      <td>2.016042e+07</td>\n",
       "      <td>NaN</td>\n",
       "      <td>1985.250000</td>\n",
       "      <td>3943.000000</td>\n",
       "      <td>9.343623e+10</td>\n",
       "    </tr>\n",
       "    <tr>\n",
       "      <th>max</th>\n",
       "      <td>3.095749e+06</td>\n",
       "      <td>6.061994e+06</td>\n",
       "      <td>2016.0</td>\n",
       "      <td>4.0</td>\n",
       "      <td>746.000000</td>\n",
       "      <td>696.00000</td>\n",
       "      <td>20574.000000</td>\n",
       "      <td>9.000000</td>\n",
       "      <td>20715.000000</td>\n",
       "      <td>93.000000</td>\n",
       "      <td>3.000000</td>\n",
       "      <td>1.0</td>\n",
       "      <td>2.016080e+07</td>\n",
       "      <td>NaN</td>\n",
       "      <td>2015.000000</td>\n",
       "      <td>4686.000000</td>\n",
       "      <td>9.502151e+10</td>\n",
       "    </tr>\n",
       "  </tbody>\n",
       "</table>\n",
       "</div>"
      ],
      "text/plain": [
       "         Unnamed: 0         cicid   i94yr  i94mon       i94cit      i94res  \\\n",
       "count  1.000000e+03  1.000000e+03  1000.0  1000.0  1000.000000  1000.00000   \n",
       "mean   1.542097e+06  3.040461e+06  2016.0     4.0   302.928000   298.26200   \n",
       "std    9.152879e+05  1.799818e+06     0.0     0.0   206.485285   202.12039   \n",
       "min    1.092500e+04  1.320800e+04  2016.0     4.0   103.000000   103.00000   \n",
       "25%    7.214422e+05  1.412170e+06  2016.0     4.0   135.000000   131.00000   \n",
       "50%    1.494568e+06  2.941176e+06  2016.0     4.0   213.000000   213.00000   \n",
       "75%    2.360901e+06  4.694151e+06  2016.0     4.0   438.000000   438.00000   \n",
       "max    3.095749e+06  6.061994e+06  2016.0     4.0   746.000000   696.00000   \n",
       "\n",
       "            arrdate      i94mode       depdate       i94bir      i94visa  \\\n",
       "count   1000.000000  1000.000000    951.000000  1000.000000  1000.000000   \n",
       "mean   20559.680000     1.078000  20575.037855    42.382000     1.859000   \n",
       "std        8.995027     0.485955     24.211234    17.903424     0.386353   \n",
       "min    20545.000000     1.000000  20547.000000     1.000000     1.000000   \n",
       "25%    20552.000000     1.000000  20561.000000    30.750000     2.000000   \n",
       "50%    20560.000000     1.000000  20570.000000    42.000000     2.000000   \n",
       "75%    20567.250000     1.000000  20580.000000    55.000000     2.000000   \n",
       "max    20574.000000     9.000000  20715.000000    93.000000     3.000000   \n",
       "\n",
       "        count      dtadfile  entdepu      biryear       insnum        admnum  \n",
       "count  1000.0  1.000000e+03      0.0  1000.000000    35.000000  1.000000e+03  \n",
       "mean      1.0  2.016042e+07      NaN  1973.618000  3826.857143  6.937237e+10  \n",
       "std       0.0  4.951657e+01      NaN    17.903424   221.742583  2.338134e+10  \n",
       "min       1.0  2.016040e+07      NaN  1923.000000  3468.000000  0.000000e+00  \n",
       "25%       1.0  2.016041e+07      NaN  1961.000000  3668.000000  5.599301e+10  \n",
       "50%       1.0  2.016042e+07      NaN  1974.000000  3887.000000  5.931477e+10  \n",
       "75%       1.0  2.016042e+07      NaN  1985.250000  3943.000000  9.343623e+10  \n",
       "max       1.0  2.016080e+07      NaN  2015.000000  4686.000000  9.502151e+10  "
      ]
     },
     "execution_count": 4,
     "metadata": {},
     "output_type": "execute_result"
    }
   ],
   "source": [
    "df.describe()"
   ]
  },
  {
   "cell_type": "code",
   "execution_count": 5,
   "metadata": {
    "editable": true
   },
   "outputs": [
    {
     "name": "stdout",
     "output_type": "stream",
     "text": [
      "<class 'pandas.core.frame.DataFrame'>\n",
      "RangeIndex: 1000 entries, 0 to 999\n",
      "Data columns (total 29 columns):\n",
      "Unnamed: 0    1000 non-null int64\n",
      "cicid         1000 non-null float64\n",
      "i94yr         1000 non-null float64\n",
      "i94mon        1000 non-null float64\n",
      "i94cit        1000 non-null float64\n",
      "i94res        1000 non-null float64\n",
      "i94port       1000 non-null object\n",
      "arrdate       1000 non-null float64\n",
      "i94mode       1000 non-null float64\n",
      "i94addr       941 non-null object\n",
      "depdate       951 non-null float64\n",
      "i94bir        1000 non-null float64\n",
      "i94visa       1000 non-null float64\n",
      "count         1000 non-null float64\n",
      "dtadfile      1000 non-null int64\n",
      "visapost      382 non-null object\n",
      "occup         4 non-null object\n",
      "entdepa       1000 non-null object\n",
      "entdepd       954 non-null object\n",
      "entdepu       0 non-null float64\n",
      "matflag       954 non-null object\n",
      "biryear       1000 non-null float64\n",
      "dtaddto       1000 non-null object\n",
      "gender        859 non-null object\n",
      "insnum        35 non-null float64\n",
      "airline       967 non-null object\n",
      "admnum        1000 non-null float64\n",
      "fltno         992 non-null object\n",
      "visatype      1000 non-null object\n",
      "dtypes: float64(15), int64(2), object(12)\n",
      "memory usage: 226.6+ KB\n"
     ]
    }
   ],
   "source": [
    "df.info()"
   ]
  },
  {
   "cell_type": "code",
   "execution_count": 6,
   "metadata": {
    "editable": true
   },
   "outputs": [
    {
     "data": {
      "text/plain": [
       "i94addr       59\n",
       "depdate       49\n",
       "visapost     618\n",
       "occup        996\n",
       "entdepd       46\n",
       "entdepu     1000\n",
       "matflag       46\n",
       "gender       141\n",
       "insnum       965\n",
       "airline       33\n",
       "fltno          8\n",
       "dtype: int64"
      ]
     },
     "execution_count": 6,
     "metadata": {},
     "output_type": "execute_result"
    }
   ],
   "source": [
    "df[df.columns[df.isna().any()]].isna().sum()"
   ]
  },
  {
   "cell_type": "code",
   "execution_count": 7,
   "metadata": {
    "editable": true
   },
   "outputs": [
    {
     "data": {
      "text/html": [
       "<div>\n",
       "<style scoped>\n",
       "    .dataframe tbody tr th:only-of-type {\n",
       "        vertical-align: middle;\n",
       "    }\n",
       "\n",
       "    .dataframe tbody tr th {\n",
       "        vertical-align: top;\n",
       "    }\n",
       "\n",
       "    .dataframe thead th {\n",
       "        text-align: right;\n",
       "    }\n",
       "</style>\n",
       "<table border=\"1\" class=\"dataframe\">\n",
       "  <thead>\n",
       "    <tr style=\"text-align: right;\">\n",
       "      <th></th>\n",
       "      <th>Unnamed: 0</th>\n",
       "      <th>cicid</th>\n",
       "      <th>i94yr</th>\n",
       "      <th>i94mon</th>\n",
       "      <th>i94cit</th>\n",
       "      <th>i94res</th>\n",
       "      <th>i94port</th>\n",
       "      <th>arrdate</th>\n",
       "      <th>i94mode</th>\n",
       "      <th>i94addr</th>\n",
       "      <th>...</th>\n",
       "      <th>entdepu</th>\n",
       "      <th>matflag</th>\n",
       "      <th>biryear</th>\n",
       "      <th>dtaddto</th>\n",
       "      <th>gender</th>\n",
       "      <th>insnum</th>\n",
       "      <th>airline</th>\n",
       "      <th>admnum</th>\n",
       "      <th>fltno</th>\n",
       "      <th>visatype</th>\n",
       "    </tr>\n",
       "  </thead>\n",
       "  <tbody>\n",
       "    <tr>\n",
       "      <th>0</th>\n",
       "      <td>2027561</td>\n",
       "      <td>4084316.0</td>\n",
       "      <td>2016.0</td>\n",
       "      <td>4.0</td>\n",
       "      <td>209.0</td>\n",
       "      <td>209.0</td>\n",
       "      <td>HHW</td>\n",
       "      <td>20566.0</td>\n",
       "      <td>1.0</td>\n",
       "      <td>HI</td>\n",
       "      <td>...</td>\n",
       "      <td>NaN</td>\n",
       "      <td>M</td>\n",
       "      <td>1955.0</td>\n",
       "      <td>07202016</td>\n",
       "      <td>F</td>\n",
       "      <td>NaN</td>\n",
       "      <td>JL</td>\n",
       "      <td>5.658267e+10</td>\n",
       "      <td>00782</td>\n",
       "      <td>WT</td>\n",
       "    </tr>\n",
       "    <tr>\n",
       "      <th>1</th>\n",
       "      <td>2171295</td>\n",
       "      <td>4422636.0</td>\n",
       "      <td>2016.0</td>\n",
       "      <td>4.0</td>\n",
       "      <td>582.0</td>\n",
       "      <td>582.0</td>\n",
       "      <td>MCA</td>\n",
       "      <td>20567.0</td>\n",
       "      <td>1.0</td>\n",
       "      <td>TX</td>\n",
       "      <td>...</td>\n",
       "      <td>NaN</td>\n",
       "      <td>M</td>\n",
       "      <td>1990.0</td>\n",
       "      <td>10222016</td>\n",
       "      <td>M</td>\n",
       "      <td>NaN</td>\n",
       "      <td>*GA</td>\n",
       "      <td>9.436200e+10</td>\n",
       "      <td>XBLNG</td>\n",
       "      <td>B2</td>\n",
       "    </tr>\n",
       "    <tr>\n",
       "      <th>2</th>\n",
       "      <td>589494</td>\n",
       "      <td>1195600.0</td>\n",
       "      <td>2016.0</td>\n",
       "      <td>4.0</td>\n",
       "      <td>148.0</td>\n",
       "      <td>112.0</td>\n",
       "      <td>OGG</td>\n",
       "      <td>20551.0</td>\n",
       "      <td>1.0</td>\n",
       "      <td>FL</td>\n",
       "      <td>...</td>\n",
       "      <td>NaN</td>\n",
       "      <td>M</td>\n",
       "      <td>1940.0</td>\n",
       "      <td>07052016</td>\n",
       "      <td>M</td>\n",
       "      <td>NaN</td>\n",
       "      <td>LH</td>\n",
       "      <td>5.578047e+10</td>\n",
       "      <td>00464</td>\n",
       "      <td>WT</td>\n",
       "    </tr>\n",
       "    <tr>\n",
       "      <th>3</th>\n",
       "      <td>2631158</td>\n",
       "      <td>5291768.0</td>\n",
       "      <td>2016.0</td>\n",
       "      <td>4.0</td>\n",
       "      <td>297.0</td>\n",
       "      <td>297.0</td>\n",
       "      <td>LOS</td>\n",
       "      <td>20572.0</td>\n",
       "      <td>1.0</td>\n",
       "      <td>CA</td>\n",
       "      <td>...</td>\n",
       "      <td>NaN</td>\n",
       "      <td>M</td>\n",
       "      <td>1991.0</td>\n",
       "      <td>10272016</td>\n",
       "      <td>M</td>\n",
       "      <td>NaN</td>\n",
       "      <td>QR</td>\n",
       "      <td>9.478970e+10</td>\n",
       "      <td>00739</td>\n",
       "      <td>B2</td>\n",
       "    </tr>\n",
       "    <tr>\n",
       "      <th>4</th>\n",
       "      <td>3032257</td>\n",
       "      <td>985523.0</td>\n",
       "      <td>2016.0</td>\n",
       "      <td>4.0</td>\n",
       "      <td>111.0</td>\n",
       "      <td>111.0</td>\n",
       "      <td>CHM</td>\n",
       "      <td>20550.0</td>\n",
       "      <td>3.0</td>\n",
       "      <td>NY</td>\n",
       "      <td>...</td>\n",
       "      <td>NaN</td>\n",
       "      <td>M</td>\n",
       "      <td>1997.0</td>\n",
       "      <td>07042016</td>\n",
       "      <td>F</td>\n",
       "      <td>NaN</td>\n",
       "      <td>NaN</td>\n",
       "      <td>4.232257e+10</td>\n",
       "      <td>LAND</td>\n",
       "      <td>WT</td>\n",
       "    </tr>\n",
       "  </tbody>\n",
       "</table>\n",
       "<p>5 rows × 29 columns</p>\n",
       "</div>"
      ],
      "text/plain": [
       "   Unnamed: 0      cicid   i94yr  i94mon  i94cit  i94res i94port  arrdate  \\\n",
       "0     2027561  4084316.0  2016.0     4.0   209.0   209.0     HHW  20566.0   \n",
       "1     2171295  4422636.0  2016.0     4.0   582.0   582.0     MCA  20567.0   \n",
       "2      589494  1195600.0  2016.0     4.0   148.0   112.0     OGG  20551.0   \n",
       "3     2631158  5291768.0  2016.0     4.0   297.0   297.0     LOS  20572.0   \n",
       "4     3032257   985523.0  2016.0     4.0   111.0   111.0     CHM  20550.0   \n",
       "\n",
       "   i94mode i94addr    ...     entdepu  matflag  biryear   dtaddto  gender  \\\n",
       "0      1.0      HI    ...         NaN        M   1955.0  07202016       F   \n",
       "1      1.0      TX    ...         NaN        M   1990.0  10222016       M   \n",
       "2      1.0      FL    ...         NaN        M   1940.0  07052016       M   \n",
       "3      1.0      CA    ...         NaN        M   1991.0  10272016       M   \n",
       "4      3.0      NY    ...         NaN        M   1997.0  07042016       F   \n",
       "\n",
       "  insnum airline        admnum  fltno  visatype  \n",
       "0    NaN      JL  5.658267e+10  00782        WT  \n",
       "1    NaN     *GA  9.436200e+10  XBLNG        B2  \n",
       "2    NaN      LH  5.578047e+10  00464        WT  \n",
       "3    NaN      QR  9.478970e+10  00739        B2  \n",
       "4    NaN     NaN  4.232257e+10   LAND        WT  \n",
       "\n",
       "[5 rows x 29 columns]"
      ]
     },
     "execution_count": 7,
     "metadata": {},
     "output_type": "execute_result"
    }
   ],
   "source": [
    "df.head()"
   ]
  },
  {
   "cell_type": "markdown",
   "metadata": {
    "editable": true
   },
   "source": [
    "## Airport Codes"
   ]
  },
  {
   "cell_type": "code",
   "execution_count": 15,
   "metadata": {
    "editable": true
   },
   "outputs": [],
   "source": [
    "path_codes = 'airport-codes_csv.csv'\n",
    "df_codes = pd.read_csv(path_codes, encoding=\"ISO-8859-1\")"
   ]
  },
  {
   "cell_type": "code",
   "execution_count": 16,
   "metadata": {
    "editable": true
   },
   "outputs": [
    {
     "data": {
      "text/plain": [
       "(55075, 12)"
      ]
     },
     "execution_count": 16,
     "metadata": {},
     "output_type": "execute_result"
    }
   ],
   "source": [
    "df_codes.shape"
   ]
  },
  {
   "cell_type": "code",
   "execution_count": 17,
   "metadata": {
    "editable": true
   },
   "outputs": [
    {
     "data": {
      "text/html": [
       "<div>\n",
       "<style scoped>\n",
       "    .dataframe tbody tr th:only-of-type {\n",
       "        vertical-align: middle;\n",
       "    }\n",
       "\n",
       "    .dataframe tbody tr th {\n",
       "        vertical-align: top;\n",
       "    }\n",
       "\n",
       "    .dataframe thead th {\n",
       "        text-align: right;\n",
       "    }\n",
       "</style>\n",
       "<table border=\"1\" class=\"dataframe\">\n",
       "  <thead>\n",
       "    <tr style=\"text-align: right;\">\n",
       "      <th></th>\n",
       "      <th>elevation_ft</th>\n",
       "    </tr>\n",
       "  </thead>\n",
       "  <tbody>\n",
       "    <tr>\n",
       "      <th>count</th>\n",
       "      <td>48069.000000</td>\n",
       "    </tr>\n",
       "    <tr>\n",
       "      <th>mean</th>\n",
       "      <td>1240.789677</td>\n",
       "    </tr>\n",
       "    <tr>\n",
       "      <th>std</th>\n",
       "      <td>1602.363459</td>\n",
       "    </tr>\n",
       "    <tr>\n",
       "      <th>min</th>\n",
       "      <td>-1266.000000</td>\n",
       "    </tr>\n",
       "    <tr>\n",
       "      <th>25%</th>\n",
       "      <td>205.000000</td>\n",
       "    </tr>\n",
       "    <tr>\n",
       "      <th>50%</th>\n",
       "      <td>718.000000</td>\n",
       "    </tr>\n",
       "    <tr>\n",
       "      <th>75%</th>\n",
       "      <td>1497.000000</td>\n",
       "    </tr>\n",
       "    <tr>\n",
       "      <th>max</th>\n",
       "      <td>22000.000000</td>\n",
       "    </tr>\n",
       "  </tbody>\n",
       "</table>\n",
       "</div>"
      ],
      "text/plain": [
       "       elevation_ft\n",
       "count  48069.000000\n",
       "mean    1240.789677\n",
       "std     1602.363459\n",
       "min    -1266.000000\n",
       "25%      205.000000\n",
       "50%      718.000000\n",
       "75%     1497.000000\n",
       "max    22000.000000"
      ]
     },
     "execution_count": 17,
     "metadata": {},
     "output_type": "execute_result"
    }
   ],
   "source": [
    "df_codes.describe()"
   ]
  },
  {
   "cell_type": "code",
   "execution_count": 18,
   "metadata": {
    "editable": true
   },
   "outputs": [
    {
     "name": "stdout",
     "output_type": "stream",
     "text": [
      "<class 'pandas.core.frame.DataFrame'>\n",
      "RangeIndex: 55075 entries, 0 to 55074\n",
      "Data columns (total 12 columns):\n",
      "ident           55075 non-null object\n",
      "type            55075 non-null object\n",
      "name            55075 non-null object\n",
      "elevation_ft    48069 non-null float64\n",
      "continent       27356 non-null object\n",
      "iso_country     54828 non-null object\n",
      "iso_region      55075 non-null object\n",
      "municipality    49399 non-null object\n",
      "gps_code        41030 non-null object\n",
      "iata_code       9189 non-null object\n",
      "local_code      28686 non-null object\n",
      "coordinates     55075 non-null object\n",
      "dtypes: float64(1), object(11)\n",
      "memory usage: 5.0+ MB\n"
     ]
    }
   ],
   "source": [
    "df_codes.info()"
   ]
  },
  {
   "cell_type": "code",
   "execution_count": 19,
   "metadata": {
    "editable": true
   },
   "outputs": [
    {
     "data": {
      "text/plain": [
       "array(['00A', '00AA', '00AK', ..., 'FAWT', 'ZEN', 'ZNC'], dtype=object)"
      ]
     },
     "execution_count": 19,
     "metadata": {},
     "output_type": "execute_result"
    }
   ],
   "source": [
    "df_codes.local_code.unique()"
   ]
  },
  {
   "cell_type": "markdown",
   "metadata": {
    "editable": true
   },
   "source": [
    "## US Cities Demographics"
   ]
  },
  {
   "cell_type": "code",
   "execution_count": 3,
   "metadata": {
    "editable": true
   },
   "outputs": [],
   "source": [
    "path_city = 'us-cities-demographics.csv'\n",
    "df_city = pd.read_csv(path_city, delimiter = ';', encoding=\"ISO-8859-1\")"
   ]
  },
  {
   "cell_type": "code",
   "execution_count": 4,
   "metadata": {
    "editable": true
   },
   "outputs": [
    {
     "data": {
      "text/plain": [
       "(2891, 12)"
      ]
     },
     "execution_count": 4,
     "metadata": {},
     "output_type": "execute_result"
    }
   ],
   "source": [
    "df_city.shape"
   ]
  },
  {
   "cell_type": "code",
   "execution_count": 5,
   "metadata": {
    "editable": true
   },
   "outputs": [
    {
     "data": {
      "text/html": [
       "<div>\n",
       "<style scoped>\n",
       "    .dataframe tbody tr th:only-of-type {\n",
       "        vertical-align: middle;\n",
       "    }\n",
       "\n",
       "    .dataframe tbody tr th {\n",
       "        vertical-align: top;\n",
       "    }\n",
       "\n",
       "    .dataframe thead th {\n",
       "        text-align: right;\n",
       "    }\n",
       "</style>\n",
       "<table border=\"1\" class=\"dataframe\">\n",
       "  <thead>\n",
       "    <tr style=\"text-align: right;\">\n",
       "      <th></th>\n",
       "      <th>Median Age</th>\n",
       "      <th>Male Population</th>\n",
       "      <th>Female Population</th>\n",
       "      <th>Total Population</th>\n",
       "      <th>Number of Veterans</th>\n",
       "      <th>Foreign-born</th>\n",
       "      <th>Average Household Size</th>\n",
       "      <th>Count</th>\n",
       "    </tr>\n",
       "  </thead>\n",
       "  <tbody>\n",
       "    <tr>\n",
       "      <th>count</th>\n",
       "      <td>2891.000000</td>\n",
       "      <td>2.888000e+03</td>\n",
       "      <td>2.888000e+03</td>\n",
       "      <td>2.891000e+03</td>\n",
       "      <td>2878.000000</td>\n",
       "      <td>2.878000e+03</td>\n",
       "      <td>2875.000000</td>\n",
       "      <td>2.891000e+03</td>\n",
       "    </tr>\n",
       "    <tr>\n",
       "      <th>mean</th>\n",
       "      <td>35.494881</td>\n",
       "      <td>9.732843e+04</td>\n",
       "      <td>1.017696e+05</td>\n",
       "      <td>1.989668e+05</td>\n",
       "      <td>9367.832523</td>\n",
       "      <td>4.065360e+04</td>\n",
       "      <td>2.742543</td>\n",
       "      <td>4.896377e+04</td>\n",
       "    </tr>\n",
       "    <tr>\n",
       "      <th>std</th>\n",
       "      <td>4.401617</td>\n",
       "      <td>2.162999e+05</td>\n",
       "      <td>2.315646e+05</td>\n",
       "      <td>4.475559e+05</td>\n",
       "      <td>13211.219924</td>\n",
       "      <td>1.557491e+05</td>\n",
       "      <td>0.433291</td>\n",
       "      <td>1.443856e+05</td>\n",
       "    </tr>\n",
       "    <tr>\n",
       "      <th>min</th>\n",
       "      <td>22.900000</td>\n",
       "      <td>2.928100e+04</td>\n",
       "      <td>2.734800e+04</td>\n",
       "      <td>6.321500e+04</td>\n",
       "      <td>416.000000</td>\n",
       "      <td>8.610000e+02</td>\n",
       "      <td>2.000000</td>\n",
       "      <td>9.800000e+01</td>\n",
       "    </tr>\n",
       "    <tr>\n",
       "      <th>25%</th>\n",
       "      <td>32.800000</td>\n",
       "      <td>3.928900e+04</td>\n",
       "      <td>4.122700e+04</td>\n",
       "      <td>8.042900e+04</td>\n",
       "      <td>3739.000000</td>\n",
       "      <td>9.224000e+03</td>\n",
       "      <td>2.430000</td>\n",
       "      <td>3.435000e+03</td>\n",
       "    </tr>\n",
       "    <tr>\n",
       "      <th>50%</th>\n",
       "      <td>35.300000</td>\n",
       "      <td>5.234100e+04</td>\n",
       "      <td>5.380900e+04</td>\n",
       "      <td>1.067820e+05</td>\n",
       "      <td>5397.000000</td>\n",
       "      <td>1.882200e+04</td>\n",
       "      <td>2.650000</td>\n",
       "      <td>1.378000e+04</td>\n",
       "    </tr>\n",
       "    <tr>\n",
       "      <th>75%</th>\n",
       "      <td>38.000000</td>\n",
       "      <td>8.664175e+04</td>\n",
       "      <td>8.960400e+04</td>\n",
       "      <td>1.752320e+05</td>\n",
       "      <td>9368.000000</td>\n",
       "      <td>3.397175e+04</td>\n",
       "      <td>2.950000</td>\n",
       "      <td>5.444700e+04</td>\n",
       "    </tr>\n",
       "    <tr>\n",
       "      <th>max</th>\n",
       "      <td>70.500000</td>\n",
       "      <td>4.081698e+06</td>\n",
       "      <td>4.468707e+06</td>\n",
       "      <td>8.550405e+06</td>\n",
       "      <td>156961.000000</td>\n",
       "      <td>3.212500e+06</td>\n",
       "      <td>4.980000</td>\n",
       "      <td>3.835726e+06</td>\n",
       "    </tr>\n",
       "  </tbody>\n",
       "</table>\n",
       "</div>"
      ],
      "text/plain": [
       "        Median Age  Male Population  Female Population  Total Population  \\\n",
       "count  2891.000000     2.888000e+03       2.888000e+03      2.891000e+03   \n",
       "mean     35.494881     9.732843e+04       1.017696e+05      1.989668e+05   \n",
       "std       4.401617     2.162999e+05       2.315646e+05      4.475559e+05   \n",
       "min      22.900000     2.928100e+04       2.734800e+04      6.321500e+04   \n",
       "25%      32.800000     3.928900e+04       4.122700e+04      8.042900e+04   \n",
       "50%      35.300000     5.234100e+04       5.380900e+04      1.067820e+05   \n",
       "75%      38.000000     8.664175e+04       8.960400e+04      1.752320e+05   \n",
       "max      70.500000     4.081698e+06       4.468707e+06      8.550405e+06   \n",
       "\n",
       "       Number of Veterans  Foreign-born  Average Household Size         Count  \n",
       "count         2878.000000  2.878000e+03             2875.000000  2.891000e+03  \n",
       "mean          9367.832523  4.065360e+04                2.742543  4.896377e+04  \n",
       "std          13211.219924  1.557491e+05                0.433291  1.443856e+05  \n",
       "min            416.000000  8.610000e+02                2.000000  9.800000e+01  \n",
       "25%           3739.000000  9.224000e+03                2.430000  3.435000e+03  \n",
       "50%           5397.000000  1.882200e+04                2.650000  1.378000e+04  \n",
       "75%           9368.000000  3.397175e+04                2.950000  5.444700e+04  \n",
       "max         156961.000000  3.212500e+06                4.980000  3.835726e+06  "
      ]
     },
     "execution_count": 5,
     "metadata": {},
     "output_type": "execute_result"
    }
   ],
   "source": [
    "df_city.describe()"
   ]
  },
  {
   "cell_type": "code",
   "execution_count": 6,
   "metadata": {
    "editable": true
   },
   "outputs": [
    {
     "name": "stdout",
     "output_type": "stream",
     "text": [
      "<class 'pandas.core.frame.DataFrame'>\n",
      "RangeIndex: 2891 entries, 0 to 2890\n",
      "Data columns (total 12 columns):\n",
      "City                      2891 non-null object\n",
      "State                     2891 non-null object\n",
      "Median Age                2891 non-null float64\n",
      "Male Population           2888 non-null float64\n",
      "Female Population         2888 non-null float64\n",
      "Total Population          2891 non-null int64\n",
      "Number of Veterans        2878 non-null float64\n",
      "Foreign-born              2878 non-null float64\n",
      "Average Household Size    2875 non-null float64\n",
      "State Code                2891 non-null object\n",
      "Race                      2891 non-null object\n",
      "Count                     2891 non-null int64\n",
      "dtypes: float64(6), int64(2), object(4)\n",
      "memory usage: 271.1+ KB\n"
     ]
    }
   ],
   "source": [
    "df_city.info()"
   ]
  },
  {
   "cell_type": "code",
   "execution_count": 7,
   "metadata": {
    "editable": true
   },
   "outputs": [
    {
     "data": {
      "text/html": [
       "<div>\n",
       "<style scoped>\n",
       "    .dataframe tbody tr th:only-of-type {\n",
       "        vertical-align: middle;\n",
       "    }\n",
       "\n",
       "    .dataframe tbody tr th {\n",
       "        vertical-align: top;\n",
       "    }\n",
       "\n",
       "    .dataframe thead th {\n",
       "        text-align: right;\n",
       "    }\n",
       "</style>\n",
       "<table border=\"1\" class=\"dataframe\">\n",
       "  <thead>\n",
       "    <tr style=\"text-align: right;\">\n",
       "      <th></th>\n",
       "      <th>City</th>\n",
       "      <th>State</th>\n",
       "      <th>Median Age</th>\n",
       "      <th>Male Population</th>\n",
       "      <th>Female Population</th>\n",
       "      <th>Total Population</th>\n",
       "      <th>Number of Veterans</th>\n",
       "      <th>Foreign-born</th>\n",
       "      <th>Average Household Size</th>\n",
       "      <th>State Code</th>\n",
       "      <th>Race</th>\n",
       "      <th>Count</th>\n",
       "    </tr>\n",
       "  </thead>\n",
       "  <tbody>\n",
       "    <tr>\n",
       "      <th>0</th>\n",
       "      <td>Silver Spring</td>\n",
       "      <td>Maryland</td>\n",
       "      <td>33.8</td>\n",
       "      <td>40601.0</td>\n",
       "      <td>41862.0</td>\n",
       "      <td>82463</td>\n",
       "      <td>1562.0</td>\n",
       "      <td>30908.0</td>\n",
       "      <td>2.60</td>\n",
       "      <td>MD</td>\n",
       "      <td>Hispanic or Latino</td>\n",
       "      <td>25924</td>\n",
       "    </tr>\n",
       "    <tr>\n",
       "      <th>1</th>\n",
       "      <td>Quincy</td>\n",
       "      <td>Massachusetts</td>\n",
       "      <td>41.0</td>\n",
       "      <td>44129.0</td>\n",
       "      <td>49500.0</td>\n",
       "      <td>93629</td>\n",
       "      <td>4147.0</td>\n",
       "      <td>32935.0</td>\n",
       "      <td>2.39</td>\n",
       "      <td>MA</td>\n",
       "      <td>White</td>\n",
       "      <td>58723</td>\n",
       "    </tr>\n",
       "    <tr>\n",
       "      <th>2</th>\n",
       "      <td>Hoover</td>\n",
       "      <td>Alabama</td>\n",
       "      <td>38.5</td>\n",
       "      <td>38040.0</td>\n",
       "      <td>46799.0</td>\n",
       "      <td>84839</td>\n",
       "      <td>4819.0</td>\n",
       "      <td>8229.0</td>\n",
       "      <td>2.58</td>\n",
       "      <td>AL</td>\n",
       "      <td>Asian</td>\n",
       "      <td>4759</td>\n",
       "    </tr>\n",
       "    <tr>\n",
       "      <th>3</th>\n",
       "      <td>Rancho Cucamonga</td>\n",
       "      <td>California</td>\n",
       "      <td>34.5</td>\n",
       "      <td>88127.0</td>\n",
       "      <td>87105.0</td>\n",
       "      <td>175232</td>\n",
       "      <td>5821.0</td>\n",
       "      <td>33878.0</td>\n",
       "      <td>3.18</td>\n",
       "      <td>CA</td>\n",
       "      <td>Black or African-American</td>\n",
       "      <td>24437</td>\n",
       "    </tr>\n",
       "    <tr>\n",
       "      <th>4</th>\n",
       "      <td>Newark</td>\n",
       "      <td>New Jersey</td>\n",
       "      <td>34.6</td>\n",
       "      <td>138040.0</td>\n",
       "      <td>143873.0</td>\n",
       "      <td>281913</td>\n",
       "      <td>5829.0</td>\n",
       "      <td>86253.0</td>\n",
       "      <td>2.73</td>\n",
       "      <td>NJ</td>\n",
       "      <td>White</td>\n",
       "      <td>76402</td>\n",
       "    </tr>\n",
       "  </tbody>\n",
       "</table>\n",
       "</div>"
      ],
      "text/plain": [
       "               City          State  Median Age  Male Population  \\\n",
       "0     Silver Spring       Maryland        33.8          40601.0   \n",
       "1            Quincy  Massachusetts        41.0          44129.0   \n",
       "2            Hoover        Alabama        38.5          38040.0   \n",
       "3  Rancho Cucamonga     California        34.5          88127.0   \n",
       "4            Newark     New Jersey        34.6         138040.0   \n",
       "\n",
       "   Female Population  Total Population  Number of Veterans  Foreign-born  \\\n",
       "0            41862.0             82463              1562.0       30908.0   \n",
       "1            49500.0             93629              4147.0       32935.0   \n",
       "2            46799.0             84839              4819.0        8229.0   \n",
       "3            87105.0            175232              5821.0       33878.0   \n",
       "4           143873.0            281913              5829.0       86253.0   \n",
       "\n",
       "   Average Household Size State Code                       Race  Count  \n",
       "0                    2.60         MD         Hispanic or Latino  25924  \n",
       "1                    2.39         MA                      White  58723  \n",
       "2                    2.58         AL                      Asian   4759  \n",
       "3                    3.18         CA  Black or African-American  24437  \n",
       "4                    2.73         NJ                      White  76402  "
      ]
     },
     "execution_count": 7,
     "metadata": {},
     "output_type": "execute_result"
    }
   ],
   "source": [
    "df_city.head()"
   ]
  },
  {
   "cell_type": "code",
   "execution_count": 18,
   "metadata": {
    "editable": true
   },
   "outputs": [
    {
     "data": {
      "text/plain": [
       "array(['Maryland', 'Massachusetts', 'Alabama', 'California', 'New Jersey',\n",
       "       'Illinois', 'Arizona', 'Missouri', 'North Carolina', 'Pennsylvania',\n",
       "       'Kansas', 'Florida', 'Texas', 'Virginia', 'Nevada', 'Colorado',\n",
       "       'Michigan', 'Connecticut', 'Minnesota', 'Utah', 'Arkansas',\n",
       "       'Tennessee', 'Oklahoma', 'Washington', 'New York', 'Georgia',\n",
       "       'Nebraska', 'Kentucky', 'South Carolina', 'Louisiana', 'New Mexico',\n",
       "       'Iowa', 'Rhode Island', 'Puerto Rico', 'District of Columbia',\n",
       "       'Wisconsin', 'Oregon', 'New Hampshire', 'North Dakota', 'Delaware',\n",
       "       'Ohio', 'Idaho', 'Indiana', 'Alaska', 'Mississippi', 'Hawaii',\n",
       "       'South Dakota', 'Maine', 'Montana'], dtype=object)"
      ]
     },
     "execution_count": 18,
     "metadata": {},
     "output_type": "execute_result"
    }
   ],
   "source": [
    "df_city.State.unique()"
   ]
  },
  {
   "cell_type": "code",
   "execution_count": 13,
   "metadata": {
    "editable": true
   },
   "outputs": [],
   "source": [
    "from pyspark.sql import SparkSession\n",
    "\n",
    "spark = SparkSession.builder.\\\n",
    "config(\"spark.jars.repositories\", \"https://repos.spark-packages.org/\").\\\n",
    "config(\"spark.jars.packages\", \"saurfang:spark-sas7bdat:2.0.0-s_2.11\").\\\n",
    "enableHiveSupport().getOrCreate()\n",
    "\n",
    "df_spark = spark.read.format('com.github.saurfang.sas.spark').load('../../data/18-83510-I94-Data-2016/i94_apr16_sub.sas7bdat')\n"
   ]
  },
  {
   "cell_type": "code",
   "execution_count": 15,
   "metadata": {
    "editable": true
   },
   "outputs": [],
   "source": [
    "#write to parquet\n",
    "#df_spark.write.parquet(\"sas_data\")\n",
    "df_spark=spark.read.parquet(\"sas_data\")"
   ]
  },
  {
   "cell_type": "code",
   "execution_count": 16,
   "metadata": {
    "editable": true
   },
   "outputs": [
    {
     "data": {
      "text/plain": [
       "DataFrame[cicid: double, i94yr: double, i94mon: double, i94cit: double, i94res: double, i94port: string, arrdate: double, i94mode: double, i94addr: string, depdate: double, i94bir: double, i94visa: double, count: double, dtadfile: string, visapost: string, occup: string, entdepa: string, entdepd: string, entdepu: string, matflag: string, biryear: double, dtaddto: string, gender: string, insnum: string, airline: string, admnum: double, fltno: string, visatype: string]"
      ]
     },
     "execution_count": 16,
     "metadata": {},
     "output_type": "execute_result"
    }
   ],
   "source": [
    "df_spark"
   ]
  },
  {
   "cell_type": "code",
   "execution_count": 27,
   "metadata": {
    "editable": true
   },
   "outputs": [
    {
     "data": {
      "text/plain": [
       "array(['HI', 'TX', 'FL', 'CA', 'NY', 'GA', 'IL', nan, 'MA', 'NV', 'PA',\n",
       "       'GU', 'NC', 'NJ', 'VT', 'WA', 'NE', 'VA', 'MP', 'IN', 'MO', 'MI',\n",
       "       'OR', 'MN', 'UN', 'ID', 'AZ', 'KY', 'SC', 'MS', 'MD', 'TN', 'OH',\n",
       "       'CT', 'KS', 'DC', 'IA', 'LA', 'VQ', 'PR', 'CO', 'AL', 'SW', 'NM',\n",
       "       'UT', 'OK', 'NH', 'TE', 'ME', 'AR', 'RI', 'WI'], dtype=object)"
      ]
     },
     "execution_count": 27,
     "metadata": {},
     "output_type": "execute_result"
    }
   ],
   "source": [
    "df['i94addr'].unique()"
   ]
  },
  {
   "cell_type": "code",
   "execution_count": 42,
   "metadata": {
    "editable": true
   },
   "outputs": [],
   "source": [
    "import numpy as np"
   ]
  },
  {
   "cell_type": "code",
   "execution_count": 46,
   "metadata": {
    "editable": true
   },
   "outputs": [
    {
     "data": {
      "text/plain": [
       "array(['HI', 'TX', 'FL', 'CA', 'NY', 'GA', 'IL', nan, 'MA', 'NV', 'PA',\n",
       "       'GU', 'NC', 'NJ', 'VT', 'WA', 'NE', 'VA', 'MP', 'IN', 'MO', 'MI',\n",
       "       'OR', 'MN', 'UN', 'ID', 'AZ', 'KY', 'SC', 'MS', 'MD', 'TN', 'OH',\n",
       "       'CT', 'KS', 'DC', 'IA', 'LA', 'VQ', 'PR', 'CO', 'AL', 'SW', 'NM',\n",
       "       'UT', 'OK', 'NH', 'TE', 'ME', 'AR', 'RI', 'WI'], dtype=object)"
      ]
     },
     "execution_count": 46,
     "metadata": {},
     "output_type": "execute_result"
    }
   ],
   "source": [
    "df.i94addr.unique()"
   ]
  },
  {
   "cell_type": "code",
   "execution_count": 51,
   "metadata": {
    "editable": true
   },
   "outputs": [
    {
     "data": {
      "text/plain": [
       "array(['MD', 'MA', 'AL', 'CA', 'NJ', 'IL', 'AZ', 'MO', 'NC', 'PA', 'KS',\n",
       "       'FL', 'TX', 'VA', 'NV', 'CO', 'MI', 'CT', 'MN', 'UT', 'AR', 'TN',\n",
       "       'OK', 'WA', 'NY', 'GA', 'NE', 'KY', 'SC', 'LA', 'NM', 'IA', 'RI',\n",
       "       'PR', 'DC', 'WI', 'OR', 'NH', 'ND', 'DE', 'OH', 'ID', 'IN', 'AK',\n",
       "       'MS', 'HI', 'SD', 'ME', 'MT'], dtype=object)"
      ]
     },
     "execution_count": 51,
     "metadata": {},
     "output_type": "execute_result"
    }
   ],
   "source": [
    "df_city['State Code'].unique()"
   ]
  },
  {
   "cell_type": "code",
   "execution_count": 2,
   "metadata": {
    "editable": true
   },
   "outputs": [],
   "source": [
    "path_sas = 'country_code.csv'"
   ]
  },
  {
   "cell_type": "code",
   "execution_count": 3,
   "metadata": {
    "editable": true
   },
   "outputs": [],
   "source": [
    "df_country = pd.read_csv(path_sas, delimiter = '|')"
   ]
  },
  {
   "cell_type": "code",
   "execution_count": 5,
   "metadata": {
    "editable": true
   },
   "outputs": [
    {
     "data": {
      "text/plain": [
       "(289, 1)"
      ]
     },
     "execution_count": 5,
     "metadata": {},
     "output_type": "execute_result"
    }
   ],
   "source": [
    "df_country.shape"
   ]
  },
  {
   "cell_type": "markdown",
   "metadata": {
    "editable": true
   },
   "source": [
    "### Step 2: Explore and Assess the Data\n",
    "#### Explore the Data \n",
    "Identify data quality issues, like missing values, duplicate data, etc.\n",
    "\n",
    "#### Cleaning Steps\n",
    "Document steps necessary to clean the data"
   ]
  },
  {
   "cell_type": "markdown",
   "metadata": {
    "editable": true
   },
   "source": [
    "### GET THE DIMENSIONS"
   ]
  },
  {
   "cell_type": "code",
   "execution_count": 55,
   "metadata": {
    "editable": true
   },
   "outputs": [],
   "source": [
    "def cleaning_data(x):\n",
    "    temp = x\n",
    "    temp = temp.str.strip()\n",
    "    temp = temp.str.upper()\n",
    "    temp = temp.str.replace(\"'\", \"\")\n",
    "    temp = temp.str.replace(\",|-|\\.\", \"\")\n",
    "    temp = temp.str.replace(\".*UNKNOWN.*|.*NO PORT.*|INVALID.*|COLLAPSED.*|NO COUNTRY.*\", \"TO BE DETERMINATED\", regex = True)\n",
    "    return temp"
   ]
  },
  {
   "cell_type": "markdown",
   "metadata": {
    "editable": true
   },
   "source": [
    "### Country Code"
   ]
  },
  {
   "cell_type": "code",
   "execution_count": 232,
   "metadata": {
    "editable": true
   },
   "outputs": [],
   "source": [
    "path = 'sources/country_code.csv'\n",
    "df_country = pd.read_csv(path, delimiter = '=', engine='python')"
   ]
  },
  {
   "cell_type": "code",
   "execution_count": 233,
   "metadata": {
    "editable": true
   },
   "outputs": [],
   "source": [
    "df_country.columns = df_country.columns.str.strip()\n",
    "df_country.columns = df_country.columns.str.replace(\"'\", \"\")"
   ]
  },
  {
   "cell_type": "code",
   "execution_count": 234,
   "metadata": {
    "editable": true
   },
   "outputs": [],
   "source": [
    "df_country = df_country.apply(lambda x:  cleaning_data(x) if x.dtypes == 'object' else x)"
   ]
  },
  {
   "cell_type": "code",
   "execution_count": 235,
   "metadata": {
    "editable": true
   },
   "outputs": [
    {
     "data": {
      "text/plain": [
       "(289, 2)"
      ]
     },
     "execution_count": 235,
     "metadata": {},
     "output_type": "execute_result"
    }
   ],
   "source": [
    "df_country.shape"
   ]
  },
  {
   "cell_type": "code",
   "execution_count": 236,
   "metadata": {
    "editable": true
   },
   "outputs": [],
   "source": [
    "df_country = df_country.dropna()\n",
    "df_country = df_country.drop_duplicates()"
   ]
  },
  {
   "cell_type": "code",
   "execution_count": 237,
   "metadata": {
    "editable": true
   },
   "outputs": [
    {
     "data": {
      "text/plain": [
       "(289, 2)"
      ]
     },
     "execution_count": 237,
     "metadata": {},
     "output_type": "execute_result"
    }
   ],
   "source": [
    "df_country.shape"
   ]
  },
  {
   "cell_type": "code",
   "execution_count": 238,
   "metadata": {
    "editable": true
   },
   "outputs": [
    {
     "data": {
      "text/html": [
       "<div>\n",
       "<style scoped>\n",
       "    .dataframe tbody tr th:only-of-type {\n",
       "        vertical-align: middle;\n",
       "    }\n",
       "\n",
       "    .dataframe tbody tr th {\n",
       "        vertical-align: top;\n",
       "    }\n",
       "\n",
       "    .dataframe thead th {\n",
       "        text-align: right;\n",
       "    }\n",
       "</style>\n",
       "<table border=\"1\" class=\"dataframe\">\n",
       "  <thead>\n",
       "    <tr style=\"text-align: right;\">\n",
       "      <th></th>\n",
       "      <th>Code</th>\n",
       "      <th>Country</th>\n",
       "    </tr>\n",
       "  </thead>\n",
       "  <tbody>\n",
       "    <tr>\n",
       "      <th>0</th>\n",
       "      <td>582</td>\n",
       "      <td>MEXICO AIR SEA AND NOT REPORTED (I94 NO LAND A...</td>\n",
       "    </tr>\n",
       "    <tr>\n",
       "      <th>1</th>\n",
       "      <td>236</td>\n",
       "      <td>AFGHANISTAN</td>\n",
       "    </tr>\n",
       "    <tr>\n",
       "      <th>2</th>\n",
       "      <td>101</td>\n",
       "      <td>ALBANIA</td>\n",
       "    </tr>\n",
       "    <tr>\n",
       "      <th>3</th>\n",
       "      <td>316</td>\n",
       "      <td>ALGERIA</td>\n",
       "    </tr>\n",
       "    <tr>\n",
       "      <th>4</th>\n",
       "      <td>102</td>\n",
       "      <td>ANDORRA</td>\n",
       "    </tr>\n",
       "  </tbody>\n",
       "</table>\n",
       "</div>"
      ],
      "text/plain": [
       "   Code                                            Country\n",
       "0   582  MEXICO AIR SEA AND NOT REPORTED (I94 NO LAND A...\n",
       "1   236                                        AFGHANISTAN\n",
       "2   101                                            ALBANIA\n",
       "3   316                                            ALGERIA\n",
       "4   102                                            ANDORRA"
      ]
     },
     "execution_count": 238,
     "metadata": {},
     "output_type": "execute_result"
    }
   ],
   "source": [
    "df_country.head()"
   ]
  },
  {
   "cell_type": "code",
   "execution_count": 239,
   "metadata": {
    "editable": true
   },
   "outputs": [],
   "source": [
    "to_ins = spark.createDataFrame(df_country)"
   ]
  },
  {
   "cell_type": "code",
   "execution_count": 240,
   "metadata": {
    "editable": true
   },
   "outputs": [],
   "source": [
    "to_ins.write.mode('overwrite').parquet('dimensions/dim_countries')"
   ]
  },
  {
   "cell_type": "markdown",
   "metadata": {
    "editable": true
   },
   "source": [
    "### Port Code"
   ]
  },
  {
   "cell_type": "code",
   "execution_count": 154,
   "metadata": {
    "editable": true
   },
   "outputs": [],
   "source": [
    "path = 'stages/port_code.csv'\n",
    "df_port = pd.read_csv(path, delimiter = '=', engine = 'python')"
   ]
  },
  {
   "cell_type": "code",
   "execution_count": 155,
   "metadata": {
    "editable": true
   },
   "outputs": [
    {
     "data": {
      "text/plain": [
       "(660, 2)"
      ]
     },
     "execution_count": 155,
     "metadata": {},
     "output_type": "execute_result"
    }
   ],
   "source": [
    "df_port.shape"
   ]
  },
  {
   "cell_type": "code",
   "execution_count": 156,
   "metadata": {
    "editable": true
   },
   "outputs": [],
   "source": [
    "df_port.columns = df_port.columns.str.strip()\n",
    "df_port.columns = df_port.columns.str.replace(\"'\", \"\")"
   ]
  },
  {
   "cell_type": "code",
   "execution_count": 157,
   "metadata": {
    "editable": true
   },
   "outputs": [],
   "source": [
    "df_port.CITY = df_port.CITY.str.replace(',', '|')"
   ]
  },
  {
   "cell_type": "code",
   "execution_count": 158,
   "metadata": {
    "editable": true
   },
   "outputs": [],
   "source": [
    "df_port = df_port.apply(lambda x: cleaning_data(x) if x.dtypes == 'object' else x)"
   ]
  },
  {
   "cell_type": "code",
   "execution_count": 159,
   "metadata": {
    "editable": true
   },
   "outputs": [
    {
     "data": {
      "text/plain": [
       "(660, 2)"
      ]
     },
     "execution_count": 159,
     "metadata": {},
     "output_type": "execute_result"
    }
   ],
   "source": [
    "#chunk = df_port[~df_port.PORT.isin(df_codes.local_code.unique())].copy()\n",
    "df_port.shape"
   ]
  },
  {
   "cell_type": "code",
   "execution_count": 160,
   "metadata": {
    "editable": true
   },
   "outputs": [],
   "source": [
    "chunk = df_port.copy()"
   ]
  },
  {
   "cell_type": "code",
   "execution_count": 161,
   "metadata": {
    "editable": true
   },
   "outputs": [],
   "source": [
    "temp = chunk.CITY.str.split('|', expand = True).copy()"
   ]
  },
  {
   "cell_type": "code",
   "execution_count": 162,
   "metadata": {
    "editable": true
   },
   "outputs": [],
   "source": [
    "temp = temp.apply(lambda x: x.str.strip())"
   ]
  },
  {
   "cell_type": "code",
   "execution_count": 163,
   "metadata": {
    "editable": true
   },
   "outputs": [],
   "source": [
    "temp.columns = ['CITY', 'STATE', 'OTHER']"
   ]
  },
  {
   "cell_type": "code",
   "execution_count": 164,
   "metadata": {
    "editable": true
   },
   "outputs": [],
   "source": [
    "temp.fillna(\"TO BE DETERMINATED\", inplace = True)"
   ]
  },
  {
   "cell_type": "code",
   "execution_count": 165,
   "metadata": {
    "editable": true
   },
   "outputs": [],
   "source": [
    "temp2 = temp[(temp.STATE.str.len() > 2) & \\\n",
    "     (temp.STATE.str.contains(\"\\(\", regex = True) == False) & \\\n",
    "     (temp.STATE != 'TO BE DETERMINATED')].copy()"
   ]
  },
  {
   "cell_type": "code",
   "execution_count": 166,
   "metadata": {
    "editable": true
   },
   "outputs": [],
   "source": [
    "temp3 = temp2[(temp2.OTHER != 'TO BE DETERMINATED') & (temp2.OTHER.str.len() > 2)].copy()"
   ]
  },
  {
   "cell_type": "code",
   "execution_count": 167,
   "metadata": {
    "editable": true
   },
   "outputs": [],
   "source": [
    "temp2['CITY'] = temp2['CITY'] + ' ' + temp2['STATE']"
   ]
  },
  {
   "cell_type": "code",
   "execution_count": 168,
   "metadata": {
    "editable": true
   },
   "outputs": [],
   "source": [
    "temp2['STATE'] = temp2['OTHER']"
   ]
  },
  {
   "cell_type": "code",
   "execution_count": 169,
   "metadata": {
    "editable": true
   },
   "outputs": [],
   "source": [
    "temp3['CITY'] = temp3['CITY'] + ' ' + temp3['STATE'] + ' ' + temp3['OTHER']"
   ]
  },
  {
   "cell_type": "code",
   "execution_count": 170,
   "metadata": {
    "editable": true
   },
   "outputs": [],
   "source": [
    "temp3['STATE'] = 'TO BE DETERMINATED'"
   ]
  },
  {
   "cell_type": "code",
   "execution_count": 171,
   "metadata": {
    "editable": true
   },
   "outputs": [],
   "source": [
    "temp2.loc[temp3.index, :] = temp3"
   ]
  },
  {
   "cell_type": "code",
   "execution_count": 172,
   "metadata": {
    "editable": true
   },
   "outputs": [],
   "source": [
    "temp2['OTHER'] = 'TO BE DETERMINATED'"
   ]
  },
  {
   "cell_type": "code",
   "execution_count": 173,
   "metadata": {
    "editable": true
   },
   "outputs": [],
   "source": [
    "temp.loc[temp2.index, :] = temp2"
   ]
  },
  {
   "cell_type": "code",
   "execution_count": 174,
   "metadata": {
    "editable": true
   },
   "outputs": [],
   "source": [
    "chunk.loc[temp.index, 'CITY'] = temp['CITY']"
   ]
  },
  {
   "cell_type": "code",
   "execution_count": 175,
   "metadata": {
    "editable": true
   },
   "outputs": [],
   "source": [
    "chunk['STATE'] = temp['STATE']"
   ]
  },
  {
   "cell_type": "code",
   "execution_count": 176,
   "metadata": {
    "editable": true
   },
   "outputs": [
    {
     "data": {
      "text/plain": [
       "PORT     0\n",
       "CITY     0\n",
       "STATE    0\n",
       "dtype: int64"
      ]
     },
     "execution_count": 176,
     "metadata": {},
     "output_type": "execute_result"
    }
   ],
   "source": [
    "chunk.isna().sum()"
   ]
  },
  {
   "cell_type": "code",
   "execution_count": 177,
   "metadata": {
    "editable": true
   },
   "outputs": [],
   "source": [
    "chunk.columns = ['local_code', 'municipality', 'state']"
   ]
  },
  {
   "cell_type": "code",
   "execution_count": 178,
   "metadata": {
    "editable": true
   },
   "outputs": [
    {
     "data": {
      "text/html": [
       "<div>\n",
       "<style scoped>\n",
       "    .dataframe tbody tr th:only-of-type {\n",
       "        vertical-align: middle;\n",
       "    }\n",
       "\n",
       "    .dataframe tbody tr th {\n",
       "        vertical-align: top;\n",
       "    }\n",
       "\n",
       "    .dataframe thead th {\n",
       "        text-align: right;\n",
       "    }\n",
       "</style>\n",
       "<table border=\"1\" class=\"dataframe\">\n",
       "  <thead>\n",
       "    <tr style=\"text-align: right;\">\n",
       "      <th></th>\n",
       "      <th>local_code</th>\n",
       "      <th>municipality</th>\n",
       "      <th>state</th>\n",
       "    </tr>\n",
       "  </thead>\n",
       "  <tbody>\n",
       "    <tr>\n",
       "      <th>0</th>\n",
       "      <td>ALC</td>\n",
       "      <td>ALCAN</td>\n",
       "      <td>AK</td>\n",
       "    </tr>\n",
       "    <tr>\n",
       "      <th>1</th>\n",
       "      <td>ANC</td>\n",
       "      <td>ANCHORAGE</td>\n",
       "      <td>AK</td>\n",
       "    </tr>\n",
       "    <tr>\n",
       "      <th>2</th>\n",
       "      <td>BAR</td>\n",
       "      <td>BAKER AAF  BAKER ISLAND</td>\n",
       "      <td>AK</td>\n",
       "    </tr>\n",
       "    <tr>\n",
       "      <th>3</th>\n",
       "      <td>DAC</td>\n",
       "      <td>DALTONS CACHE</td>\n",
       "      <td>AK</td>\n",
       "    </tr>\n",
       "    <tr>\n",
       "      <th>4</th>\n",
       "      <td>PIZ</td>\n",
       "      <td>DEW STATION PT LAY DEW</td>\n",
       "      <td>AK</td>\n",
       "    </tr>\n",
       "  </tbody>\n",
       "</table>\n",
       "</div>"
      ],
      "text/plain": [
       "  local_code             municipality state\n",
       "0        ALC                    ALCAN    AK\n",
       "1        ANC                ANCHORAGE    AK\n",
       "2        BAR  BAKER AAF  BAKER ISLAND    AK\n",
       "3        DAC            DALTONS CACHE    AK\n",
       "4        PIZ   DEW STATION PT LAY DEW    AK"
      ]
     },
     "execution_count": 178,
     "metadata": {},
     "output_type": "execute_result"
    }
   ],
   "source": [
    "chunk.head()"
   ]
  },
  {
   "cell_type": "code",
   "execution_count": 203,
   "metadata": {
    "editable": true
   },
   "outputs": [],
   "source": [
    "dim_airports = spark.read.parquet(\"dimensions/dim_airports\")"
   ]
  },
  {
   "cell_type": "code",
   "execution_count": 180,
   "metadata": {
    "editable": true
   },
   "outputs": [
    {
     "name": "stdout",
     "output_type": "stream",
     "text": [
      "root\n",
      " |-- ident: string (nullable = true)\n",
      " |-- type: string (nullable = true)\n",
      " |-- name: string (nullable = true)\n",
      " |-- elevation_ft: integer (nullable = true)\n",
      " |-- iso_country: string (nullable = true)\n",
      " |-- municipality: string (nullable = true)\n",
      " |-- gps_code: string (nullable = true)\n",
      " |-- iata_code: string (nullable = true)\n",
      " |-- latitude: double (nullable = true)\n",
      " |-- longitude: double (nullable = true)\n",
      " |-- state: string (nullable = true)\n",
      " |-- local_code: string (nullable = true)\n",
      "\n"
     ]
    }
   ],
   "source": [
    "dim_airports.printSchema()"
   ]
  },
  {
   "cell_type": "code",
   "execution_count": 181,
   "metadata": {
    "editable": true
   },
   "outputs": [],
   "source": [
    "chunk['ident'] = 'TO BE DETERMINATED'\n",
    "chunk['type'] = 'TO BE DETERMINATED'\n",
    "chunk['name'] = 'TO BE DETERMINATED'\n",
    "chunk['elevation_ft'] = -1\n",
    "chunk['iso_country'] = 'TO BE DETERMINATED'\n",
    "chunk['gps_code'] = 'TO BE DETERMINATED'\n",
    "chunk['iata_code'] = 'TO BE DETERMINATED'\n",
    "chunk['latitude'] = -1.0\n",
    "chunk['longitude'] = -1.0"
   ]
  },
  {
   "cell_type": "code",
   "execution_count": 182,
   "metadata": {
    "editable": true
   },
   "outputs": [],
   "source": [
    "chunk = chunk[dim_airports.columns]"
   ]
  },
  {
   "cell_type": "code",
   "execution_count": 202,
   "metadata": {
    "editable": true
   },
   "outputs": [],
   "source": [
    "to_ins = spark.createDataFrame(chunk)"
   ]
  },
  {
   "cell_type": "code",
   "execution_count": 184,
   "metadata": {
    "editable": true
   },
   "outputs": [
    {
     "data": {
      "text/plain": [
       "['ident',\n",
       " 'type',\n",
       " 'name',\n",
       " 'elevation_ft',\n",
       " 'iso_country',\n",
       " 'municipality',\n",
       " 'gps_code',\n",
       " 'iata_code',\n",
       " 'latitude',\n",
       " 'longitude',\n",
       " 'state',\n",
       " 'local_code']"
      ]
     },
     "execution_count": 184,
     "metadata": {},
     "output_type": "execute_result"
    }
   ],
   "source": [
    "to_ins.columns"
   ]
  },
  {
   "cell_type": "code",
   "execution_count": 204,
   "metadata": {
    "editable": true
   },
   "outputs": [],
   "source": [
    "to_ins = to_ins.join(dim_airports, to_ins.local_code == dim_airports.local_code, \"left_outer\") \\\n",
    "        .where(dim_airports.local_code.isNull()) \\\n",
    "        .select(to_ins.ident, to_ins.type, to_ins.name, to_ins.elevation_ft, to_ins.iso_country, \\\n",
    "               to_ins.municipality, to_ins.gps_code, to_ins.iata_code, to_ins.latitude, \\\n",
    "               to_ins.longitude, to_ins.state, to_ins.local_code)"
   ]
  },
  {
   "cell_type": "code",
   "execution_count": 205,
   "metadata": {
    "editable": true
   },
   "outputs": [
    {
     "data": {
      "text/plain": [
       "355"
      ]
     },
     "execution_count": 205,
     "metadata": {},
     "output_type": "execute_result"
    }
   ],
   "source": [
    "to_ins.count()"
   ]
  },
  {
   "cell_type": "code",
   "execution_count": 208,
   "metadata": {
    "editable": true
   },
   "outputs": [],
   "source": [
    "to_ins.write.mode('append').partitionBy(['state', 'local_code']).parquet('dimensions/dim_airports')"
   ]
  },
  {
   "cell_type": "code",
   "execution_count": 187,
   "metadata": {
    "editable": true
   },
   "outputs": [
    {
     "data": {
      "text/plain": [
       "21591"
      ]
     },
     "execution_count": 187,
     "metadata": {},
     "output_type": "execute_result"
    }
   ],
   "source": [
    "dim_airports.count()"
   ]
  },
  {
   "cell_type": "markdown",
   "metadata": {
    "editable": true
   },
   "source": [
    "### Mode Stage"
   ]
  },
  {
   "cell_type": "code",
   "execution_count": 211,
   "metadata": {
    "editable": true
   },
   "outputs": [],
   "source": [
    "path = 'sources/mode_code.csv'\n",
    "df_code = pd.read_csv(path, delimiter = '=', engine = 'python')"
   ]
  },
  {
   "cell_type": "code",
   "execution_count": 212,
   "metadata": {
    "editable": true
   },
   "outputs": [],
   "source": [
    "df_code.columns = df_code.columns.str.strip()"
   ]
  },
  {
   "cell_type": "code",
   "execution_count": 213,
   "metadata": {
    "editable": true
   },
   "outputs": [],
   "source": [
    "df_code.columns = df_code.columns.str.replace(\"'\", \"\")\n",
    "df_code.columns = df_code.columns.str.lower()"
   ]
  },
  {
   "cell_type": "code",
   "execution_count": 214,
   "metadata": {
    "editable": true
   },
   "outputs": [],
   "source": [
    "df_code = df_code.apply(lambda x:  cleaning_data(x) if x.dtypes == 'object' else x)"
   ]
  },
  {
   "cell_type": "code",
   "execution_count": 215,
   "metadata": {
    "editable": true
   },
   "outputs": [
    {
     "data": {
      "text/html": [
       "<div>\n",
       "<style scoped>\n",
       "    .dataframe tbody tr th:only-of-type {\n",
       "        vertical-align: middle;\n",
       "    }\n",
       "\n",
       "    .dataframe tbody tr th {\n",
       "        vertical-align: top;\n",
       "    }\n",
       "\n",
       "    .dataframe thead th {\n",
       "        text-align: right;\n",
       "    }\n",
       "</style>\n",
       "<table border=\"1\" class=\"dataframe\">\n",
       "  <thead>\n",
       "    <tr style=\"text-align: right;\">\n",
       "      <th></th>\n",
       "      <th>code</th>\n",
       "      <th>mode</th>\n",
       "    </tr>\n",
       "  </thead>\n",
       "  <tbody>\n",
       "    <tr>\n",
       "      <th>0</th>\n",
       "      <td>1</td>\n",
       "      <td>AIR</td>\n",
       "    </tr>\n",
       "    <tr>\n",
       "      <th>1</th>\n",
       "      <td>2</td>\n",
       "      <td>SEA</td>\n",
       "    </tr>\n",
       "    <tr>\n",
       "      <th>2</th>\n",
       "      <td>3</td>\n",
       "      <td>LAND</td>\n",
       "    </tr>\n",
       "    <tr>\n",
       "      <th>3</th>\n",
       "      <td>9</td>\n",
       "      <td>NOT REPORTED</td>\n",
       "    </tr>\n",
       "  </tbody>\n",
       "</table>\n",
       "</div>"
      ],
      "text/plain": [
       "   code          mode\n",
       "0     1           AIR\n",
       "1     2           SEA\n",
       "2     3          LAND\n",
       "3     9  NOT REPORTED"
      ]
     },
     "execution_count": 215,
     "metadata": {},
     "output_type": "execute_result"
    }
   ],
   "source": [
    "df_code"
   ]
  },
  {
   "cell_type": "code",
   "execution_count": 216,
   "metadata": {
    "editable": true
   },
   "outputs": [],
   "source": [
    "to_ins = spark.createDataFrame(df_code)"
   ]
  },
  {
   "cell_type": "code",
   "execution_count": 217,
   "metadata": {
    "editable": true
   },
   "outputs": [],
   "source": [
    "to_ins.write.mode('overwrite').parquet('dimensions/dim_modes')"
   ]
  },
  {
   "cell_type": "markdown",
   "metadata": {
    "editable": true
   },
   "source": [
    "### City Code"
   ]
  },
  {
   "cell_type": "code",
   "execution_count": 107,
   "metadata": {
    "editable": true
   },
   "outputs": [],
   "source": [
    "path = 'sources/city_code.csv'\n",
    "df_city = pd.read_csv(path, delimiter = '=', engine = 'python')"
   ]
  },
  {
   "cell_type": "code",
   "execution_count": 108,
   "metadata": {
    "editable": true
   },
   "outputs": [],
   "source": [
    "df_city.columns = df_city.columns.str.strip()\n",
    "df_city.columns = df_city.columns.str.lower()\n",
    "df_city.columns = df_city.columns.str.replace(\"'\", \"\")"
   ]
  },
  {
   "cell_type": "code",
   "execution_count": 109,
   "metadata": {
    "editable": true
   },
   "outputs": [],
   "source": [
    "df_city = df_city.apply(lambda x: cleaning_data(x) if x.dtypes == 'object' else x)"
   ]
  },
  {
   "cell_type": "code",
   "execution_count": 110,
   "metadata": {
    "editable": true
   },
   "outputs": [
    {
     "data": {
      "text/html": [
       "<div>\n",
       "<style scoped>\n",
       "    .dataframe tbody tr th:only-of-type {\n",
       "        vertical-align: middle;\n",
       "    }\n",
       "\n",
       "    .dataframe tbody tr th {\n",
       "        vertical-align: top;\n",
       "    }\n",
       "\n",
       "    .dataframe thead th {\n",
       "        text-align: right;\n",
       "    }\n",
       "</style>\n",
       "<table border=\"1\" class=\"dataframe\">\n",
       "  <thead>\n",
       "    <tr style=\"text-align: right;\">\n",
       "      <th></th>\n",
       "      <th>code</th>\n",
       "      <th>city</th>\n",
       "    </tr>\n",
       "  </thead>\n",
       "  <tbody>\n",
       "    <tr>\n",
       "      <th>0</th>\n",
       "      <td>AL</td>\n",
       "      <td>ALABAMA</td>\n",
       "    </tr>\n",
       "    <tr>\n",
       "      <th>1</th>\n",
       "      <td>AK</td>\n",
       "      <td>ALASKA</td>\n",
       "    </tr>\n",
       "    <tr>\n",
       "      <th>2</th>\n",
       "      <td>AZ</td>\n",
       "      <td>ARIZONA</td>\n",
       "    </tr>\n",
       "    <tr>\n",
       "      <th>3</th>\n",
       "      <td>AR</td>\n",
       "      <td>ARKANSAS</td>\n",
       "    </tr>\n",
       "    <tr>\n",
       "      <th>4</th>\n",
       "      <td>CA</td>\n",
       "      <td>CALIFORNIA</td>\n",
       "    </tr>\n",
       "  </tbody>\n",
       "</table>\n",
       "</div>"
      ],
      "text/plain": [
       "  code        city\n",
       "0   AL     ALABAMA\n",
       "1   AK      ALASKA\n",
       "2   AZ     ARIZONA\n",
       "3   AR    ARKANSAS\n",
       "4   CA  CALIFORNIA"
      ]
     },
     "execution_count": 110,
     "metadata": {},
     "output_type": "execute_result"
    }
   ],
   "source": [
    "df_city.head()"
   ]
  },
  {
   "cell_type": "code",
   "execution_count": 111,
   "metadata": {
    "editable": true
   },
   "outputs": [],
   "source": [
    "df_city.columns = ['state_code', 'city']"
   ]
  },
  {
   "cell_type": "code",
   "execution_count": 112,
   "metadata": {
    "editable": true
   },
   "outputs": [],
   "source": [
    "dim_city = spark.read.parquet(\"dimensions/dim_cities\")"
   ]
  },
  {
   "cell_type": "code",
   "execution_count": 113,
   "metadata": {
    "editable": true
   },
   "outputs": [
    {
     "data": {
      "text/html": [
       "<div>\n",
       "<style scoped>\n",
       "    .dataframe tbody tr th:only-of-type {\n",
       "        vertical-align: middle;\n",
       "    }\n",
       "\n",
       "    .dataframe tbody tr th {\n",
       "        vertical-align: top;\n",
       "    }\n",
       "\n",
       "    .dataframe thead th {\n",
       "        text-align: right;\n",
       "    }\n",
       "</style>\n",
       "<table border=\"1\" class=\"dataframe\">\n",
       "  <thead>\n",
       "    <tr style=\"text-align: right;\">\n",
       "      <th></th>\n",
       "      <th>city</th>\n",
       "      <th>median_age</th>\n",
       "      <th>male_population</th>\n",
       "      <th>female_population</th>\n",
       "      <th>total_population</th>\n",
       "      <th>number_of_veterans</th>\n",
       "      <th>foreign_born</th>\n",
       "      <th>average_household_size</th>\n",
       "      <th>state_code</th>\n",
       "      <th>race</th>\n",
       "      <th>count</th>\n",
       "      <th>state</th>\n",
       "    </tr>\n",
       "  </thead>\n",
       "  <tbody>\n",
       "    <tr>\n",
       "      <th>0</th>\n",
       "      <td>AUGUSTARICHMOND COUNTY CONSOLIDATED GOVERNMENT</td>\n",
       "      <td>33.7</td>\n",
       "      <td>94662</td>\n",
       "      <td>101917</td>\n",
       "      <td>196579</td>\n",
       "      <td>19085</td>\n",
       "      <td>7915</td>\n",
       "      <td>2.67</td>\n",
       "      <td>GA</td>\n",
       "      <td>AMERICAN INDIAN AND ALASKA NATIVE</td>\n",
       "      <td>1667</td>\n",
       "      <td>GEORGIA</td>\n",
       "    </tr>\n",
       "    <tr>\n",
       "      <th>1</th>\n",
       "      <td>LOUISVILLE/JEFFERSON COUNTY METRO GOVERNMENT</td>\n",
       "      <td>37.5</td>\n",
       "      <td>298451</td>\n",
       "      <td>316938</td>\n",
       "      <td>615389</td>\n",
       "      <td>39364</td>\n",
       "      <td>37875</td>\n",
       "      <td>2.45</td>\n",
       "      <td>KY</td>\n",
       "      <td>AMERICAN INDIAN AND ALASKA NATIVE</td>\n",
       "      <td>4585</td>\n",
       "      <td>KENTUCKY</td>\n",
       "    </tr>\n",
       "  </tbody>\n",
       "</table>\n",
       "</div>"
      ],
      "text/plain": [
       "                                             city  median_age  \\\n",
       "0  AUGUSTARICHMOND COUNTY CONSOLIDATED GOVERNMENT        33.7   \n",
       "1    LOUISVILLE/JEFFERSON COUNTY METRO GOVERNMENT        37.5   \n",
       "\n",
       "   male_population  female_population  total_population  number_of_veterans  \\\n",
       "0            94662             101917            196579               19085   \n",
       "1           298451             316938            615389               39364   \n",
       "\n",
       "   foreign_born  average_household_size state_code  \\\n",
       "0          7915                    2.67         GA   \n",
       "1         37875                    2.45         KY   \n",
       "\n",
       "                                race  count     state  \n",
       "0  AMERICAN INDIAN AND ALASKA NATIVE   1667   GEORGIA  \n",
       "1  AMERICAN INDIAN AND ALASKA NATIVE   4585  KENTUCKY  "
      ]
     },
     "execution_count": 113,
     "metadata": {},
     "output_type": "execute_result"
    }
   ],
   "source": [
    "dim_city.limit(2).toPandas()"
   ]
  },
  {
   "cell_type": "code",
   "execution_count": 114,
   "metadata": {
    "editable": true
   },
   "outputs": [],
   "source": [
    "df_city['state'] = 'TO BE DETERMINATED'\n",
    "df_city['median_age'] = -1.0\n",
    "df_city['male_population'] = -1\n",
    "df_city['female_population'] = -1\n",
    "df_city['total_population'] = -1\n",
    "df_city['number_of_veterans'] = -1\n",
    "df_city['foreign_born'] = -1\n",
    "df_city['average_household_size'] = -1.0\n",
    "df_city['race'] = 'TO BE DETERMINATED'\n",
    "df_city['count'] = -1"
   ]
  },
  {
   "cell_type": "code",
   "execution_count": 115,
   "metadata": {
    "editable": true
   },
   "outputs": [],
   "source": [
    "df_city = df_city[dim_city.columns]"
   ]
  },
  {
   "cell_type": "code",
   "execution_count": 116,
   "metadata": {
    "editable": true
   },
   "outputs": [
    {
     "name": "stdout",
     "output_type": "stream",
     "text": [
      "root\n",
      " |-- city: string (nullable = true)\n",
      " |-- median_age: double (nullable = true)\n",
      " |-- male_population: integer (nullable = true)\n",
      " |-- female_population: integer (nullable = true)\n",
      " |-- total_population: integer (nullable = true)\n",
      " |-- number_of_veterans: integer (nullable = true)\n",
      " |-- foreign_born: integer (nullable = true)\n",
      " |-- average_household_size: double (nullable = true)\n",
      " |-- state_code: string (nullable = true)\n",
      " |-- race: string (nullable = true)\n",
      " |-- count: integer (nullable = true)\n",
      " |-- state: string (nullable = true)\n",
      "\n"
     ]
    }
   ],
   "source": [
    "dim_city.printSchema()"
   ]
  },
  {
   "cell_type": "code",
   "execution_count": 117,
   "metadata": {
    "editable": true
   },
   "outputs": [],
   "source": [
    "to_ins = spark.createDataFrame(df_city)"
   ]
  },
  {
   "cell_type": "code",
   "execution_count": 118,
   "metadata": {
    "editable": true
   },
   "outputs": [],
   "source": [
    "to_ins = to_ins.join(dim_city, to_ins.state_code == dim_city.state_code, \"left_outer\") \\\n",
    "        .where(dim_city.state_code.isNull()) \\\n",
    "        .select(to_ins.city, to_ins.state, to_ins.median_age, to_ins.male_population, to_ins.female_population, \\\n",
    "               to_ins.total_population, to_ins.number_of_veterans, to_ins.foreign_born, to_ins.average_household_size, \\\n",
    "               to_ins.state_code, to_ins.race, to_ins['count'])"
   ]
  },
  {
   "cell_type": "code",
   "execution_count": 119,
   "metadata": {
    "editable": true
   },
   "outputs": [],
   "source": [
    "to_ins =  to_ins.filter(to_ins.state_code.isNotNull()) \\\n",
    "                           .dropDuplicates(subset=['state_code', 'race', 'city'])"
   ]
  },
  {
   "cell_type": "code",
   "execution_count": 122,
   "metadata": {
    "editable": true
   },
   "outputs": [],
   "source": [
    "to_ins.write.mode('append').partitionBy('state').parquet('dimensions/dim_cities')"
   ]
  },
  {
   "cell_type": "markdown",
   "metadata": {
    "editable": true
   },
   "source": [
    "### Visa Stage"
   ]
  },
  {
   "cell_type": "code",
   "execution_count": null,
   "metadata": {
    "editable": true
   },
   "outputs": [],
   "source": []
  },
  {
   "cell_type": "code",
   "execution_count": 219,
   "metadata": {
    "editable": true
   },
   "outputs": [],
   "source": [
    "path = 'sources/visa_code.csv'\n",
    "df_visa = pd.read_csv(path, delimiter = '=', engine = 'python')"
   ]
  },
  {
   "cell_type": "code",
   "execution_count": 220,
   "metadata": {
    "editable": true
   },
   "outputs": [],
   "source": [
    "df_visa.columns = df_visa.columns.str.strip()\n",
    "df_visa.columns = df_visa.columns.str.replace(\"'\", \"\")"
   ]
  },
  {
   "cell_type": "code",
   "execution_count": 221,
   "metadata": {
    "editable": true
   },
   "outputs": [],
   "source": [
    "df_visa = df_visa.apply(lambda x:  cleaning_data(x) if x.dtypes == 'object' else x)"
   ]
  },
  {
   "cell_type": "code",
   "execution_count": 222,
   "metadata": {
    "editable": true
   },
   "outputs": [
    {
     "data": {
      "text/html": [
       "<div>\n",
       "<style scoped>\n",
       "    .dataframe tbody tr th:only-of-type {\n",
       "        vertical-align: middle;\n",
       "    }\n",
       "\n",
       "    .dataframe tbody tr th {\n",
       "        vertical-align: top;\n",
       "    }\n",
       "\n",
       "    .dataframe thead th {\n",
       "        text-align: right;\n",
       "    }\n",
       "</style>\n",
       "<table border=\"1\" class=\"dataframe\">\n",
       "  <thead>\n",
       "    <tr style=\"text-align: right;\">\n",
       "      <th></th>\n",
       "      <th>Code</th>\n",
       "      <th>Visa</th>\n",
       "    </tr>\n",
       "  </thead>\n",
       "  <tbody>\n",
       "    <tr>\n",
       "      <th>0</th>\n",
       "      <td>1</td>\n",
       "      <td>BUSINESS</td>\n",
       "    </tr>\n",
       "    <tr>\n",
       "      <th>1</th>\n",
       "      <td>2</td>\n",
       "      <td>PLEASURE</td>\n",
       "    </tr>\n",
       "    <tr>\n",
       "      <th>2</th>\n",
       "      <td>3</td>\n",
       "      <td>STUDENT</td>\n",
       "    </tr>\n",
       "  </tbody>\n",
       "</table>\n",
       "</div>"
      ],
      "text/plain": [
       "   Code      Visa\n",
       "0     1  BUSINESS\n",
       "1     2  PLEASURE\n",
       "2     3   STUDENT"
      ]
     },
     "execution_count": 222,
     "metadata": {},
     "output_type": "execute_result"
    }
   ],
   "source": [
    "df_visa"
   ]
  },
  {
   "cell_type": "code",
   "execution_count": 223,
   "metadata": {
    "editable": true
   },
   "outputs": [],
   "source": [
    "to_ins = spark.createDataFrame(df_visa)"
   ]
  },
  {
   "cell_type": "code",
   "execution_count": 224,
   "metadata": {
    "editable": true
   },
   "outputs": [],
   "source": [
    "to_ins.write.mode('overwrite').parquet('dimensions/dim_visa')"
   ]
  },
  {
   "cell_type": "markdown",
   "metadata": {
    "editable": true
   },
   "source": [
    "### Get stages to dimensions"
   ]
  },
  {
   "cell_type": "code",
   "execution_count": 62,
   "metadata": {
    "editable": true
   },
   "outputs": [],
   "source": [
    "path = 'airport-codes_csv.csv'"
   ]
  },
  {
   "cell_type": "code",
   "execution_count": 63,
   "metadata": {
    "editable": true
   },
   "outputs": [],
   "source": [
    "sp = pd.read_csv(path, engine = \"python\", encoding=\"ISO-8859-1\")"
   ]
  },
  {
   "cell_type": "code",
   "execution_count": 64,
   "metadata": {
    "editable": true
   },
   "outputs": [],
   "source": [
    "df = sp[sp['iso_country'] == 'US'].copy()"
   ]
  },
  {
   "cell_type": "code",
   "execution_count": 65,
   "metadata": {
    "editable": true
   },
   "outputs": [],
   "source": [
    "df = df[~df['local_code'].isna()]"
   ]
  },
  {
   "cell_type": "code",
   "execution_count": 66,
   "metadata": {
    "editable": true
   },
   "outputs": [],
   "source": [
    "temp = df['coordinates'].str.split(',', expand = True).copy()"
   ]
  },
  {
   "cell_type": "code",
   "execution_count": 67,
   "metadata": {
    "editable": true
   },
   "outputs": [],
   "source": [
    "temp.columns = ['latitude', 'longitude']"
   ]
  },
  {
   "cell_type": "code",
   "execution_count": 68,
   "metadata": {
    "editable": true
   },
   "outputs": [],
   "source": [
    "df.drop(labels = 'coordinates', axis = 1, inplace = True)"
   ]
  },
  {
   "cell_type": "code",
   "execution_count": 69,
   "metadata": {
    "editable": true
   },
   "outputs": [],
   "source": [
    "df = df.join(temp)"
   ]
  },
  {
   "cell_type": "code",
   "execution_count": 79,
   "metadata": {
    "editable": true
   },
   "outputs": [
    {
     "data": {
      "text/plain": [
       "Index(['ident', 'type', 'name', 'elevation_ft', 'continent', 'iso_country',\n",
       "       'iso_region', 'municipality', 'gps_code', 'iata_code', 'local_code',\n",
       "       'latitude', 'longitude'],\n",
       "      dtype='object')"
      ]
     },
     "execution_count": 79,
     "metadata": {},
     "output_type": "execute_result"
    }
   ],
   "source": [
    "df.columns"
   ]
  },
  {
   "cell_type": "code",
   "execution_count": 81,
   "metadata": {
    "editable": true
   },
   "outputs": [],
   "source": [
    "df['city_code'] = df['iso_region'].str.split('-', expand = True)[1].str.strip()"
   ]
  },
  {
   "cell_type": "code",
   "execution_count": 82,
   "metadata": {
    "editable": true
   },
   "outputs": [],
   "source": [
    "df.drop(labels = 'iso_region', axis = 1, inplace = True)"
   ]
  },
  {
   "cell_type": "code",
   "execution_count": 84,
   "metadata": {
    "editable": true
   },
   "outputs": [],
   "source": [
    "df = df.apply(lambda x:  cleaning_data(x) if x.dtypes == 'object' else x)"
   ]
  },
  {
   "cell_type": "code",
   "execution_count": 86,
   "metadata": {
    "editable": true
   },
   "outputs": [
    {
     "data": {
      "text/plain": [
       "ident               0\n",
       "type                0\n",
       "name                0\n",
       "elevation_ft      151\n",
       "continent       21235\n",
       "iso_country         0\n",
       "municipality       21\n",
       "gps_code          314\n",
       "iata_code       19267\n",
       "local_code          0\n",
       "latitude            0\n",
       "longitude           0\n",
       "city_code           0\n",
       "dtype: int64"
      ]
     },
     "execution_count": 86,
     "metadata": {},
     "output_type": "execute_result"
    }
   ],
   "source": [
    "df.isna().sum()"
   ]
  },
  {
   "cell_type": "code",
   "execution_count": 88,
   "metadata": {
    "editable": true
   },
   "outputs": [],
   "source": [
    "df.drop(labels = 'continent', axis = 1, inplace = True)"
   ]
  },
  {
   "cell_type": "code",
   "execution_count": 95,
   "metadata": {
    "editable": true
   },
   "outputs": [],
   "source": [
    "df.fillna('TO BE DETERMINATED', inplace = True)"
   ]
  },
  {
   "cell_type": "code",
   "execution_count": 97,
   "metadata": {
    "editable": true
   },
   "outputs": [
    {
     "data": {
      "text/plain": [
       "ident           0\n",
       "type            0\n",
       "name            0\n",
       "elevation_ft    0\n",
       "iso_country     0\n",
       "municipality    0\n",
       "gps_code        0\n",
       "iata_code       0\n",
       "local_code      0\n",
       "latitude        0\n",
       "longitude       0\n",
       "city_code       0\n",
       "dtype: int64"
      ]
     },
     "execution_count": 97,
     "metadata": {},
     "output_type": "execute_result"
    }
   ],
   "source": [
    "df.isna().sum()"
   ]
  },
  {
   "cell_type": "code",
   "execution_count": 98,
   "metadata": {
    "editable": true
   },
   "outputs": [
    {
     "data": {
      "text/html": [
       "<div>\n",
       "<style scoped>\n",
       "    .dataframe tbody tr th:only-of-type {\n",
       "        vertical-align: middle;\n",
       "    }\n",
       "\n",
       "    .dataframe tbody tr th {\n",
       "        vertical-align: top;\n",
       "    }\n",
       "\n",
       "    .dataframe thead th {\n",
       "        text-align: right;\n",
       "    }\n",
       "</style>\n",
       "<table border=\"1\" class=\"dataframe\">\n",
       "  <thead>\n",
       "    <tr style=\"text-align: right;\">\n",
       "      <th></th>\n",
       "      <th>ident</th>\n",
       "      <th>type</th>\n",
       "      <th>name</th>\n",
       "      <th>elevation_ft</th>\n",
       "      <th>iso_country</th>\n",
       "      <th>municipality</th>\n",
       "      <th>gps_code</th>\n",
       "      <th>iata_code</th>\n",
       "      <th>local_code</th>\n",
       "      <th>latitude</th>\n",
       "      <th>longitude</th>\n",
       "      <th>city_code</th>\n",
       "    </tr>\n",
       "  </thead>\n",
       "  <tbody>\n",
       "    <tr>\n",
       "      <th>0</th>\n",
       "      <td>00A</td>\n",
       "      <td>HELIPORT</td>\n",
       "      <td>TOTAL RF HELIPORT</td>\n",
       "      <td>11</td>\n",
       "      <td>US</td>\n",
       "      <td>BENSALEM</td>\n",
       "      <td>00A</td>\n",
       "      <td>TO BE DETERMINATED</td>\n",
       "      <td>00A</td>\n",
       "      <td>7493360137939453</td>\n",
       "      <td>4007080078125</td>\n",
       "      <td>PA</td>\n",
       "    </tr>\n",
       "    <tr>\n",
       "      <th>1</th>\n",
       "      <td>00AA</td>\n",
       "      <td>SMALL_AIRPORT</td>\n",
       "      <td>AERO B RANCH AIRPORT</td>\n",
       "      <td>3435</td>\n",
       "      <td>US</td>\n",
       "      <td>LEOTI</td>\n",
       "      <td>00AA</td>\n",
       "      <td>TO BE DETERMINATED</td>\n",
       "      <td>00AA</td>\n",
       "      <td>101473911</td>\n",
       "      <td>38704022</td>\n",
       "      <td>KS</td>\n",
       "    </tr>\n",
       "    <tr>\n",
       "      <th>2</th>\n",
       "      <td>00AK</td>\n",
       "      <td>SMALL_AIRPORT</td>\n",
       "      <td>LOWELL FIELD</td>\n",
       "      <td>450</td>\n",
       "      <td>US</td>\n",
       "      <td>ANCHOR POINT</td>\n",
       "      <td>00AK</td>\n",
       "      <td>TO BE DETERMINATED</td>\n",
       "      <td>00AK</td>\n",
       "      <td>151695999146</td>\n",
       "      <td>5994919968</td>\n",
       "      <td>AK</td>\n",
       "    </tr>\n",
       "    <tr>\n",
       "      <th>3</th>\n",
       "      <td>00AL</td>\n",
       "      <td>SMALL_AIRPORT</td>\n",
       "      <td>EPPS AIRPARK</td>\n",
       "      <td>820</td>\n",
       "      <td>US</td>\n",
       "      <td>HARVEST</td>\n",
       "      <td>00AL</td>\n",
       "      <td>TO BE DETERMINATED</td>\n",
       "      <td>00AL</td>\n",
       "      <td>8677030181884766</td>\n",
       "      <td>3486479949951172</td>\n",
       "      <td>AL</td>\n",
       "    </tr>\n",
       "    <tr>\n",
       "      <th>5</th>\n",
       "      <td>00AS</td>\n",
       "      <td>SMALL_AIRPORT</td>\n",
       "      <td>FULTON AIRPORT</td>\n",
       "      <td>1100</td>\n",
       "      <td>US</td>\n",
       "      <td>ALEX</td>\n",
       "      <td>00AS</td>\n",
       "      <td>TO BE DETERMINATED</td>\n",
       "      <td>00AS</td>\n",
       "      <td>978180194</td>\n",
       "      <td>349428028</td>\n",
       "      <td>OK</td>\n",
       "    </tr>\n",
       "  </tbody>\n",
       "</table>\n",
       "</div>"
      ],
      "text/plain": [
       "  ident           type                  name elevation_ft iso_country  \\\n",
       "0   00A       HELIPORT     TOTAL RF HELIPORT           11          US   \n",
       "1  00AA  SMALL_AIRPORT  AERO B RANCH AIRPORT         3435          US   \n",
       "2  00AK  SMALL_AIRPORT          LOWELL FIELD          450          US   \n",
       "3  00AL  SMALL_AIRPORT          EPPS AIRPARK          820          US   \n",
       "5  00AS  SMALL_AIRPORT        FULTON AIRPORT         1100          US   \n",
       "\n",
       "   municipality gps_code           iata_code local_code          latitude  \\\n",
       "0      BENSALEM      00A  TO BE DETERMINATED        00A  7493360137939453   \n",
       "1         LEOTI     00AA  TO BE DETERMINATED       00AA         101473911   \n",
       "2  ANCHOR POINT     00AK  TO BE DETERMINATED       00AK      151695999146   \n",
       "3       HARVEST     00AL  TO BE DETERMINATED       00AL  8677030181884766   \n",
       "5          ALEX     00AS  TO BE DETERMINATED       00AS         978180194   \n",
       "\n",
       "          longitude city_code  \n",
       "0     4007080078125        PA  \n",
       "1          38704022        KS  \n",
       "2        5994919968        AK  \n",
       "3  3486479949951172        AL  \n",
       "5         349428028        OK  "
      ]
     },
     "execution_count": 98,
     "metadata": {},
     "output_type": "execute_result"
    }
   ],
   "source": [
    "df.head()"
   ]
  },
  {
   "cell_type": "markdown",
   "metadata": {
    "editable": true
   },
   "source": [
    "### Cities Demographics"
   ]
  },
  {
   "cell_type": "code",
   "execution_count": 75,
   "metadata": {
    "editable": true
   },
   "outputs": [],
   "source": [
    "path = 'us-cities-demographics.csv'"
   ]
  },
  {
   "cell_type": "code",
   "execution_count": 76,
   "metadata": {
    "editable": true
   },
   "outputs": [],
   "source": [
    "citySchema = R([\n",
    "    Fld(\"city\", Str()),\n",
    "    Fld(\"state\", Str()),\n",
    "    Fld(\"median_age\", Dbl()),\n",
    "    Fld(\"male_population\", Int()),\n",
    "    Fld(\"female_population\", Int()),\n",
    "    Fld(\"total_population\", Int()),\n",
    "    Fld(\"number_of_veterans\", Int()),\n",
    "    Fld(\"foreign_born\", Int()),\n",
    "    Fld(\"average_household_size\", Dbl()),\n",
    "    Fld(\"state_code\", Str()),\n",
    "    Fld(\"race\", Str()),\n",
    "    Fld(\"count\", Int())\n",
    "])"
   ]
  },
  {
   "cell_type": "code",
   "execution_count": 77,
   "metadata": {
    "editable": true
   },
   "outputs": [],
   "source": [
    "df = spark.read.option(\"delimiter\", \";\").csv(path, header = True, schema = citySchema).distinct()"
   ]
  },
  {
   "cell_type": "code",
   "execution_count": 78,
   "metadata": {
    "editable": true
   },
   "outputs": [
    {
     "data": {
      "text/plain": [
       "2891"
      ]
     },
     "execution_count": 78,
     "metadata": {},
     "output_type": "execute_result"
    }
   ],
   "source": [
    "df.count()"
   ]
  },
  {
   "cell_type": "code",
   "execution_count": 79,
   "metadata": {
    "editable": true
   },
   "outputs": [
    {
     "data": {
      "text/html": [
       "<div>\n",
       "<style scoped>\n",
       "    .dataframe tbody tr th:only-of-type {\n",
       "        vertical-align: middle;\n",
       "    }\n",
       "\n",
       "    .dataframe tbody tr th {\n",
       "        vertical-align: top;\n",
       "    }\n",
       "\n",
       "    .dataframe thead th {\n",
       "        text-align: right;\n",
       "    }\n",
       "</style>\n",
       "<table border=\"1\" class=\"dataframe\">\n",
       "  <thead>\n",
       "    <tr style=\"text-align: right;\">\n",
       "      <th></th>\n",
       "      <th>city</th>\n",
       "      <th>state</th>\n",
       "      <th>median_age</th>\n",
       "      <th>male_population</th>\n",
       "      <th>female_population</th>\n",
       "      <th>total_population</th>\n",
       "      <th>number_of_veterans</th>\n",
       "      <th>foreign_born</th>\n",
       "      <th>average_household_size</th>\n",
       "      <th>state_code</th>\n",
       "      <th>race</th>\n",
       "      <th>count</th>\n",
       "    </tr>\n",
       "  </thead>\n",
       "  <tbody>\n",
       "    <tr>\n",
       "      <th>0</th>\n",
       "      <td>San Diego</td>\n",
       "      <td>California</td>\n",
       "      <td>34.5</td>\n",
       "      <td>693826</td>\n",
       "      <td>701081</td>\n",
       "      <td>1394907</td>\n",
       "      <td>92489</td>\n",
       "      <td>373842</td>\n",
       "      <td>2.73</td>\n",
       "      <td>CA</td>\n",
       "      <td>White</td>\n",
       "      <td>949388</td>\n",
       "    </tr>\n",
       "    <tr>\n",
       "      <th>1</th>\n",
       "      <td>Highlands Ranch</td>\n",
       "      <td>Colorado</td>\n",
       "      <td>39.6</td>\n",
       "      <td>49186</td>\n",
       "      <td>53281</td>\n",
       "      <td>102467</td>\n",
       "      <td>4840</td>\n",
       "      <td>8827</td>\n",
       "      <td>2.72</td>\n",
       "      <td>CO</td>\n",
       "      <td>Asian</td>\n",
       "      <td>5650</td>\n",
       "    </tr>\n",
       "    <tr>\n",
       "      <th>2</th>\n",
       "      <td>Lakeland</td>\n",
       "      <td>Florida</td>\n",
       "      <td>38.1</td>\n",
       "      <td>47840</td>\n",
       "      <td>56570</td>\n",
       "      <td>104410</td>\n",
       "      <td>7390</td>\n",
       "      <td>11592</td>\n",
       "      <td>2.56</td>\n",
       "      <td>FL</td>\n",
       "      <td>Asian</td>\n",
       "      <td>3348</td>\n",
       "    </tr>\n",
       "    <tr>\n",
       "      <th>3</th>\n",
       "      <td>Rockford</td>\n",
       "      <td>Illinois</td>\n",
       "      <td>36.3</td>\n",
       "      <td>71076</td>\n",
       "      <td>78270</td>\n",
       "      <td>149346</td>\n",
       "      <td>8894</td>\n",
       "      <td>18323</td>\n",
       "      <td>2.52</td>\n",
       "      <td>IL</td>\n",
       "      <td>Black or African-American</td>\n",
       "      <td>33122</td>\n",
       "    </tr>\n",
       "    <tr>\n",
       "      <th>4</th>\n",
       "      <td>Davenport</td>\n",
       "      <td>Iowa</td>\n",
       "      <td>35.2</td>\n",
       "      <td>50123</td>\n",
       "      <td>52454</td>\n",
       "      <td>102577</td>\n",
       "      <td>7090</td>\n",
       "      <td>4065</td>\n",
       "      <td>2.39</td>\n",
       "      <td>IA</td>\n",
       "      <td>White</td>\n",
       "      <td>88145</td>\n",
       "    </tr>\n",
       "  </tbody>\n",
       "</table>\n",
       "</div>"
      ],
      "text/plain": [
       "              city       state  median_age  male_population  \\\n",
       "0        San Diego  California        34.5           693826   \n",
       "1  Highlands Ranch    Colorado        39.6            49186   \n",
       "2         Lakeland     Florida        38.1            47840   \n",
       "3         Rockford    Illinois        36.3            71076   \n",
       "4        Davenport        Iowa        35.2            50123   \n",
       "\n",
       "   female_population  total_population  number_of_veterans  foreign_born  \\\n",
       "0             701081           1394907               92489        373842   \n",
       "1              53281            102467                4840          8827   \n",
       "2              56570            104410                7390         11592   \n",
       "3              78270            149346                8894         18323   \n",
       "4              52454            102577                7090          4065   \n",
       "\n",
       "   average_household_size state_code                       race   count  \n",
       "0                    2.73         CA                      White  949388  \n",
       "1                    2.72         CO                      Asian    5650  \n",
       "2                    2.56         FL                      Asian    3348  \n",
       "3                    2.52         IL  Black or African-American   33122  \n",
       "4                    2.39         IA                      White   88145  "
      ]
     },
     "execution_count": 79,
     "metadata": {},
     "output_type": "execute_result"
    }
   ],
   "source": [
    "df.limit(5).toPandas()"
   ]
  },
  {
   "cell_type": "code",
   "execution_count": 101,
   "metadata": {
    "editable": true
   },
   "outputs": [],
   "source": [
    "df_clean = df"
   ]
  },
  {
   "cell_type": "code",
   "execution_count": 102,
   "metadata": {
    "editable": true
   },
   "outputs": [],
   "source": [
    "for field in df_clean.schema:\n",
    "    if field.dataType == Str():\n",
    "        df_clean = df_clean.withColumn(field.name, upper(col(field.name)))\n",
    "        df_clean = df_clean.withColumn(field.name, trim(col(field.name)))\n",
    "        df_clean = df_clean.withColumn(field.name, regexp_replace(col(field.name), \"'\", \"\"))\n",
    "        df_clean = df_clean.withColumn(field.name, regexp_replace(col(field.name), \",|-|\\.\", \"\"))\n",
    "        df_clean = df_clean.withColumn(field.name, regexp_replace(col(field.name), \".*UNKNOWN.*|.*NO PORT.*|INVALID.*|COLLAPSED.*|NO COUNTRY.*\", \"TO BE DETERMINATED\"))\n",
    "        df_clean = df_clean.fillna(\"TO BE DETERMINATED\", subset=[field.name])"
   ]
  },
  {
   "cell_type": "code",
   "execution_count": 103,
   "metadata": {
    "editable": true
   },
   "outputs": [
    {
     "data": {
      "text/html": [
       "<div>\n",
       "<style scoped>\n",
       "    .dataframe tbody tr th:only-of-type {\n",
       "        vertical-align: middle;\n",
       "    }\n",
       "\n",
       "    .dataframe tbody tr th {\n",
       "        vertical-align: top;\n",
       "    }\n",
       "\n",
       "    .dataframe thead th {\n",
       "        text-align: right;\n",
       "    }\n",
       "</style>\n",
       "<table border=\"1\" class=\"dataframe\">\n",
       "  <thead>\n",
       "    <tr style=\"text-align: right;\">\n",
       "      <th></th>\n",
       "      <th>city</th>\n",
       "      <th>state</th>\n",
       "      <th>median_age</th>\n",
       "      <th>male_population</th>\n",
       "      <th>female_population</th>\n",
       "      <th>total_population</th>\n",
       "      <th>number_of_veterans</th>\n",
       "      <th>foreign_born</th>\n",
       "      <th>average_household_size</th>\n",
       "      <th>state_code</th>\n",
       "      <th>race</th>\n",
       "      <th>count</th>\n",
       "    </tr>\n",
       "  </thead>\n",
       "  <tbody>\n",
       "    <tr>\n",
       "      <th>0</th>\n",
       "      <td>SAN DIEGO</td>\n",
       "      <td>CALIFORNIA</td>\n",
       "      <td>34.5</td>\n",
       "      <td>693826</td>\n",
       "      <td>701081</td>\n",
       "      <td>1394907</td>\n",
       "      <td>92489</td>\n",
       "      <td>373842</td>\n",
       "      <td>2.73</td>\n",
       "      <td>CA</td>\n",
       "      <td>WHITE</td>\n",
       "      <td>949388</td>\n",
       "    </tr>\n",
       "    <tr>\n",
       "      <th>1</th>\n",
       "      <td>HIGHLANDS RANCH</td>\n",
       "      <td>COLORADO</td>\n",
       "      <td>39.6</td>\n",
       "      <td>49186</td>\n",
       "      <td>53281</td>\n",
       "      <td>102467</td>\n",
       "      <td>4840</td>\n",
       "      <td>8827</td>\n",
       "      <td>2.72</td>\n",
       "      <td>CO</td>\n",
       "      <td>ASIAN</td>\n",
       "      <td>5650</td>\n",
       "    </tr>\n",
       "    <tr>\n",
       "      <th>2</th>\n",
       "      <td>LAKELAND</td>\n",
       "      <td>FLORIDA</td>\n",
       "      <td>38.1</td>\n",
       "      <td>47840</td>\n",
       "      <td>56570</td>\n",
       "      <td>104410</td>\n",
       "      <td>7390</td>\n",
       "      <td>11592</td>\n",
       "      <td>2.56</td>\n",
       "      <td>FL</td>\n",
       "      <td>ASIAN</td>\n",
       "      <td>3348</td>\n",
       "    </tr>\n",
       "    <tr>\n",
       "      <th>3</th>\n",
       "      <td>ROCKFORD</td>\n",
       "      <td>ILLINOIS</td>\n",
       "      <td>36.3</td>\n",
       "      <td>71076</td>\n",
       "      <td>78270</td>\n",
       "      <td>149346</td>\n",
       "      <td>8894</td>\n",
       "      <td>18323</td>\n",
       "      <td>2.52</td>\n",
       "      <td>IL</td>\n",
       "      <td>BLACK OR AFRICANAMERICAN</td>\n",
       "      <td>33122</td>\n",
       "    </tr>\n",
       "    <tr>\n",
       "      <th>4</th>\n",
       "      <td>DAVENPORT</td>\n",
       "      <td>IOWA</td>\n",
       "      <td>35.2</td>\n",
       "      <td>50123</td>\n",
       "      <td>52454</td>\n",
       "      <td>102577</td>\n",
       "      <td>7090</td>\n",
       "      <td>4065</td>\n",
       "      <td>2.39</td>\n",
       "      <td>IA</td>\n",
       "      <td>WHITE</td>\n",
       "      <td>88145</td>\n",
       "    </tr>\n",
       "  </tbody>\n",
       "</table>\n",
       "</div>"
      ],
      "text/plain": [
       "              city       state  median_age  male_population  \\\n",
       "0        SAN DIEGO  CALIFORNIA        34.5           693826   \n",
       "1  HIGHLANDS RANCH    COLORADO        39.6            49186   \n",
       "2         LAKELAND     FLORIDA        38.1            47840   \n",
       "3         ROCKFORD    ILLINOIS        36.3            71076   \n",
       "4        DAVENPORT        IOWA        35.2            50123   \n",
       "\n",
       "   female_population  total_population  number_of_veterans  foreign_born  \\\n",
       "0             701081           1394907               92489        373842   \n",
       "1              53281            102467                4840          8827   \n",
       "2              56570            104410                7390         11592   \n",
       "3              78270            149346                8894         18323   \n",
       "4              52454            102577                7090          4065   \n",
       "\n",
       "   average_household_size state_code                      race   count  \n",
       "0                    2.73         CA                     WHITE  949388  \n",
       "1                    2.72         CO                     ASIAN    5650  \n",
       "2                    2.56         FL                     ASIAN    3348  \n",
       "3                    2.52         IL  BLACK OR AFRICANAMERICAN   33122  \n",
       "4                    2.39         IA                     WHITE   88145  "
      ]
     },
     "execution_count": 103,
     "metadata": {},
     "output_type": "execute_result"
    }
   ],
   "source": [
    "df_clean.limit(5).toPandas()"
   ]
  },
  {
   "cell_type": "code",
   "execution_count": 104,
   "metadata": {
    "editable": true
   },
   "outputs": [],
   "source": [
    "df_clean =  df_clean.filter(df_clean.state_code.isNotNull()) \\\n",
    "                           .dropDuplicates(subset=['state_code', 'race', 'city'])"
   ]
  },
  {
   "cell_type": "code",
   "execution_count": 105,
   "metadata": {
    "editable": true
   },
   "outputs": [
    {
     "data": {
      "text/plain": [
       "2891"
      ]
     },
     "execution_count": 105,
     "metadata": {},
     "output_type": "execute_result"
    }
   ],
   "source": [
    "df_clean.count()"
   ]
  },
  {
   "cell_type": "code",
   "execution_count": 106,
   "metadata": {
    "editable": true
   },
   "outputs": [],
   "source": [
    "df_clean.write.mode('overwrite').partitionBy('state').parquet('dimensions/dim_cities')"
   ]
  },
  {
   "cell_type": "markdown",
   "metadata": {
    "editable": true
   },
   "source": [
    "## Airports Dim"
   ]
  },
  {
   "cell_type": "code",
   "execution_count": 189,
   "metadata": {
    "editable": true
   },
   "outputs": [],
   "source": [
    "path = 'stages/airport-codes_csv.csv'"
   ]
  },
  {
   "cell_type": "code",
   "execution_count": 190,
   "metadata": {
    "editable": true
   },
   "outputs": [],
   "source": [
    "airportSchema = R([\n",
    "    Fld(\"ident\", Str()),\n",
    "    Fld(\"type\", Str()),\n",
    "    Fld(\"name\", Str()),\n",
    "    Fld(\"elevation_ft\", Int()),\n",
    "    Fld(\"continent\", Str()),\n",
    "    Fld(\"iso_country\", Str()),\n",
    "    Fld(\"iso_region\", Str()),\n",
    "    Fld(\"municipality\", Str()),\n",
    "    Fld(\"gps_code\", Str()),\n",
    "    Fld(\"iata_code\", Str()),\n",
    "    Fld(\"local_code\", Str()),\n",
    "    Fld(\"coordinates\", Str())\n",
    "])"
   ]
  },
  {
   "cell_type": "code",
   "execution_count": 191,
   "metadata": {
    "editable": true
   },
   "outputs": [],
   "source": [
    "df = spark.read.option(\"delimiter\", \",\").csv(path, header = True, schema = airportSchema).distinct()"
   ]
  },
  {
   "cell_type": "code",
   "execution_count": 192,
   "metadata": {
    "editable": true
   },
   "outputs": [
    {
     "data": {
      "text/html": [
       "<div>\n",
       "<style scoped>\n",
       "    .dataframe tbody tr th:only-of-type {\n",
       "        vertical-align: middle;\n",
       "    }\n",
       "\n",
       "    .dataframe tbody tr th {\n",
       "        vertical-align: top;\n",
       "    }\n",
       "\n",
       "    .dataframe thead th {\n",
       "        text-align: right;\n",
       "    }\n",
       "</style>\n",
       "<table border=\"1\" class=\"dataframe\">\n",
       "  <thead>\n",
       "    <tr style=\"text-align: right;\">\n",
       "      <th></th>\n",
       "      <th>ident</th>\n",
       "      <th>type</th>\n",
       "      <th>name</th>\n",
       "      <th>elevation_ft</th>\n",
       "      <th>continent</th>\n",
       "      <th>iso_country</th>\n",
       "      <th>iso_region</th>\n",
       "      <th>municipality</th>\n",
       "      <th>gps_code</th>\n",
       "      <th>iata_code</th>\n",
       "      <th>local_code</th>\n",
       "      <th>coordinates</th>\n",
       "    </tr>\n",
       "  </thead>\n",
       "  <tbody>\n",
       "    <tr>\n",
       "      <th>0</th>\n",
       "      <td>01CL</td>\n",
       "      <td>small_airport</td>\n",
       "      <td>Swansboro Country Airport</td>\n",
       "      <td>2594</td>\n",
       "      <td>NA</td>\n",
       "      <td>US</td>\n",
       "      <td>US-CA</td>\n",
       "      <td>Placerville</td>\n",
       "      <td>01CL</td>\n",
       "      <td>None</td>\n",
       "      <td>01CL</td>\n",
       "      <td>-120.73400115966797, 38.79990005493164</td>\n",
       "    </tr>\n",
       "    <tr>\n",
       "      <th>1</th>\n",
       "      <td>03VA</td>\n",
       "      <td>closed</td>\n",
       "      <td>Whipoorwill Springs Airport</td>\n",
       "      <td>250</td>\n",
       "      <td>NA</td>\n",
       "      <td>US</td>\n",
       "      <td>US-VA</td>\n",
       "      <td>Nokesville</td>\n",
       "      <td>03VA</td>\n",
       "      <td>None</td>\n",
       "      <td>03VA</td>\n",
       "      <td>-77.57969665527344, 38.66460037231445</td>\n",
       "    </tr>\n",
       "    <tr>\n",
       "      <th>2</th>\n",
       "      <td>05VA</td>\n",
       "      <td>small_airport</td>\n",
       "      <td>Providence Airport</td>\n",
       "      <td>445</td>\n",
       "      <td>NA</td>\n",
       "      <td>US</td>\n",
       "      <td>US-VA</td>\n",
       "      <td>Farmville</td>\n",
       "      <td>05VA</td>\n",
       "      <td>None</td>\n",
       "      <td>05VA</td>\n",
       "      <td>-78.4186019897461, 37.22420120239258</td>\n",
       "    </tr>\n",
       "    <tr>\n",
       "      <th>3</th>\n",
       "      <td>0AK8</td>\n",
       "      <td>closed</td>\n",
       "      <td>Pollux Heliport</td>\n",
       "      <td>515</td>\n",
       "      <td>NA</td>\n",
       "      <td>US</td>\n",
       "      <td>US-AK</td>\n",
       "      <td>North Pole</td>\n",
       "      <td>None</td>\n",
       "      <td>None</td>\n",
       "      <td>None</td>\n",
       "      <td>-147.497501, 64.895835</td>\n",
       "    </tr>\n",
       "    <tr>\n",
       "      <th>4</th>\n",
       "      <td>0AR2</td>\n",
       "      <td>small_airport</td>\n",
       "      <td>Mission Field-Marotti Memorial Airport</td>\n",
       "      <td>217</td>\n",
       "      <td>NA</td>\n",
       "      <td>US</td>\n",
       "      <td>US-AR</td>\n",
       "      <td>Crawfordsville</td>\n",
       "      <td>0AR2</td>\n",
       "      <td>None</td>\n",
       "      <td>0AR2</td>\n",
       "      <td>-90.35009765625, 35.26679992675781</td>\n",
       "    </tr>\n",
       "  </tbody>\n",
       "</table>\n",
       "</div>"
      ],
      "text/plain": [
       "  ident           type                                    name  elevation_ft  \\\n",
       "0  01CL  small_airport               Swansboro Country Airport          2594   \n",
       "1  03VA         closed             Whipoorwill Springs Airport           250   \n",
       "2  05VA  small_airport                      Providence Airport           445   \n",
       "3  0AK8         closed                         Pollux Heliport           515   \n",
       "4  0AR2  small_airport  Mission Field-Marotti Memorial Airport           217   \n",
       "\n",
       "  continent iso_country iso_region    municipality gps_code iata_code  \\\n",
       "0        NA          US      US-CA     Placerville     01CL      None   \n",
       "1        NA          US      US-VA      Nokesville     03VA      None   \n",
       "2        NA          US      US-VA       Farmville     05VA      None   \n",
       "3        NA          US      US-AK      North Pole     None      None   \n",
       "4        NA          US      US-AR  Crawfordsville     0AR2      None   \n",
       "\n",
       "  local_code                             coordinates  \n",
       "0       01CL  -120.73400115966797, 38.79990005493164  \n",
       "1       03VA   -77.57969665527344, 38.66460037231445  \n",
       "2       05VA    -78.4186019897461, 37.22420120239258  \n",
       "3       None                  -147.497501, 64.895835  \n",
       "4       0AR2      -90.35009765625, 35.26679992675781  "
      ]
     },
     "execution_count": 192,
     "metadata": {},
     "output_type": "execute_result"
    }
   ],
   "source": [
    "df.limit(5).toPandas()"
   ]
  },
  {
   "cell_type": "code",
   "execution_count": 193,
   "metadata": {
    "editable": true
   },
   "outputs": [],
   "source": [
    "df = df.withColumn('state', split(col('iso_region'),'-')[1]) \\\n",
    "       .withColumn('latitude', split(col('coordinates'), ',')[0].cast(Dbl())) \\\n",
    "       .withColumn('longitude', split(col('coordinates'), ',')[1].cast(Dbl()))"
   ]
  },
  {
   "cell_type": "code",
   "execution_count": 194,
   "metadata": {
    "editable": true
   },
   "outputs": [],
   "source": [
    "df = df.filter(\"UPPER(iso_country) == 'US'\") \\\n",
    "       .drop('iso_region') \\\n",
    "       .drop('coordinates') \\\n",
    "       .drop('continent')"
   ]
  },
  {
   "cell_type": "code",
   "execution_count": 195,
   "metadata": {
    "editable": true
   },
   "outputs": [
    {
     "data": {
      "text/plain": [
       "22757"
      ]
     },
     "execution_count": 195,
     "metadata": {},
     "output_type": "execute_result"
    }
   ],
   "source": [
    "df.count()"
   ]
  },
  {
   "cell_type": "code",
   "execution_count": 196,
   "metadata": {
    "editable": true
   },
   "outputs": [],
   "source": [
    "df = df.filter(\"local_code is not null\")"
   ]
  },
  {
   "cell_type": "code",
   "execution_count": 197,
   "metadata": {
    "editable": true
   },
   "outputs": [
    {
     "data": {
      "text/plain": [
       "21236"
      ]
     },
     "execution_count": 197,
     "metadata": {},
     "output_type": "execute_result"
    }
   ],
   "source": [
    "df.count()"
   ]
  },
  {
   "cell_type": "code",
   "execution_count": 198,
   "metadata": {
    "editable": true
   },
   "outputs": [],
   "source": [
    "df_clean = df"
   ]
  },
  {
   "cell_type": "code",
   "execution_count": 199,
   "metadata": {
    "editable": true
   },
   "outputs": [],
   "source": [
    "for field in df_clean.schema:\n",
    "    if field.dataType == Str():\n",
    "        df_clean = df_clean.withColumn(field.name, upper(col(field.name)))\n",
    "        df_clean = df_clean.withColumn(field.name, trim(col(field.name)))\n",
    "        df_clean = df_clean.withColumn(field.name, regexp_replace(col(field.name), \"'\", \"\"))\n",
    "        df_clean = df_clean.withColumn(field.name, regexp_replace(col(field.name), \",|-|\\.\", \"\"))\n",
    "        df_clean = df_clean.withColumn(field.name, regexp_replace(col(field.name), \".*UNKNOWN.*|.*NO PORT.*|INVALID.*|COLLAPSED.*|NO COUNTRY.*\", \"TO BE DETERMINATED\"))\n",
    "        df_clean = df_clean.fillna(\"TO BE DETERMINATED\", subset=[field.name])"
   ]
  },
  {
   "cell_type": "code",
   "execution_count": 200,
   "metadata": {
    "editable": true
   },
   "outputs": [
    {
     "data": {
      "text/html": [
       "<div>\n",
       "<style scoped>\n",
       "    .dataframe tbody tr th:only-of-type {\n",
       "        vertical-align: middle;\n",
       "    }\n",
       "\n",
       "    .dataframe tbody tr th {\n",
       "        vertical-align: top;\n",
       "    }\n",
       "\n",
       "    .dataframe thead th {\n",
       "        text-align: right;\n",
       "    }\n",
       "</style>\n",
       "<table border=\"1\" class=\"dataframe\">\n",
       "  <thead>\n",
       "    <tr style=\"text-align: right;\">\n",
       "      <th></th>\n",
       "      <th>ident</th>\n",
       "      <th>type</th>\n",
       "      <th>name</th>\n",
       "      <th>elevation_ft</th>\n",
       "      <th>iso_country</th>\n",
       "      <th>municipality</th>\n",
       "      <th>gps_code</th>\n",
       "      <th>iata_code</th>\n",
       "      <th>local_code</th>\n",
       "      <th>state</th>\n",
       "      <th>latitude</th>\n",
       "      <th>longitude</th>\n",
       "    </tr>\n",
       "  </thead>\n",
       "  <tbody>\n",
       "    <tr>\n",
       "      <th>0</th>\n",
       "      <td>01CL</td>\n",
       "      <td>SMALL_AIRPORT</td>\n",
       "      <td>SWANSBORO COUNTRY AIRPORT</td>\n",
       "      <td>2594</td>\n",
       "      <td>US</td>\n",
       "      <td>PLACERVILLE</td>\n",
       "      <td>01CL</td>\n",
       "      <td>TO BE DETERMINATED</td>\n",
       "      <td>01CL</td>\n",
       "      <td>CA</td>\n",
       "      <td>-120.734001</td>\n",
       "      <td>38.799900</td>\n",
       "    </tr>\n",
       "    <tr>\n",
       "      <th>1</th>\n",
       "      <td>03VA</td>\n",
       "      <td>CLOSED</td>\n",
       "      <td>WHIPOORWILL SPRINGS AIRPORT</td>\n",
       "      <td>250</td>\n",
       "      <td>US</td>\n",
       "      <td>NOKESVILLE</td>\n",
       "      <td>03VA</td>\n",
       "      <td>TO BE DETERMINATED</td>\n",
       "      <td>03VA</td>\n",
       "      <td>VA</td>\n",
       "      <td>-77.579697</td>\n",
       "      <td>38.664600</td>\n",
       "    </tr>\n",
       "    <tr>\n",
       "      <th>2</th>\n",
       "      <td>05VA</td>\n",
       "      <td>SMALL_AIRPORT</td>\n",
       "      <td>PROVIDENCE AIRPORT</td>\n",
       "      <td>445</td>\n",
       "      <td>US</td>\n",
       "      <td>FARMVILLE</td>\n",
       "      <td>05VA</td>\n",
       "      <td>TO BE DETERMINATED</td>\n",
       "      <td>05VA</td>\n",
       "      <td>VA</td>\n",
       "      <td>-78.418602</td>\n",
       "      <td>37.224201</td>\n",
       "    </tr>\n",
       "    <tr>\n",
       "      <th>3</th>\n",
       "      <td>0AR2</td>\n",
       "      <td>SMALL_AIRPORT</td>\n",
       "      <td>MISSION FIELDMAROTTI MEMORIAL AIRPORT</td>\n",
       "      <td>217</td>\n",
       "      <td>US</td>\n",
       "      <td>CRAWFORDSVILLE</td>\n",
       "      <td>0AR2</td>\n",
       "      <td>TO BE DETERMINATED</td>\n",
       "      <td>0AR2</td>\n",
       "      <td>AR</td>\n",
       "      <td>-90.350098</td>\n",
       "      <td>35.266800</td>\n",
       "    </tr>\n",
       "    <tr>\n",
       "      <th>4</th>\n",
       "      <td>0IS9</td>\n",
       "      <td>HELIPORT</td>\n",
       "      <td>BERNARDIN HELIPORT</td>\n",
       "      <td>830</td>\n",
       "      <td>US</td>\n",
       "      <td>WEST BROOKLYN</td>\n",
       "      <td>0IS9</td>\n",
       "      <td>TO BE DETERMINATED</td>\n",
       "      <td>0IS9</td>\n",
       "      <td>IL</td>\n",
       "      <td>-89.202904</td>\n",
       "      <td>41.708401</td>\n",
       "    </tr>\n",
       "  </tbody>\n",
       "</table>\n",
       "</div>"
      ],
      "text/plain": [
       "  ident           type                                   name  elevation_ft  \\\n",
       "0  01CL  SMALL_AIRPORT              SWANSBORO COUNTRY AIRPORT          2594   \n",
       "1  03VA         CLOSED            WHIPOORWILL SPRINGS AIRPORT           250   \n",
       "2  05VA  SMALL_AIRPORT                     PROVIDENCE AIRPORT           445   \n",
       "3  0AR2  SMALL_AIRPORT  MISSION FIELDMAROTTI MEMORIAL AIRPORT           217   \n",
       "4  0IS9       HELIPORT                     BERNARDIN HELIPORT           830   \n",
       "\n",
       "  iso_country    municipality gps_code           iata_code local_code state  \\\n",
       "0          US     PLACERVILLE     01CL  TO BE DETERMINATED       01CL    CA   \n",
       "1          US      NOKESVILLE     03VA  TO BE DETERMINATED       03VA    VA   \n",
       "2          US       FARMVILLE     05VA  TO BE DETERMINATED       05VA    VA   \n",
       "3          US  CRAWFORDSVILLE     0AR2  TO BE DETERMINATED       0AR2    AR   \n",
       "4          US   WEST BROOKLYN     0IS9  TO BE DETERMINATED       0IS9    IL   \n",
       "\n",
       "     latitude  longitude  \n",
       "0 -120.734001  38.799900  \n",
       "1  -77.579697  38.664600  \n",
       "2  -78.418602  37.224201  \n",
       "3  -90.350098  35.266800  \n",
       "4  -89.202904  41.708401  "
      ]
     },
     "execution_count": 200,
     "metadata": {},
     "output_type": "execute_result"
    }
   ],
   "source": [
    "df_clean.limit(5).toPandas()"
   ]
  },
  {
   "cell_type": "code",
   "execution_count": 201,
   "metadata": {
    "editable": true
   },
   "outputs": [],
   "source": [
    "df_clean.write.mode('overwrite').partitionBy(['state', 'local_code']).parquet('dimensions/dim_airports')"
   ]
  },
  {
   "cell_type": "markdown",
   "metadata": {
    "editable": true
   },
   "source": [
    "### Fact Immigration"
   ]
  },
  {
   "cell_type": "code",
   "execution_count": 11,
   "metadata": {
    "editable": true
   },
   "outputs": [],
   "source": [
    "dim_country = spark.read.parquet('dimensions/dim_countries')\n",
    "dim_visa    = spark.read.parquet('dimensions/dim_visa')\n",
    "dim_mode    = spark.read.parquet('dimensions/dim_modes')\n",
    "dim_airport = spark.read.parquet('dimensions/dim_airports')\n",
    "dim_city    = spark.read.parquet('dimensions/dim_cities')"
   ]
  },
  {
   "cell_type": "code",
   "execution_count": 15,
   "metadata": {
    "editable": true
   },
   "outputs": [],
   "source": [
    "dim_city = dim_city.dropDuplicates(subset=['state_code'])"
   ]
  },
  {
   "cell_type": "code",
   "execution_count": 16,
   "metadata": {
    "editable": true
   },
   "outputs": [],
   "source": [
    "#df = spark.read.option(\"delimiter\", \",\").csv(path, header = True).distinct()\n",
    "df = spark.read.format('com.github.saurfang.sas.spark').load('../../data/18-83510-I94-Data-2016/i94_apr16_sub.sas7bdat')"
   ]
  },
  {
   "cell_type": "code",
   "execution_count": 17,
   "metadata": {
    "editable": true
   },
   "outputs": [],
   "source": [
    "import datetime as dt"
   ]
  },
  {
   "cell_type": "code",
   "execution_count": 18,
   "metadata": {
    "editable": true
   },
   "outputs": [],
   "source": [
    "format_dt_sas = udf(lambda x: (dt.datetime(1960, 1, 1).date() + dt.timedelta(x)).isoformat()if x else dt.datetime(1960,1,1).date().isoformat())"
   ]
  },
  {
   "cell_type": "code",
   "execution_count": 19,
   "metadata": {
    "editable": true
   },
   "outputs": [],
   "source": [
    "df = df.withColumn(\"arrdate\", format_dt_sas(df.arrdate)) \\\n",
    "       .withColumn(\"depdate\", format_dt_sas(df.depdate))"
   ]
  },
  {
   "cell_type": "code",
   "execution_count": 20,
   "metadata": {
    "editable": true
   },
   "outputs": [],
   "source": [
    "for field in df.dtypes:\n",
    "    if field[1] == 'string':\n",
    "        df = df.withColumn(field[0], upper(col(field[0])))\n",
    "        df = df.withColumn(field[0], trim(col(field[0])))\n",
    "        df = df.withColumn(field[0], regexp_replace(col(field[0]), \"'\", \"\"))\n",
    "        df = df.withColumn(field[0], regexp_replace(col(field[0]), \",|-|\\.\", \"\"))\n",
    "        df = df.withColumn(field[0], regexp_replace(col(field[0]), \".*UNKNOWN.*|.*NO PORT.*|INVALID.*|COLLAPSED.*|NO COUNTRY.*\", \"TO BE DETERMINATED\"))\n",
    "        df = df.fillna(\"TO BE DETERMINATED\", subset=[field[0]])"
   ]
  },
  {
   "cell_type": "code",
   "execution_count": 21,
   "metadata": {
    "editable": true
   },
   "outputs": [],
   "source": [
    "df = df.fillna(-1)"
   ]
  },
  {
   "cell_type": "code",
   "execution_count": 141,
   "metadata": {
    "editable": true
   },
   "outputs": [
    {
     "data": {
      "text/html": [
       "<div>\n",
       "<style scoped>\n",
       "    .dataframe tbody tr th:only-of-type {\n",
       "        vertical-align: middle;\n",
       "    }\n",
       "\n",
       "    .dataframe tbody tr th {\n",
       "        vertical-align: top;\n",
       "    }\n",
       "\n",
       "    .dataframe thead th {\n",
       "        text-align: right;\n",
       "    }\n",
       "</style>\n",
       "<table border=\"1\" class=\"dataframe\">\n",
       "  <thead>\n",
       "    <tr style=\"text-align: right;\">\n",
       "      <th></th>\n",
       "      <th>cicid</th>\n",
       "      <th>i94yr</th>\n",
       "      <th>i94mon</th>\n",
       "      <th>i94cit</th>\n",
       "      <th>i94res</th>\n",
       "      <th>i94port</th>\n",
       "      <th>arrdate</th>\n",
       "      <th>i94mode</th>\n",
       "      <th>i94addr</th>\n",
       "      <th>depdate</th>\n",
       "      <th>...</th>\n",
       "      <th>entdepu</th>\n",
       "      <th>matflag</th>\n",
       "      <th>biryear</th>\n",
       "      <th>dtaddto</th>\n",
       "      <th>gender</th>\n",
       "      <th>insnum</th>\n",
       "      <th>airline</th>\n",
       "      <th>admnum</th>\n",
       "      <th>fltno</th>\n",
       "      <th>visatype</th>\n",
       "    </tr>\n",
       "  </thead>\n",
       "  <tbody>\n",
       "    <tr>\n",
       "      <th>0</th>\n",
       "      <td>6.0</td>\n",
       "      <td>2016.0</td>\n",
       "      <td>4.0</td>\n",
       "      <td>692.0</td>\n",
       "      <td>692.0</td>\n",
       "      <td>XXX</td>\n",
       "      <td>20160429</td>\n",
       "      <td>-1.0</td>\n",
       "      <td>TO BE DETERMINATED</td>\n",
       "      <td>19600101</td>\n",
       "      <td>...</td>\n",
       "      <td>U</td>\n",
       "      <td>TO BE DETERMINATED</td>\n",
       "      <td>1979.0</td>\n",
       "      <td>10282016</td>\n",
       "      <td>TO BE DETERMINATED</td>\n",
       "      <td>TO BE DETERMINATED</td>\n",
       "      <td>TO BE DETERMINATED</td>\n",
       "      <td>1.897628e+09</td>\n",
       "      <td>TO BE DETERMINATED</td>\n",
       "      <td>B2</td>\n",
       "    </tr>\n",
       "    <tr>\n",
       "      <th>1</th>\n",
       "      <td>7.0</td>\n",
       "      <td>2016.0</td>\n",
       "      <td>4.0</td>\n",
       "      <td>254.0</td>\n",
       "      <td>276.0</td>\n",
       "      <td>ATL</td>\n",
       "      <td>20160407</td>\n",
       "      <td>1.0</td>\n",
       "      <td>AL</td>\n",
       "      <td>19600101</td>\n",
       "      <td>...</td>\n",
       "      <td>Y</td>\n",
       "      <td>TO BE DETERMINATED</td>\n",
       "      <td>1991.0</td>\n",
       "      <td>D/S</td>\n",
       "      <td>M</td>\n",
       "      <td>TO BE DETERMINATED</td>\n",
       "      <td>TO BE DETERMINATED</td>\n",
       "      <td>3.736796e+09</td>\n",
       "      <td>00296</td>\n",
       "      <td>F1</td>\n",
       "    </tr>\n",
       "  </tbody>\n",
       "</table>\n",
       "<p>2 rows × 28 columns</p>\n",
       "</div>"
      ],
      "text/plain": [
       "   cicid   i94yr  i94mon  i94cit  i94res i94port   arrdate  i94mode  \\\n",
       "0    6.0  2016.0     4.0   692.0   692.0     XXX  20160429     -1.0   \n",
       "1    7.0  2016.0     4.0   254.0   276.0     ATL  20160407      1.0   \n",
       "\n",
       "              i94addr   depdate   ...     entdepu             matflag  \\\n",
       "0  TO BE DETERMINATED  19600101   ...           U  TO BE DETERMINATED   \n",
       "1                  AL  19600101   ...           Y  TO BE DETERMINATED   \n",
       "\n",
       "   biryear   dtaddto              gender              insnum  \\\n",
       "0   1979.0  10282016  TO BE DETERMINATED  TO BE DETERMINATED   \n",
       "1   1991.0       D/S                   M  TO BE DETERMINATED   \n",
       "\n",
       "              airline        admnum               fltno visatype  \n",
       "0  TO BE DETERMINATED  1.897628e+09  TO BE DETERMINATED       B2  \n",
       "1  TO BE DETERMINATED  3.736796e+09               00296       F1  \n",
       "\n",
       "[2 rows x 28 columns]"
      ]
     },
     "execution_count": 141,
     "metadata": {},
     "output_type": "execute_result"
    }
   ],
   "source": [
    "df.limit(2).toPandas()"
   ]
  },
  {
   "cell_type": "code",
   "execution_count": 22,
   "metadata": {
    "editable": true
   },
   "outputs": [],
   "source": [
    "dim_country.createOrReplaceTempView(\"country\")\n",
    "dim_visa.createOrReplaceTempView(\"visa\")\n",
    "dim_mode.createOrReplaceTempView(\"mode\")\n",
    "dim_airport.createOrReplaceTempView(\"airport\")\n",
    "dim_city.createOrReplaceTempView(\"city\")\n",
    "df.createOrReplaceTempView(\"fact\")"
   ]
  },
  {
   "cell_type": "code",
   "execution_count": null,
   "metadata": {
    "editable": true
   },
   "outputs": [],
   "source": [
    "fact = spark.sql(\"\"\"\n",
    "SELECT \n",
    "    f.i94yr as yr,\n",
    "    f.i94mon as mnth,\n",
    "    c.Code as cty_cntry,\n",
    "    f.i94res as resdnc_cntry,\n",
    "    a.local_code as prt,\n",
    "    f.arrdate as arrvl_dt,\n",
    "    m.code as arrvl_md,\n",
    "    ci.state_code as us_stt,\n",
    "    f.depdate as dprtr_dt,\n",
    "    f.i94bir as rpndnt_age,\n",
    "    v.Code as vs_typ_id,\n",
    "    f.count as cnt,\n",
    "    f.dtadfile as dt_fl,\n",
    "    f.visapost as vs_issd_stt,\n",
    "    f.occup as occptn,\n",
    "    f.entdepa as arrvl_flg,\n",
    "    f.entdepd as dprtr_flg,\n",
    "    f.entdepu as updt_flg,\n",
    "    f.matflag as arrvl_dprtr_flg,\n",
    "    f.biryear as brth_yr,\n",
    "    f.dtaddto as allwd_dt,\n",
    "    f.gender as gndr,\n",
    "    f.insnum as ins_nmbr,\n",
    "    f.airline as arln,\n",
    "    f.admnum as admssn_nmbr,\n",
    "    f.fltno as flght_nmbr,\n",
    "    f.visatype as vs_typ\n",
    "FROM fact f inner join country c on f.i94cit = c.Code\n",
    "     inner join airport a on f.i94port = a.local_code\n",
    "     inner join mode m on f.i94mode = m.code\n",
    "     inner join city ci on f.i94addr = ci.state_code\n",
    "     inner join visa v on f.i94visa = v.Code\n",
    "\"\"\")"
   ]
  },
  {
   "cell_type": "code",
   "execution_count": null,
   "metadata": {
    "editable": true
   },
   "outputs": [],
   "source": [
    "fact.limit(10).toPandas()"
   ]
  },
  {
   "cell_type": "code",
   "execution_count": 29,
   "metadata": {
    "editable": true
   },
   "outputs": [
    {
     "name": "stdout",
     "output_type": "stream",
     "text": [
      "root\n",
      " |-- Code: long (nullable = true)\n",
      " |-- Visa: string (nullable = true)\n",
      "\n"
     ]
    }
   ],
   "source": [
    "dim_visa.printSchema()"
   ]
  },
  {
   "cell_type": "code",
   "execution_count": 150,
   "metadata": {
    "editable": true
   },
   "outputs": [
    {
     "data": {
      "text/html": [
       "<div>\n",
       "<style scoped>\n",
       "    .dataframe tbody tr th:only-of-type {\n",
       "        vertical-align: middle;\n",
       "    }\n",
       "\n",
       "    .dataframe tbody tr th {\n",
       "        vertical-align: top;\n",
       "    }\n",
       "\n",
       "    .dataframe thead th {\n",
       "        text-align: right;\n",
       "    }\n",
       "</style>\n",
       "<table border=\"1\" class=\"dataframe\">\n",
       "  <thead>\n",
       "    <tr style=\"text-align: right;\">\n",
       "      <th></th>\n",
       "      <th>yr</th>\n",
       "      <th>mnth</th>\n",
       "      <th>cty_cntry</th>\n",
       "      <th>resdnc_cntry</th>\n",
       "      <th>prt</th>\n",
       "      <th>arrvl_dt</th>\n",
       "      <th>arrvl_md</th>\n",
       "      <th>us_stt</th>\n",
       "      <th>dprtr_dt</th>\n",
       "      <th>rpndnt_age</th>\n",
       "      <th>...</th>\n",
       "      <th>updt_flg</th>\n",
       "      <th>arrvl_dprtr_flg</th>\n",
       "      <th>brth_yr</th>\n",
       "      <th>allwd_dt</th>\n",
       "      <th>gndr</th>\n",
       "      <th>ins_nmbr</th>\n",
       "      <th>arln</th>\n",
       "      <th>admssn_nmbr</th>\n",
       "      <th>flght_nmbr</th>\n",
       "      <th>vs_typ</th>\n",
       "    </tr>\n",
       "  </thead>\n",
       "  <tbody>\n",
       "    <tr>\n",
       "      <th>0</th>\n",
       "      <td>2016.0</td>\n",
       "      <td>4.0</td>\n",
       "      <td>101</td>\n",
       "      <td>101.0</td>\n",
       "      <td>WAS</td>\n",
       "      <td>20160401</td>\n",
       "      <td>1</td>\n",
       "      <td>MI</td>\n",
       "      <td>20160825</td>\n",
       "      <td>55.0</td>\n",
       "      <td>...</td>\n",
       "      <td>TO BE DETERMINATED</td>\n",
       "      <td>M</td>\n",
       "      <td>1961.0</td>\n",
       "      <td>09302016</td>\n",
       "      <td>M</td>\n",
       "      <td>TO BE DETERMINATED</td>\n",
       "      <td>OS</td>\n",
       "      <td>6.666432e+08</td>\n",
       "      <td>93</td>\n",
       "      <td>B2</td>\n",
       "    </tr>\n",
       "    <tr>\n",
       "      <th>1</th>\n",
       "      <td>2016.0</td>\n",
       "      <td>4.0</td>\n",
       "      <td>101</td>\n",
       "      <td>101.0</td>\n",
       "      <td>NYC</td>\n",
       "      <td>20160401</td>\n",
       "      <td>1</td>\n",
       "      <td>MA</td>\n",
       "      <td>20160423</td>\n",
       "      <td>28.0</td>\n",
       "      <td>...</td>\n",
       "      <td>TO BE DETERMINATED</td>\n",
       "      <td>M</td>\n",
       "      <td>1988.0</td>\n",
       "      <td>09302016</td>\n",
       "      <td>TO BE DETERMINATED</td>\n",
       "      <td>TO BE DETERMINATED</td>\n",
       "      <td>AA</td>\n",
       "      <td>9.246846e+10</td>\n",
       "      <td>00199</td>\n",
       "      <td>B2</td>\n",
       "    </tr>\n",
       "    <tr>\n",
       "      <th>2</th>\n",
       "      <td>2016.0</td>\n",
       "      <td>4.0</td>\n",
       "      <td>101</td>\n",
       "      <td>101.0</td>\n",
       "      <td>NYC</td>\n",
       "      <td>20160401</td>\n",
       "      <td>1</td>\n",
       "      <td>MA</td>\n",
       "      <td>20160423</td>\n",
       "      <td>4.0</td>\n",
       "      <td>...</td>\n",
       "      <td>TO BE DETERMINATED</td>\n",
       "      <td>M</td>\n",
       "      <td>2012.0</td>\n",
       "      <td>09302016</td>\n",
       "      <td>TO BE DETERMINATED</td>\n",
       "      <td>TO BE DETERMINATED</td>\n",
       "      <td>AA</td>\n",
       "      <td>9.246846e+10</td>\n",
       "      <td>00199</td>\n",
       "      <td>B2</td>\n",
       "    </tr>\n",
       "    <tr>\n",
       "      <th>3</th>\n",
       "      <td>2016.0</td>\n",
       "      <td>4.0</td>\n",
       "      <td>101</td>\n",
       "      <td>101.0</td>\n",
       "      <td>NYC</td>\n",
       "      <td>20160401</td>\n",
       "      <td>1</td>\n",
       "      <td>MI</td>\n",
       "      <td>20160411</td>\n",
       "      <td>57.0</td>\n",
       "      <td>...</td>\n",
       "      <td>TO BE DETERMINATED</td>\n",
       "      <td>M</td>\n",
       "      <td>1959.0</td>\n",
       "      <td>09302016</td>\n",
       "      <td>TO BE DETERMINATED</td>\n",
       "      <td>TO BE DETERMINATED</td>\n",
       "      <td>AZ</td>\n",
       "      <td>9.247104e+10</td>\n",
       "      <td>00602</td>\n",
       "      <td>B1</td>\n",
       "    </tr>\n",
       "    <tr>\n",
       "      <th>4</th>\n",
       "      <td>2016.0</td>\n",
       "      <td>4.0</td>\n",
       "      <td>101</td>\n",
       "      <td>101.0</td>\n",
       "      <td>NYC</td>\n",
       "      <td>20160401</td>\n",
       "      <td>1</td>\n",
       "      <td>NJ</td>\n",
       "      <td>20160414</td>\n",
       "      <td>63.0</td>\n",
       "      <td>...</td>\n",
       "      <td>TO BE DETERMINATED</td>\n",
       "      <td>M</td>\n",
       "      <td>1953.0</td>\n",
       "      <td>09302016</td>\n",
       "      <td>TO BE DETERMINATED</td>\n",
       "      <td>TO BE DETERMINATED</td>\n",
       "      <td>AZ</td>\n",
       "      <td>9.247140e+10</td>\n",
       "      <td>00602</td>\n",
       "      <td>B2</td>\n",
       "    </tr>\n",
       "    <tr>\n",
       "      <th>5</th>\n",
       "      <td>2016.0</td>\n",
       "      <td>4.0</td>\n",
       "      <td>101</td>\n",
       "      <td>101.0</td>\n",
       "      <td>NYC</td>\n",
       "      <td>20160401</td>\n",
       "      <td>1</td>\n",
       "      <td>NJ</td>\n",
       "      <td>20160414</td>\n",
       "      <td>57.0</td>\n",
       "      <td>...</td>\n",
       "      <td>TO BE DETERMINATED</td>\n",
       "      <td>M</td>\n",
       "      <td>1959.0</td>\n",
       "      <td>09302016</td>\n",
       "      <td>TO BE DETERMINATED</td>\n",
       "      <td>TO BE DETERMINATED</td>\n",
       "      <td>AZ</td>\n",
       "      <td>9.247161e+10</td>\n",
       "      <td>00602</td>\n",
       "      <td>B2</td>\n",
       "    </tr>\n",
       "    <tr>\n",
       "      <th>6</th>\n",
       "      <td>2016.0</td>\n",
       "      <td>4.0</td>\n",
       "      <td>101</td>\n",
       "      <td>101.0</td>\n",
       "      <td>NYC</td>\n",
       "      <td>20160401</td>\n",
       "      <td>1</td>\n",
       "      <td>NY</td>\n",
       "      <td>20160409</td>\n",
       "      <td>46.0</td>\n",
       "      <td>...</td>\n",
       "      <td>TO BE DETERMINATED</td>\n",
       "      <td>M</td>\n",
       "      <td>1970.0</td>\n",
       "      <td>09302016</td>\n",
       "      <td>TO BE DETERMINATED</td>\n",
       "      <td>TO BE DETERMINATED</td>\n",
       "      <td>AZ</td>\n",
       "      <td>9.247080e+10</td>\n",
       "      <td>00602</td>\n",
       "      <td>B2</td>\n",
       "    </tr>\n",
       "    <tr>\n",
       "      <th>7</th>\n",
       "      <td>2016.0</td>\n",
       "      <td>4.0</td>\n",
       "      <td>101</td>\n",
       "      <td>101.0</td>\n",
       "      <td>NYC</td>\n",
       "      <td>20160401</td>\n",
       "      <td>1</td>\n",
       "      <td>NY</td>\n",
       "      <td>20160418</td>\n",
       "      <td>48.0</td>\n",
       "      <td>...</td>\n",
       "      <td>TO BE DETERMINATED</td>\n",
       "      <td>M</td>\n",
       "      <td>1968.0</td>\n",
       "      <td>09302016</td>\n",
       "      <td>TO BE DETERMINATED</td>\n",
       "      <td>TO BE DETERMINATED</td>\n",
       "      <td>AZ</td>\n",
       "      <td>9.247849e+10</td>\n",
       "      <td>00608</td>\n",
       "      <td>B1</td>\n",
       "    </tr>\n",
       "    <tr>\n",
       "      <th>8</th>\n",
       "      <td>2016.0</td>\n",
       "      <td>4.0</td>\n",
       "      <td>101</td>\n",
       "      <td>101.0</td>\n",
       "      <td>NYC</td>\n",
       "      <td>20160401</td>\n",
       "      <td>1</td>\n",
       "      <td>NY</td>\n",
       "      <td>20160805</td>\n",
       "      <td>52.0</td>\n",
       "      <td>...</td>\n",
       "      <td>TO BE DETERMINATED</td>\n",
       "      <td>M</td>\n",
       "      <td>1964.0</td>\n",
       "      <td>09302016</td>\n",
       "      <td>TO BE DETERMINATED</td>\n",
       "      <td>TO BE DETERMINATED</td>\n",
       "      <td>TK</td>\n",
       "      <td>9.250139e+10</td>\n",
       "      <td>00001</td>\n",
       "      <td>B2</td>\n",
       "    </tr>\n",
       "    <tr>\n",
       "      <th>9</th>\n",
       "      <td>2016.0</td>\n",
       "      <td>4.0</td>\n",
       "      <td>101</td>\n",
       "      <td>101.0</td>\n",
       "      <td>TOR</td>\n",
       "      <td>20160401</td>\n",
       "      <td>1</td>\n",
       "      <td>MO</td>\n",
       "      <td>20160410</td>\n",
       "      <td>33.0</td>\n",
       "      <td>...</td>\n",
       "      <td>TO BE DETERMINATED</td>\n",
       "      <td>M</td>\n",
       "      <td>1983.0</td>\n",
       "      <td>09302016</td>\n",
       "      <td>TO BE DETERMINATED</td>\n",
       "      <td>TO BE DETERMINATED</td>\n",
       "      <td>MQ</td>\n",
       "      <td>9.249091e+10</td>\n",
       "      <td>03348</td>\n",
       "      <td>B2</td>\n",
       "    </tr>\n",
       "    <tr>\n",
       "      <th>10</th>\n",
       "      <td>2016.0</td>\n",
       "      <td>4.0</td>\n",
       "      <td>101</td>\n",
       "      <td>101.0</td>\n",
       "      <td>BOS</td>\n",
       "      <td>20160401</td>\n",
       "      <td>1</td>\n",
       "      <td>MA</td>\n",
       "      <td>20160405</td>\n",
       "      <td>58.0</td>\n",
       "      <td>...</td>\n",
       "      <td>TO BE DETERMINATED</td>\n",
       "      <td>M</td>\n",
       "      <td>1958.0</td>\n",
       "      <td>04062016</td>\n",
       "      <td>M</td>\n",
       "      <td>TO BE DETERMINATED</td>\n",
       "      <td>LH</td>\n",
       "      <td>9.247876e+10</td>\n",
       "      <td>00422</td>\n",
       "      <td>B1</td>\n",
       "    </tr>\n",
       "    <tr>\n",
       "      <th>11</th>\n",
       "      <td>2016.0</td>\n",
       "      <td>4.0</td>\n",
       "      <td>101</td>\n",
       "      <td>101.0</td>\n",
       "      <td>ATL</td>\n",
       "      <td>20160401</td>\n",
       "      <td>1</td>\n",
       "      <td>MA</td>\n",
       "      <td>20160405</td>\n",
       "      <td>56.0</td>\n",
       "      <td>...</td>\n",
       "      <td>TO BE DETERMINATED</td>\n",
       "      <td>M</td>\n",
       "      <td>1960.0</td>\n",
       "      <td>04062016</td>\n",
       "      <td>F</td>\n",
       "      <td>TO BE DETERMINATED</td>\n",
       "      <td>LH</td>\n",
       "      <td>9.247890e+10</td>\n",
       "      <td>00422</td>\n",
       "      <td>B1</td>\n",
       "    </tr>\n",
       "    <tr>\n",
       "      <th>12</th>\n",
       "      <td>2016.0</td>\n",
       "      <td>4.0</td>\n",
       "      <td>101</td>\n",
       "      <td>101.0</td>\n",
       "      <td>ATL</td>\n",
       "      <td>20160401</td>\n",
       "      <td>1</td>\n",
       "      <td>MA</td>\n",
       "      <td>20160417</td>\n",
       "      <td>62.0</td>\n",
       "      <td>...</td>\n",
       "      <td>TO BE DETERMINATED</td>\n",
       "      <td>M</td>\n",
       "      <td>1954.0</td>\n",
       "      <td>09302016</td>\n",
       "      <td>M</td>\n",
       "      <td>TO BE DETERMINATED</td>\n",
       "      <td>AZ</td>\n",
       "      <td>9.250378e+10</td>\n",
       "      <td>00614</td>\n",
       "      <td>B2</td>\n",
       "    </tr>\n",
       "    <tr>\n",
       "      <th>13</th>\n",
       "      <td>2016.0</td>\n",
       "      <td>4.0</td>\n",
       "      <td>101</td>\n",
       "      <td>101.0</td>\n",
       "      <td>ATL</td>\n",
       "      <td>20160401</td>\n",
       "      <td>1</td>\n",
       "      <td>NJ</td>\n",
       "      <td>20160504</td>\n",
       "      <td>49.0</td>\n",
       "      <td>...</td>\n",
       "      <td>TO BE DETERMINATED</td>\n",
       "      <td>M</td>\n",
       "      <td>1967.0</td>\n",
       "      <td>09302016</td>\n",
       "      <td>M</td>\n",
       "      <td>TO BE DETERMINATED</td>\n",
       "      <td>OS</td>\n",
       "      <td>9.247021e+10</td>\n",
       "      <td>00089</td>\n",
       "      <td>B2</td>\n",
       "    </tr>\n",
       "    <tr>\n",
       "      <th>14</th>\n",
       "      <td>2016.0</td>\n",
       "      <td>4.0</td>\n",
       "      <td>101</td>\n",
       "      <td>101.0</td>\n",
       "      <td>ATL</td>\n",
       "      <td>20160401</td>\n",
       "      <td>1</td>\n",
       "      <td>NY</td>\n",
       "      <td>20160606</td>\n",
       "      <td>43.0</td>\n",
       "      <td>...</td>\n",
       "      <td>TO BE DETERMINATED</td>\n",
       "      <td>M</td>\n",
       "      <td>1973.0</td>\n",
       "      <td>09302016</td>\n",
       "      <td>M</td>\n",
       "      <td>TO BE DETERMINATED</td>\n",
       "      <td>OS</td>\n",
       "      <td>9.247129e+10</td>\n",
       "      <td>00089</td>\n",
       "      <td>B2</td>\n",
       "    </tr>\n",
       "    <tr>\n",
       "      <th>15</th>\n",
       "      <td>2016.0</td>\n",
       "      <td>4.0</td>\n",
       "      <td>101</td>\n",
       "      <td>101.0</td>\n",
       "      <td>HOU</td>\n",
       "      <td>20160401</td>\n",
       "      <td>1</td>\n",
       "      <td>TX</td>\n",
       "      <td>20160410</td>\n",
       "      <td>53.0</td>\n",
       "      <td>...</td>\n",
       "      <td>TO BE DETERMINATED</td>\n",
       "      <td>M</td>\n",
       "      <td>1963.0</td>\n",
       "      <td>09302016</td>\n",
       "      <td>F</td>\n",
       "      <td>TO BE DETERMINATED</td>\n",
       "      <td>TK</td>\n",
       "      <td>9.250930e+10</td>\n",
       "      <td>00033</td>\n",
       "      <td>B2</td>\n",
       "    </tr>\n",
       "    <tr>\n",
       "      <th>16</th>\n",
       "      <td>2016.0</td>\n",
       "      <td>4.0</td>\n",
       "      <td>101</td>\n",
       "      <td>101.0</td>\n",
       "      <td>NYC</td>\n",
       "      <td>20160401</td>\n",
       "      <td>1</td>\n",
       "      <td>CT</td>\n",
       "      <td>19600101</td>\n",
       "      <td>48.0</td>\n",
       "      <td>...</td>\n",
       "      <td>TO BE DETERMINATED</td>\n",
       "      <td>TO BE DETERMINATED</td>\n",
       "      <td>1968.0</td>\n",
       "      <td>09302016</td>\n",
       "      <td>M</td>\n",
       "      <td>TO BE DETERMINATED</td>\n",
       "      <td>AZ</td>\n",
       "      <td>9.247042e+10</td>\n",
       "      <td>00602</td>\n",
       "      <td>B2</td>\n",
       "    </tr>\n",
       "    <tr>\n",
       "      <th>17</th>\n",
       "      <td>2016.0</td>\n",
       "      <td>4.0</td>\n",
       "      <td>101</td>\n",
       "      <td>101.0</td>\n",
       "      <td>NYC</td>\n",
       "      <td>20160401</td>\n",
       "      <td>1</td>\n",
       "      <td>CT</td>\n",
       "      <td>19600101</td>\n",
       "      <td>74.0</td>\n",
       "      <td>...</td>\n",
       "      <td>TO BE DETERMINATED</td>\n",
       "      <td>TO BE DETERMINATED</td>\n",
       "      <td>1942.0</td>\n",
       "      <td>09302016</td>\n",
       "      <td>F</td>\n",
       "      <td>TO BE DETERMINATED</td>\n",
       "      <td>TK</td>\n",
       "      <td>6.697122e+08</td>\n",
       "      <td>1</td>\n",
       "      <td>B2</td>\n",
       "    </tr>\n",
       "    <tr>\n",
       "      <th>18</th>\n",
       "      <td>2016.0</td>\n",
       "      <td>4.0</td>\n",
       "      <td>101</td>\n",
       "      <td>101.0</td>\n",
       "      <td>NYC</td>\n",
       "      <td>20160401</td>\n",
       "      <td>1</td>\n",
       "      <td>NJ</td>\n",
       "      <td>20160417</td>\n",
       "      <td>37.0</td>\n",
       "      <td>...</td>\n",
       "      <td>TO BE DETERMINATED</td>\n",
       "      <td>M</td>\n",
       "      <td>1979.0</td>\n",
       "      <td>09302016</td>\n",
       "      <td>M</td>\n",
       "      <td>TO BE DETERMINATED</td>\n",
       "      <td>TK</td>\n",
       "      <td>9.250626e+10</td>\n",
       "      <td>00001</td>\n",
       "      <td>B2</td>\n",
       "    </tr>\n",
       "    <tr>\n",
       "      <th>19</th>\n",
       "      <td>2016.0</td>\n",
       "      <td>4.0</td>\n",
       "      <td>101</td>\n",
       "      <td>101.0</td>\n",
       "      <td>NYC</td>\n",
       "      <td>20160401</td>\n",
       "      <td>1</td>\n",
       "      <td>NJ</td>\n",
       "      <td>20160423</td>\n",
       "      <td>49.0</td>\n",
       "      <td>...</td>\n",
       "      <td>TO BE DETERMINATED</td>\n",
       "      <td>M</td>\n",
       "      <td>1967.0</td>\n",
       "      <td>09302016</td>\n",
       "      <td>F</td>\n",
       "      <td>TO BE DETERMINATED</td>\n",
       "      <td>AZ</td>\n",
       "      <td>9.247562e+10</td>\n",
       "      <td>00608</td>\n",
       "      <td>B2</td>\n",
       "    </tr>\n",
       "    <tr>\n",
       "      <th>20</th>\n",
       "      <td>2016.0</td>\n",
       "      <td>4.0</td>\n",
       "      <td>101</td>\n",
       "      <td>101.0</td>\n",
       "      <td>NYC</td>\n",
       "      <td>20160401</td>\n",
       "      <td>1</td>\n",
       "      <td>NY</td>\n",
       "      <td>20160501</td>\n",
       "      <td>33.0</td>\n",
       "      <td>...</td>\n",
       "      <td>TO BE DETERMINATED</td>\n",
       "      <td>M</td>\n",
       "      <td>1983.0</td>\n",
       "      <td>09302016</td>\n",
       "      <td>M</td>\n",
       "      <td>TO BE DETERMINATED</td>\n",
       "      <td>AZ</td>\n",
       "      <td>9.248609e+10</td>\n",
       "      <td>00608</td>\n",
       "      <td>B2</td>\n",
       "    </tr>\n",
       "    <tr>\n",
       "      <th>21</th>\n",
       "      <td>2016.0</td>\n",
       "      <td>4.0</td>\n",
       "      <td>101</td>\n",
       "      <td>101.0</td>\n",
       "      <td>MIA</td>\n",
       "      <td>20160401</td>\n",
       "      <td>1</td>\n",
       "      <td>FL</td>\n",
       "      <td>20160430</td>\n",
       "      <td>65.0</td>\n",
       "      <td>...</td>\n",
       "      <td>TO BE DETERMINATED</td>\n",
       "      <td>M</td>\n",
       "      <td>1951.0</td>\n",
       "      <td>09302016</td>\n",
       "      <td>F</td>\n",
       "      <td>TO BE DETERMINATED</td>\n",
       "      <td>TK</td>\n",
       "      <td>9.250766e+10</td>\n",
       "      <td>00077</td>\n",
       "      <td>B2</td>\n",
       "    </tr>\n",
       "    <tr>\n",
       "      <th>22</th>\n",
       "      <td>2016.0</td>\n",
       "      <td>4.0</td>\n",
       "      <td>101</td>\n",
       "      <td>101.0</td>\n",
       "      <td>CHI</td>\n",
       "      <td>20160401</td>\n",
       "      <td>1</td>\n",
       "      <td>IL</td>\n",
       "      <td>20160410</td>\n",
       "      <td>35.0</td>\n",
       "      <td>...</td>\n",
       "      <td>TO BE DETERMINATED</td>\n",
       "      <td>M</td>\n",
       "      <td>1981.0</td>\n",
       "      <td>09302016</td>\n",
       "      <td>M</td>\n",
       "      <td>TO BE DETERMINATED</td>\n",
       "      <td>OS</td>\n",
       "      <td>9.248056e+10</td>\n",
       "      <td>00065</td>\n",
       "      <td>B1</td>\n",
       "    </tr>\n",
       "    <tr>\n",
       "      <th>23</th>\n",
       "      <td>2016.0</td>\n",
       "      <td>4.0</td>\n",
       "      <td>101</td>\n",
       "      <td>101.0</td>\n",
       "      <td>CHI</td>\n",
       "      <td>20160401</td>\n",
       "      <td>1</td>\n",
       "      <td>IL</td>\n",
       "      <td>20160418</td>\n",
       "      <td>32.0</td>\n",
       "      <td>...</td>\n",
       "      <td>TO BE DETERMINATED</td>\n",
       "      <td>M</td>\n",
       "      <td>1984.0</td>\n",
       "      <td>09302016</td>\n",
       "      <td>M</td>\n",
       "      <td>TO BE DETERMINATED</td>\n",
       "      <td>OS</td>\n",
       "      <td>9.247781e+10</td>\n",
       "      <td>00065</td>\n",
       "      <td>B1</td>\n",
       "    </tr>\n",
       "    <tr>\n",
       "      <th>24</th>\n",
       "      <td>2016.0</td>\n",
       "      <td>4.0</td>\n",
       "      <td>101</td>\n",
       "      <td>101.0</td>\n",
       "      <td>CHI</td>\n",
       "      <td>20160401</td>\n",
       "      <td>1</td>\n",
       "      <td>IL</td>\n",
       "      <td>20160506</td>\n",
       "      <td>38.0</td>\n",
       "      <td>...</td>\n",
       "      <td>TO BE DETERMINATED</td>\n",
       "      <td>M</td>\n",
       "      <td>1978.0</td>\n",
       "      <td>09302016</td>\n",
       "      <td>M</td>\n",
       "      <td>TO BE DETERMINATED</td>\n",
       "      <td>TK</td>\n",
       "      <td>9.250622e+10</td>\n",
       "      <td>00005</td>\n",
       "      <td>B1</td>\n",
       "    </tr>\n",
       "    <tr>\n",
       "      <th>25</th>\n",
       "      <td>2016.0</td>\n",
       "      <td>4.0</td>\n",
       "      <td>101</td>\n",
       "      <td>110.0</td>\n",
       "      <td>NYC</td>\n",
       "      <td>20160401</td>\n",
       "      <td>1</td>\n",
       "      <td>NJ</td>\n",
       "      <td>20160730</td>\n",
       "      <td>28.0</td>\n",
       "      <td>...</td>\n",
       "      <td>TO BE DETERMINATED</td>\n",
       "      <td>M</td>\n",
       "      <td>1988.0</td>\n",
       "      <td>D/S</td>\n",
       "      <td>F</td>\n",
       "      <td>TO BE DETERMINATED</td>\n",
       "      <td>AY</td>\n",
       "      <td>9.249398e+10</td>\n",
       "      <td>00005</td>\n",
       "      <td>F1</td>\n",
       "    </tr>\n",
       "    <tr>\n",
       "      <th>26</th>\n",
       "      <td>2016.0</td>\n",
       "      <td>4.0</td>\n",
       "      <td>101</td>\n",
       "      <td>117.0</td>\n",
       "      <td>NYC</td>\n",
       "      <td>20160401</td>\n",
       "      <td>1</td>\n",
       "      <td>NY</td>\n",
       "      <td>20160428</td>\n",
       "      <td>68.0</td>\n",
       "      <td>...</td>\n",
       "      <td>TO BE DETERMINATED</td>\n",
       "      <td>M</td>\n",
       "      <td>1948.0</td>\n",
       "      <td>09302016</td>\n",
       "      <td>M</td>\n",
       "      <td>TO BE DETERMINATED</td>\n",
       "      <td>AA</td>\n",
       "      <td>9.247360e+10</td>\n",
       "      <td>00199</td>\n",
       "      <td>B2</td>\n",
       "    </tr>\n",
       "    <tr>\n",
       "      <th>27</th>\n",
       "      <td>2016.0</td>\n",
       "      <td>4.0</td>\n",
       "      <td>101</td>\n",
       "      <td>117.0</td>\n",
       "      <td>NYC</td>\n",
       "      <td>20160401</td>\n",
       "      <td>1</td>\n",
       "      <td>NY</td>\n",
       "      <td>20160428</td>\n",
       "      <td>61.0</td>\n",
       "      <td>...</td>\n",
       "      <td>TO BE DETERMINATED</td>\n",
       "      <td>M</td>\n",
       "      <td>1955.0</td>\n",
       "      <td>09302016</td>\n",
       "      <td>F</td>\n",
       "      <td>TO BE DETERMINATED</td>\n",
       "      <td>AA</td>\n",
       "      <td>9.247342e+10</td>\n",
       "      <td>00199</td>\n",
       "      <td>B2</td>\n",
       "    </tr>\n",
       "    <tr>\n",
       "      <th>28</th>\n",
       "      <td>2016.0</td>\n",
       "      <td>4.0</td>\n",
       "      <td>101</td>\n",
       "      <td>117.0</td>\n",
       "      <td>NYC</td>\n",
       "      <td>20160401</td>\n",
       "      <td>1</td>\n",
       "      <td>MI</td>\n",
       "      <td>20160419</td>\n",
       "      <td>41.0</td>\n",
       "      <td>...</td>\n",
       "      <td>TO BE DETERMINATED</td>\n",
       "      <td>M</td>\n",
       "      <td>1975.0</td>\n",
       "      <td>09302016</td>\n",
       "      <td>F</td>\n",
       "      <td>TO BE DETERMINATED</td>\n",
       "      <td>AZ</td>\n",
       "      <td>9.250368e+10</td>\n",
       "      <td>00610</td>\n",
       "      <td>B2</td>\n",
       "    </tr>\n",
       "    <tr>\n",
       "      <th>29</th>\n",
       "      <td>2016.0</td>\n",
       "      <td>4.0</td>\n",
       "      <td>101</td>\n",
       "      <td>117.0</td>\n",
       "      <td>MIA</td>\n",
       "      <td>20160401</td>\n",
       "      <td>1</td>\n",
       "      <td>FL</td>\n",
       "      <td>20160411</td>\n",
       "      <td>45.0</td>\n",
       "      <td>...</td>\n",
       "      <td>TO BE DETERMINATED</td>\n",
       "      <td>M</td>\n",
       "      <td>1971.0</td>\n",
       "      <td>09302016</td>\n",
       "      <td>F</td>\n",
       "      <td>TO BE DETERMINATED</td>\n",
       "      <td>AA</td>\n",
       "      <td>9.248627e+10</td>\n",
       "      <td>00207</td>\n",
       "      <td>B2</td>\n",
       "    </tr>\n",
       "    <tr>\n",
       "      <th>...</th>\n",
       "      <td>...</td>\n",
       "      <td>...</td>\n",
       "      <td>...</td>\n",
       "      <td>...</td>\n",
       "      <td>...</td>\n",
       "      <td>...</td>\n",
       "      <td>...</td>\n",
       "      <td>...</td>\n",
       "      <td>...</td>\n",
       "      <td>...</td>\n",
       "      <td>...</td>\n",
       "      <td>...</td>\n",
       "      <td>...</td>\n",
       "      <td>...</td>\n",
       "      <td>...</td>\n",
       "      <td>...</td>\n",
       "      <td>...</td>\n",
       "      <td>...</td>\n",
       "      <td>...</td>\n",
       "      <td>...</td>\n",
       "      <td>...</td>\n",
       "    </tr>\n",
       "    <tr>\n",
       "      <th>70</th>\n",
       "      <td>2016.0</td>\n",
       "      <td>4.0</td>\n",
       "      <td>103</td>\n",
       "      <td>103.0</td>\n",
       "      <td>DET</td>\n",
       "      <td>20160401</td>\n",
       "      <td>1</td>\n",
       "      <td>MI</td>\n",
       "      <td>20160405</td>\n",
       "      <td>36.0</td>\n",
       "      <td>...</td>\n",
       "      <td>TO BE DETERMINATED</td>\n",
       "      <td>M</td>\n",
       "      <td>1980.0</td>\n",
       "      <td>06292016</td>\n",
       "      <td>M</td>\n",
       "      <td>TO BE DETERMINATED</td>\n",
       "      <td>LH</td>\n",
       "      <td>5.541992e+10</td>\n",
       "      <td>00442</td>\n",
       "      <td>WB</td>\n",
       "    </tr>\n",
       "    <tr>\n",
       "      <th>71</th>\n",
       "      <td>2016.0</td>\n",
       "      <td>4.0</td>\n",
       "      <td>103</td>\n",
       "      <td>103.0</td>\n",
       "      <td>DET</td>\n",
       "      <td>20160401</td>\n",
       "      <td>1</td>\n",
       "      <td>MI</td>\n",
       "      <td>20160412</td>\n",
       "      <td>74.0</td>\n",
       "      <td>...</td>\n",
       "      <td>TO BE DETERMINATED</td>\n",
       "      <td>M</td>\n",
       "      <td>1942.0</td>\n",
       "      <td>06292016</td>\n",
       "      <td>M</td>\n",
       "      <td>TO BE DETERMINATED</td>\n",
       "      <td>LH</td>\n",
       "      <td>5.542591e+10</td>\n",
       "      <td>00442</td>\n",
       "      <td>WT</td>\n",
       "    </tr>\n",
       "    <tr>\n",
       "      <th>72</th>\n",
       "      <td>2016.0</td>\n",
       "      <td>4.0</td>\n",
       "      <td>103</td>\n",
       "      <td>103.0</td>\n",
       "      <td>DET</td>\n",
       "      <td>20160401</td>\n",
       "      <td>1</td>\n",
       "      <td>MI</td>\n",
       "      <td>20160412</td>\n",
       "      <td>61.0</td>\n",
       "      <td>...</td>\n",
       "      <td>TO BE DETERMINATED</td>\n",
       "      <td>M</td>\n",
       "      <td>1955.0</td>\n",
       "      <td>06292016</td>\n",
       "      <td>F</td>\n",
       "      <td>TO BE DETERMINATED</td>\n",
       "      <td>LH</td>\n",
       "      <td>5.542624e+10</td>\n",
       "      <td>00442</td>\n",
       "      <td>WT</td>\n",
       "    </tr>\n",
       "    <tr>\n",
       "      <th>73</th>\n",
       "      <td>2016.0</td>\n",
       "      <td>4.0</td>\n",
       "      <td>103</td>\n",
       "      <td>103.0</td>\n",
       "      <td>DET</td>\n",
       "      <td>20160401</td>\n",
       "      <td>1</td>\n",
       "      <td>MI</td>\n",
       "      <td>20160412</td>\n",
       "      <td>33.0</td>\n",
       "      <td>...</td>\n",
       "      <td>TO BE DETERMINATED</td>\n",
       "      <td>M</td>\n",
       "      <td>1983.0</td>\n",
       "      <td>06292016</td>\n",
       "      <td>M</td>\n",
       "      <td>TO BE DETERMINATED</td>\n",
       "      <td>LH</td>\n",
       "      <td>5.542472e+10</td>\n",
       "      <td>00442</td>\n",
       "      <td>WT</td>\n",
       "    </tr>\n",
       "    <tr>\n",
       "      <th>74</th>\n",
       "      <td>2016.0</td>\n",
       "      <td>4.0</td>\n",
       "      <td>103</td>\n",
       "      <td>103.0</td>\n",
       "      <td>DET</td>\n",
       "      <td>20160401</td>\n",
       "      <td>1</td>\n",
       "      <td>MI</td>\n",
       "      <td>20160412</td>\n",
       "      <td>2.0</td>\n",
       "      <td>...</td>\n",
       "      <td>TO BE DETERMINATED</td>\n",
       "      <td>M</td>\n",
       "      <td>2014.0</td>\n",
       "      <td>06292016</td>\n",
       "      <td>M</td>\n",
       "      <td>TO BE DETERMINATED</td>\n",
       "      <td>LH</td>\n",
       "      <td>5.542538e+10</td>\n",
       "      <td>00442</td>\n",
       "      <td>WT</td>\n",
       "    </tr>\n",
       "    <tr>\n",
       "      <th>75</th>\n",
       "      <td>2016.0</td>\n",
       "      <td>4.0</td>\n",
       "      <td>103</td>\n",
       "      <td>103.0</td>\n",
       "      <td>DET</td>\n",
       "      <td>20160401</td>\n",
       "      <td>1</td>\n",
       "      <td>MI</td>\n",
       "      <td>20160412</td>\n",
       "      <td>0.0</td>\n",
       "      <td>...</td>\n",
       "      <td>TO BE DETERMINATED</td>\n",
       "      <td>M</td>\n",
       "      <td>2016.0</td>\n",
       "      <td>06292016</td>\n",
       "      <td>M</td>\n",
       "      <td>TO BE DETERMINATED</td>\n",
       "      <td>LH</td>\n",
       "      <td>5.542559e+10</td>\n",
       "      <td>00442</td>\n",
       "      <td>WT</td>\n",
       "    </tr>\n",
       "    <tr>\n",
       "      <th>76</th>\n",
       "      <td>2016.0</td>\n",
       "      <td>4.0</td>\n",
       "      <td>103</td>\n",
       "      <td>103.0</td>\n",
       "      <td>DET</td>\n",
       "      <td>20160401</td>\n",
       "      <td>1</td>\n",
       "      <td>MI</td>\n",
       "      <td>20160414</td>\n",
       "      <td>34.0</td>\n",
       "      <td>...</td>\n",
       "      <td>TO BE DETERMINATED</td>\n",
       "      <td>M</td>\n",
       "      <td>1982.0</td>\n",
       "      <td>06292016</td>\n",
       "      <td>F</td>\n",
       "      <td>TO BE DETERMINATED</td>\n",
       "      <td>LH</td>\n",
       "      <td>5.541936e+10</td>\n",
       "      <td>00442</td>\n",
       "      <td>WB</td>\n",
       "    </tr>\n",
       "    <tr>\n",
       "      <th>77</th>\n",
       "      <td>2016.0</td>\n",
       "      <td>4.0</td>\n",
       "      <td>103</td>\n",
       "      <td>103.0</td>\n",
       "      <td>DET</td>\n",
       "      <td>20160401</td>\n",
       "      <td>1</td>\n",
       "      <td>MI</td>\n",
       "      <td>20160414</td>\n",
       "      <td>29.0</td>\n",
       "      <td>...</td>\n",
       "      <td>TO BE DETERMINATED</td>\n",
       "      <td>M</td>\n",
       "      <td>1987.0</td>\n",
       "      <td>06292016</td>\n",
       "      <td>M</td>\n",
       "      <td>TO BE DETERMINATED</td>\n",
       "      <td>LH</td>\n",
       "      <td>5.541953e+10</td>\n",
       "      <td>00442</td>\n",
       "      <td>WB</td>\n",
       "    </tr>\n",
       "    <tr>\n",
       "      <th>78</th>\n",
       "      <td>2016.0</td>\n",
       "      <td>4.0</td>\n",
       "      <td>103</td>\n",
       "      <td>103.0</td>\n",
       "      <td>NEW</td>\n",
       "      <td>20160401</td>\n",
       "      <td>1</td>\n",
       "      <td>CA</td>\n",
       "      <td>20160405</td>\n",
       "      <td>68.0</td>\n",
       "      <td>...</td>\n",
       "      <td>TO BE DETERMINATED</td>\n",
       "      <td>M</td>\n",
       "      <td>1948.0</td>\n",
       "      <td>06292016</td>\n",
       "      <td>M</td>\n",
       "      <td>TO BE DETERMINATED</td>\n",
       "      <td>LH</td>\n",
       "      <td>5.543656e+10</td>\n",
       "      <td>00402</td>\n",
       "      <td>WB</td>\n",
       "    </tr>\n",
       "    <tr>\n",
       "      <th>79</th>\n",
       "      <td>2016.0</td>\n",
       "      <td>4.0</td>\n",
       "      <td>103</td>\n",
       "      <td>103.0</td>\n",
       "      <td>NEW</td>\n",
       "      <td>20160401</td>\n",
       "      <td>1</td>\n",
       "      <td>CA</td>\n",
       "      <td>20160423</td>\n",
       "      <td>70.0</td>\n",
       "      <td>...</td>\n",
       "      <td>TO BE DETERMINATED</td>\n",
       "      <td>M</td>\n",
       "      <td>1946.0</td>\n",
       "      <td>06292016</td>\n",
       "      <td>F</td>\n",
       "      <td>TO BE DETERMINATED</td>\n",
       "      <td>OS</td>\n",
       "      <td>5.542247e+10</td>\n",
       "      <td>00089</td>\n",
       "      <td>WT</td>\n",
       "    </tr>\n",
       "    <tr>\n",
       "      <th>80</th>\n",
       "      <td>2016.0</td>\n",
       "      <td>4.0</td>\n",
       "      <td>103</td>\n",
       "      <td>103.0</td>\n",
       "      <td>NEW</td>\n",
       "      <td>20160401</td>\n",
       "      <td>1</td>\n",
       "      <td>CA</td>\n",
       "      <td>20160423</td>\n",
       "      <td>40.0</td>\n",
       "      <td>...</td>\n",
       "      <td>TO BE DETERMINATED</td>\n",
       "      <td>M</td>\n",
       "      <td>1976.0</td>\n",
       "      <td>06292016</td>\n",
       "      <td>M</td>\n",
       "      <td>TO BE DETERMINATED</td>\n",
       "      <td>OS</td>\n",
       "      <td>5.542226e+10</td>\n",
       "      <td>00089</td>\n",
       "      <td>WT</td>\n",
       "    </tr>\n",
       "    <tr>\n",
       "      <th>81</th>\n",
       "      <td>2016.0</td>\n",
       "      <td>4.0</td>\n",
       "      <td>103</td>\n",
       "      <td>103.0</td>\n",
       "      <td>NEW</td>\n",
       "      <td>20160401</td>\n",
       "      <td>1</td>\n",
       "      <td>MD</td>\n",
       "      <td>20160405</td>\n",
       "      <td>53.0</td>\n",
       "      <td>...</td>\n",
       "      <td>TO BE DETERMINATED</td>\n",
       "      <td>M</td>\n",
       "      <td>1963.0</td>\n",
       "      <td>06292016</td>\n",
       "      <td>F</td>\n",
       "      <td>TO BE DETERMINATED</td>\n",
       "      <td>LH</td>\n",
       "      <td>5.543624e+10</td>\n",
       "      <td>00402</td>\n",
       "      <td>WT</td>\n",
       "    </tr>\n",
       "    <tr>\n",
       "      <th>82</th>\n",
       "      <td>2016.0</td>\n",
       "      <td>4.0</td>\n",
       "      <td>103</td>\n",
       "      <td>103.0</td>\n",
       "      <td>NEW</td>\n",
       "      <td>20160401</td>\n",
       "      <td>1</td>\n",
       "      <td>MD</td>\n",
       "      <td>20160405</td>\n",
       "      <td>53.0</td>\n",
       "      <td>...</td>\n",
       "      <td>TO BE DETERMINATED</td>\n",
       "      <td>M</td>\n",
       "      <td>1963.0</td>\n",
       "      <td>06292016</td>\n",
       "      <td>M</td>\n",
       "      <td>TO BE DETERMINATED</td>\n",
       "      <td>LH</td>\n",
       "      <td>5.543637e+10</td>\n",
       "      <td>00402</td>\n",
       "      <td>WT</td>\n",
       "    </tr>\n",
       "    <tr>\n",
       "      <th>83</th>\n",
       "      <td>2016.0</td>\n",
       "      <td>4.0</td>\n",
       "      <td>103</td>\n",
       "      <td>103.0</td>\n",
       "      <td>NEW</td>\n",
       "      <td>20160401</td>\n",
       "      <td>1</td>\n",
       "      <td>NJ</td>\n",
       "      <td>20160417</td>\n",
       "      <td>27.0</td>\n",
       "      <td>...</td>\n",
       "      <td>TO BE DETERMINATED</td>\n",
       "      <td>M</td>\n",
       "      <td>1989.0</td>\n",
       "      <td>06292016</td>\n",
       "      <td>M</td>\n",
       "      <td>TO BE DETERMINATED</td>\n",
       "      <td>OS</td>\n",
       "      <td>5.542188e+10</td>\n",
       "      <td>00089</td>\n",
       "      <td>WT</td>\n",
       "    </tr>\n",
       "    <tr>\n",
       "      <th>84</th>\n",
       "      <td>2016.0</td>\n",
       "      <td>4.0</td>\n",
       "      <td>103</td>\n",
       "      <td>103.0</td>\n",
       "      <td>NEW</td>\n",
       "      <td>20160401</td>\n",
       "      <td>1</td>\n",
       "      <td>NJ</td>\n",
       "      <td>20160409</td>\n",
       "      <td>22.0</td>\n",
       "      <td>...</td>\n",
       "      <td>TO BE DETERMINATED</td>\n",
       "      <td>M</td>\n",
       "      <td>1994.0</td>\n",
       "      <td>06292016</td>\n",
       "      <td>F</td>\n",
       "      <td>TO BE DETERMINATED</td>\n",
       "      <td>UA</td>\n",
       "      <td>5.543383e+10</td>\n",
       "      <td>00031</td>\n",
       "      <td>WT</td>\n",
       "    </tr>\n",
       "    <tr>\n",
       "      <th>85</th>\n",
       "      <td>2016.0</td>\n",
       "      <td>4.0</td>\n",
       "      <td>103</td>\n",
       "      <td>103.0</td>\n",
       "      <td>NEW</td>\n",
       "      <td>20160401</td>\n",
       "      <td>1</td>\n",
       "      <td>NJ</td>\n",
       "      <td>20160409</td>\n",
       "      <td>52.0</td>\n",
       "      <td>...</td>\n",
       "      <td>TO BE DETERMINATED</td>\n",
       "      <td>M</td>\n",
       "      <td>1964.0</td>\n",
       "      <td>06292016</td>\n",
       "      <td>M</td>\n",
       "      <td>TO BE DETERMINATED</td>\n",
       "      <td>OS</td>\n",
       "      <td>5.542163e+10</td>\n",
       "      <td>00089</td>\n",
       "      <td>WT</td>\n",
       "    </tr>\n",
       "    <tr>\n",
       "      <th>86</th>\n",
       "      <td>2016.0</td>\n",
       "      <td>4.0</td>\n",
       "      <td>103</td>\n",
       "      <td>103.0</td>\n",
       "      <td>NEW</td>\n",
       "      <td>20160401</td>\n",
       "      <td>1</td>\n",
       "      <td>NJ</td>\n",
       "      <td>20160410</td>\n",
       "      <td>26.0</td>\n",
       "      <td>...</td>\n",
       "      <td>TO BE DETERMINATED</td>\n",
       "      <td>M</td>\n",
       "      <td>1990.0</td>\n",
       "      <td>06292016</td>\n",
       "      <td>F</td>\n",
       "      <td>TO BE DETERMINATED</td>\n",
       "      <td>LH</td>\n",
       "      <td>5.543633e+10</td>\n",
       "      <td>00408</td>\n",
       "      <td>WT</td>\n",
       "    </tr>\n",
       "    <tr>\n",
       "      <th>87</th>\n",
       "      <td>2016.0</td>\n",
       "      <td>4.0</td>\n",
       "      <td>103</td>\n",
       "      <td>103.0</td>\n",
       "      <td>NEW</td>\n",
       "      <td>20160401</td>\n",
       "      <td>1</td>\n",
       "      <td>NJ</td>\n",
       "      <td>20160410</td>\n",
       "      <td>25.0</td>\n",
       "      <td>...</td>\n",
       "      <td>TO BE DETERMINATED</td>\n",
       "      <td>M</td>\n",
       "      <td>1991.0</td>\n",
       "      <td>06292016</td>\n",
       "      <td>M</td>\n",
       "      <td>TO BE DETERMINATED</td>\n",
       "      <td>LH</td>\n",
       "      <td>5.543649e+10</td>\n",
       "      <td>00408</td>\n",
       "      <td>WT</td>\n",
       "    </tr>\n",
       "    <tr>\n",
       "      <th>88</th>\n",
       "      <td>2016.0</td>\n",
       "      <td>4.0</td>\n",
       "      <td>103</td>\n",
       "      <td>103.0</td>\n",
       "      <td>NEW</td>\n",
       "      <td>20160401</td>\n",
       "      <td>1</td>\n",
       "      <td>NJ</td>\n",
       "      <td>20160424</td>\n",
       "      <td>58.0</td>\n",
       "      <td>...</td>\n",
       "      <td>TO BE DETERMINATED</td>\n",
       "      <td>M</td>\n",
       "      <td>1958.0</td>\n",
       "      <td>06292016</td>\n",
       "      <td>M</td>\n",
       "      <td>TO BE DETERMINATED</td>\n",
       "      <td>OS</td>\n",
       "      <td>5.542267e+10</td>\n",
       "      <td>00089</td>\n",
       "      <td>WT</td>\n",
       "    </tr>\n",
       "    <tr>\n",
       "      <th>89</th>\n",
       "      <td>2016.0</td>\n",
       "      <td>4.0</td>\n",
       "      <td>103</td>\n",
       "      <td>103.0</td>\n",
       "      <td>NEW</td>\n",
       "      <td>20160401</td>\n",
       "      <td>1</td>\n",
       "      <td>NJ</td>\n",
       "      <td>20160424</td>\n",
       "      <td>47.0</td>\n",
       "      <td>...</td>\n",
       "      <td>TO BE DETERMINATED</td>\n",
       "      <td>M</td>\n",
       "      <td>1969.0</td>\n",
       "      <td>06292016</td>\n",
       "      <td>F</td>\n",
       "      <td>TO BE DETERMINATED</td>\n",
       "      <td>OS</td>\n",
       "      <td>5.542260e+10</td>\n",
       "      <td>00089</td>\n",
       "      <td>WT</td>\n",
       "    </tr>\n",
       "    <tr>\n",
       "      <th>90</th>\n",
       "      <td>2016.0</td>\n",
       "      <td>4.0</td>\n",
       "      <td>103</td>\n",
       "      <td>103.0</td>\n",
       "      <td>NEW</td>\n",
       "      <td>20160401</td>\n",
       "      <td>1</td>\n",
       "      <td>NJ</td>\n",
       "      <td>20160628</td>\n",
       "      <td>25.0</td>\n",
       "      <td>...</td>\n",
       "      <td>TO BE DETERMINATED</td>\n",
       "      <td>M</td>\n",
       "      <td>1991.0</td>\n",
       "      <td>06292016</td>\n",
       "      <td>F</td>\n",
       "      <td>TO BE DETERMINATED</td>\n",
       "      <td>OS</td>\n",
       "      <td>5.542146e+10</td>\n",
       "      <td>00089</td>\n",
       "      <td>WT</td>\n",
       "    </tr>\n",
       "    <tr>\n",
       "      <th>91</th>\n",
       "      <td>2016.0</td>\n",
       "      <td>4.0</td>\n",
       "      <td>103</td>\n",
       "      <td>103.0</td>\n",
       "      <td>NEW</td>\n",
       "      <td>20160401</td>\n",
       "      <td>1</td>\n",
       "      <td>NJ</td>\n",
       "      <td>20160408</td>\n",
       "      <td>62.0</td>\n",
       "      <td>...</td>\n",
       "      <td>TO BE DETERMINATED</td>\n",
       "      <td>M</td>\n",
       "      <td>1954.0</td>\n",
       "      <td>06292016</td>\n",
       "      <td>F</td>\n",
       "      <td>TO BE DETERMINATED</td>\n",
       "      <td>OS</td>\n",
       "      <td>5.542131e+10</td>\n",
       "      <td>00089</td>\n",
       "      <td>WT</td>\n",
       "    </tr>\n",
       "    <tr>\n",
       "      <th>92</th>\n",
       "      <td>2016.0</td>\n",
       "      <td>4.0</td>\n",
       "      <td>103</td>\n",
       "      <td>103.0</td>\n",
       "      <td>NEW</td>\n",
       "      <td>20160401</td>\n",
       "      <td>1</td>\n",
       "      <td>NY</td>\n",
       "      <td>19600101</td>\n",
       "      <td>36.0</td>\n",
       "      <td>...</td>\n",
       "      <td>TO BE DETERMINATED</td>\n",
       "      <td>TO BE DETERMINATED</td>\n",
       "      <td>1980.0</td>\n",
       "      <td>06292016</td>\n",
       "      <td>F</td>\n",
       "      <td>TO BE DETERMINATED</td>\n",
       "      <td>OS</td>\n",
       "      <td>5.542140e+10</td>\n",
       "      <td>00089</td>\n",
       "      <td>WT</td>\n",
       "    </tr>\n",
       "    <tr>\n",
       "      <th>93</th>\n",
       "      <td>2016.0</td>\n",
       "      <td>4.0</td>\n",
       "      <td>103</td>\n",
       "      <td>103.0</td>\n",
       "      <td>NEW</td>\n",
       "      <td>20160401</td>\n",
       "      <td>1</td>\n",
       "      <td>NY</td>\n",
       "      <td>19600101</td>\n",
       "      <td>32.0</td>\n",
       "      <td>...</td>\n",
       "      <td>TO BE DETERMINATED</td>\n",
       "      <td>TO BE DETERMINATED</td>\n",
       "      <td>1984.0</td>\n",
       "      <td>06292016</td>\n",
       "      <td>F</td>\n",
       "      <td>TO BE DETERMINATED</td>\n",
       "      <td>LH</td>\n",
       "      <td>5.543746e+10</td>\n",
       "      <td>00402</td>\n",
       "      <td>WT</td>\n",
       "    </tr>\n",
       "    <tr>\n",
       "      <th>94</th>\n",
       "      <td>2016.0</td>\n",
       "      <td>4.0</td>\n",
       "      <td>103</td>\n",
       "      <td>103.0</td>\n",
       "      <td>NEW</td>\n",
       "      <td>20160401</td>\n",
       "      <td>1</td>\n",
       "      <td>NY</td>\n",
       "      <td>20160403</td>\n",
       "      <td>50.0</td>\n",
       "      <td>...</td>\n",
       "      <td>TO BE DETERMINATED</td>\n",
       "      <td>M</td>\n",
       "      <td>1966.0</td>\n",
       "      <td>06292016</td>\n",
       "      <td>M</td>\n",
       "      <td>TO BE DETERMINATED</td>\n",
       "      <td>OS</td>\n",
       "      <td>5.542164e+10</td>\n",
       "      <td>00089</td>\n",
       "      <td>WT</td>\n",
       "    </tr>\n",
       "    <tr>\n",
       "      <th>95</th>\n",
       "      <td>2016.0</td>\n",
       "      <td>4.0</td>\n",
       "      <td>103</td>\n",
       "      <td>103.0</td>\n",
       "      <td>NEW</td>\n",
       "      <td>20160401</td>\n",
       "      <td>1</td>\n",
       "      <td>NY</td>\n",
       "      <td>20160403</td>\n",
       "      <td>48.0</td>\n",
       "      <td>...</td>\n",
       "      <td>TO BE DETERMINATED</td>\n",
       "      <td>M</td>\n",
       "      <td>1968.0</td>\n",
       "      <td>06292016</td>\n",
       "      <td>M</td>\n",
       "      <td>TO BE DETERMINATED</td>\n",
       "      <td>OS</td>\n",
       "      <td>5.542157e+10</td>\n",
       "      <td>00089</td>\n",
       "      <td>WT</td>\n",
       "    </tr>\n",
       "    <tr>\n",
       "      <th>96</th>\n",
       "      <td>2016.0</td>\n",
       "      <td>4.0</td>\n",
       "      <td>103</td>\n",
       "      <td>103.0</td>\n",
       "      <td>NEW</td>\n",
       "      <td>20160401</td>\n",
       "      <td>1</td>\n",
       "      <td>NY</td>\n",
       "      <td>20160403</td>\n",
       "      <td>48.0</td>\n",
       "      <td>...</td>\n",
       "      <td>TO BE DETERMINATED</td>\n",
       "      <td>M</td>\n",
       "      <td>1968.0</td>\n",
       "      <td>06292016</td>\n",
       "      <td>M</td>\n",
       "      <td>TO BE DETERMINATED</td>\n",
       "      <td>OS</td>\n",
       "      <td>5.542158e+10</td>\n",
       "      <td>00089</td>\n",
       "      <td>WT</td>\n",
       "    </tr>\n",
       "    <tr>\n",
       "      <th>97</th>\n",
       "      <td>2016.0</td>\n",
       "      <td>4.0</td>\n",
       "      <td>103</td>\n",
       "      <td>103.0</td>\n",
       "      <td>NEW</td>\n",
       "      <td>20160401</td>\n",
       "      <td>1</td>\n",
       "      <td>NY</td>\n",
       "      <td>20160403</td>\n",
       "      <td>47.0</td>\n",
       "      <td>...</td>\n",
       "      <td>TO BE DETERMINATED</td>\n",
       "      <td>M</td>\n",
       "      <td>1969.0</td>\n",
       "      <td>06292016</td>\n",
       "      <td>M</td>\n",
       "      <td>TO BE DETERMINATED</td>\n",
       "      <td>OS</td>\n",
       "      <td>5.542154e+10</td>\n",
       "      <td>00089</td>\n",
       "      <td>WT</td>\n",
       "    </tr>\n",
       "    <tr>\n",
       "      <th>98</th>\n",
       "      <td>2016.0</td>\n",
       "      <td>4.0</td>\n",
       "      <td>103</td>\n",
       "      <td>103.0</td>\n",
       "      <td>NEW</td>\n",
       "      <td>20160401</td>\n",
       "      <td>1</td>\n",
       "      <td>NY</td>\n",
       "      <td>20160403</td>\n",
       "      <td>30.0</td>\n",
       "      <td>...</td>\n",
       "      <td>TO BE DETERMINATED</td>\n",
       "      <td>M</td>\n",
       "      <td>1986.0</td>\n",
       "      <td>06292016</td>\n",
       "      <td>F</td>\n",
       "      <td>TO BE DETERMINATED</td>\n",
       "      <td>OS</td>\n",
       "      <td>5.542168e+10</td>\n",
       "      <td>00089</td>\n",
       "      <td>WT</td>\n",
       "    </tr>\n",
       "    <tr>\n",
       "      <th>99</th>\n",
       "      <td>2016.0</td>\n",
       "      <td>4.0</td>\n",
       "      <td>103</td>\n",
       "      <td>103.0</td>\n",
       "      <td>NEW</td>\n",
       "      <td>20160401</td>\n",
       "      <td>1</td>\n",
       "      <td>NY</td>\n",
       "      <td>20160403</td>\n",
       "      <td>27.0</td>\n",
       "      <td>...</td>\n",
       "      <td>TO BE DETERMINATED</td>\n",
       "      <td>M</td>\n",
       "      <td>1989.0</td>\n",
       "      <td>06292016</td>\n",
       "      <td>M</td>\n",
       "      <td>TO BE DETERMINATED</td>\n",
       "      <td>OS</td>\n",
       "      <td>5.542279e+10</td>\n",
       "      <td>00089</td>\n",
       "      <td>WT</td>\n",
       "    </tr>\n",
       "  </tbody>\n",
       "</table>\n",
       "<p>100 rows × 27 columns</p>\n",
       "</div>"
      ],
      "text/plain": [
       "        yr  mnth  cty_cntry  resdnc_cntry  prt  arrvl_dt  arrvl_md us_stt  \\\n",
       "0   2016.0   4.0        101         101.0  WAS  20160401         1     MI   \n",
       "1   2016.0   4.0        101         101.0  NYC  20160401         1     MA   \n",
       "2   2016.0   4.0        101         101.0  NYC  20160401         1     MA   \n",
       "3   2016.0   4.0        101         101.0  NYC  20160401         1     MI   \n",
       "4   2016.0   4.0        101         101.0  NYC  20160401         1     NJ   \n",
       "5   2016.0   4.0        101         101.0  NYC  20160401         1     NJ   \n",
       "6   2016.0   4.0        101         101.0  NYC  20160401         1     NY   \n",
       "7   2016.0   4.0        101         101.0  NYC  20160401         1     NY   \n",
       "8   2016.0   4.0        101         101.0  NYC  20160401         1     NY   \n",
       "9   2016.0   4.0        101         101.0  TOR  20160401         1     MO   \n",
       "10  2016.0   4.0        101         101.0  BOS  20160401         1     MA   \n",
       "11  2016.0   4.0        101         101.0  ATL  20160401         1     MA   \n",
       "12  2016.0   4.0        101         101.0  ATL  20160401         1     MA   \n",
       "13  2016.0   4.0        101         101.0  ATL  20160401         1     NJ   \n",
       "14  2016.0   4.0        101         101.0  ATL  20160401         1     NY   \n",
       "15  2016.0   4.0        101         101.0  HOU  20160401         1     TX   \n",
       "16  2016.0   4.0        101         101.0  NYC  20160401         1     CT   \n",
       "17  2016.0   4.0        101         101.0  NYC  20160401         1     CT   \n",
       "18  2016.0   4.0        101         101.0  NYC  20160401         1     NJ   \n",
       "19  2016.0   4.0        101         101.0  NYC  20160401         1     NJ   \n",
       "20  2016.0   4.0        101         101.0  NYC  20160401         1     NY   \n",
       "21  2016.0   4.0        101         101.0  MIA  20160401         1     FL   \n",
       "22  2016.0   4.0        101         101.0  CHI  20160401         1     IL   \n",
       "23  2016.0   4.0        101         101.0  CHI  20160401         1     IL   \n",
       "24  2016.0   4.0        101         101.0  CHI  20160401         1     IL   \n",
       "25  2016.0   4.0        101         110.0  NYC  20160401         1     NJ   \n",
       "26  2016.0   4.0        101         117.0  NYC  20160401         1     NY   \n",
       "27  2016.0   4.0        101         117.0  NYC  20160401         1     NY   \n",
       "28  2016.0   4.0        101         117.0  NYC  20160401         1     MI   \n",
       "29  2016.0   4.0        101         117.0  MIA  20160401         1     FL   \n",
       "..     ...   ...        ...           ...  ...       ...       ...    ...   \n",
       "70  2016.0   4.0        103         103.0  DET  20160401         1     MI   \n",
       "71  2016.0   4.0        103         103.0  DET  20160401         1     MI   \n",
       "72  2016.0   4.0        103         103.0  DET  20160401         1     MI   \n",
       "73  2016.0   4.0        103         103.0  DET  20160401         1     MI   \n",
       "74  2016.0   4.0        103         103.0  DET  20160401         1     MI   \n",
       "75  2016.0   4.0        103         103.0  DET  20160401         1     MI   \n",
       "76  2016.0   4.0        103         103.0  DET  20160401         1     MI   \n",
       "77  2016.0   4.0        103         103.0  DET  20160401         1     MI   \n",
       "78  2016.0   4.0        103         103.0  NEW  20160401         1     CA   \n",
       "79  2016.0   4.0        103         103.0  NEW  20160401         1     CA   \n",
       "80  2016.0   4.0        103         103.0  NEW  20160401         1     CA   \n",
       "81  2016.0   4.0        103         103.0  NEW  20160401         1     MD   \n",
       "82  2016.0   4.0        103         103.0  NEW  20160401         1     MD   \n",
       "83  2016.0   4.0        103         103.0  NEW  20160401         1     NJ   \n",
       "84  2016.0   4.0        103         103.0  NEW  20160401         1     NJ   \n",
       "85  2016.0   4.0        103         103.0  NEW  20160401         1     NJ   \n",
       "86  2016.0   4.0        103         103.0  NEW  20160401         1     NJ   \n",
       "87  2016.0   4.0        103         103.0  NEW  20160401         1     NJ   \n",
       "88  2016.0   4.0        103         103.0  NEW  20160401         1     NJ   \n",
       "89  2016.0   4.0        103         103.0  NEW  20160401         1     NJ   \n",
       "90  2016.0   4.0        103         103.0  NEW  20160401         1     NJ   \n",
       "91  2016.0   4.0        103         103.0  NEW  20160401         1     NJ   \n",
       "92  2016.0   4.0        103         103.0  NEW  20160401         1     NY   \n",
       "93  2016.0   4.0        103         103.0  NEW  20160401         1     NY   \n",
       "94  2016.0   4.0        103         103.0  NEW  20160401         1     NY   \n",
       "95  2016.0   4.0        103         103.0  NEW  20160401         1     NY   \n",
       "96  2016.0   4.0        103         103.0  NEW  20160401         1     NY   \n",
       "97  2016.0   4.0        103         103.0  NEW  20160401         1     NY   \n",
       "98  2016.0   4.0        103         103.0  NEW  20160401         1     NY   \n",
       "99  2016.0   4.0        103         103.0  NEW  20160401         1     NY   \n",
       "\n",
       "    dprtr_dt  rpndnt_age   ...              updt_flg     arrvl_dprtr_flg  \\\n",
       "0   20160825        55.0   ...    TO BE DETERMINATED                   M   \n",
       "1   20160423        28.0   ...    TO BE DETERMINATED                   M   \n",
       "2   20160423         4.0   ...    TO BE DETERMINATED                   M   \n",
       "3   20160411        57.0   ...    TO BE DETERMINATED                   M   \n",
       "4   20160414        63.0   ...    TO BE DETERMINATED                   M   \n",
       "5   20160414        57.0   ...    TO BE DETERMINATED                   M   \n",
       "6   20160409        46.0   ...    TO BE DETERMINATED                   M   \n",
       "7   20160418        48.0   ...    TO BE DETERMINATED                   M   \n",
       "8   20160805        52.0   ...    TO BE DETERMINATED                   M   \n",
       "9   20160410        33.0   ...    TO BE DETERMINATED                   M   \n",
       "10  20160405        58.0   ...    TO BE DETERMINATED                   M   \n",
       "11  20160405        56.0   ...    TO BE DETERMINATED                   M   \n",
       "12  20160417        62.0   ...    TO BE DETERMINATED                   M   \n",
       "13  20160504        49.0   ...    TO BE DETERMINATED                   M   \n",
       "14  20160606        43.0   ...    TO BE DETERMINATED                   M   \n",
       "15  20160410        53.0   ...    TO BE DETERMINATED                   M   \n",
       "16  19600101        48.0   ...    TO BE DETERMINATED  TO BE DETERMINATED   \n",
       "17  19600101        74.0   ...    TO BE DETERMINATED  TO BE DETERMINATED   \n",
       "18  20160417        37.0   ...    TO BE DETERMINATED                   M   \n",
       "19  20160423        49.0   ...    TO BE DETERMINATED                   M   \n",
       "20  20160501        33.0   ...    TO BE DETERMINATED                   M   \n",
       "21  20160430        65.0   ...    TO BE DETERMINATED                   M   \n",
       "22  20160410        35.0   ...    TO BE DETERMINATED                   M   \n",
       "23  20160418        32.0   ...    TO BE DETERMINATED                   M   \n",
       "24  20160506        38.0   ...    TO BE DETERMINATED                   M   \n",
       "25  20160730        28.0   ...    TO BE DETERMINATED                   M   \n",
       "26  20160428        68.0   ...    TO BE DETERMINATED                   M   \n",
       "27  20160428        61.0   ...    TO BE DETERMINATED                   M   \n",
       "28  20160419        41.0   ...    TO BE DETERMINATED                   M   \n",
       "29  20160411        45.0   ...    TO BE DETERMINATED                   M   \n",
       "..       ...         ...   ...                   ...                 ...   \n",
       "70  20160405        36.0   ...    TO BE DETERMINATED                   M   \n",
       "71  20160412        74.0   ...    TO BE DETERMINATED                   M   \n",
       "72  20160412        61.0   ...    TO BE DETERMINATED                   M   \n",
       "73  20160412        33.0   ...    TO BE DETERMINATED                   M   \n",
       "74  20160412         2.0   ...    TO BE DETERMINATED                   M   \n",
       "75  20160412         0.0   ...    TO BE DETERMINATED                   M   \n",
       "76  20160414        34.0   ...    TO BE DETERMINATED                   M   \n",
       "77  20160414        29.0   ...    TO BE DETERMINATED                   M   \n",
       "78  20160405        68.0   ...    TO BE DETERMINATED                   M   \n",
       "79  20160423        70.0   ...    TO BE DETERMINATED                   M   \n",
       "80  20160423        40.0   ...    TO BE DETERMINATED                   M   \n",
       "81  20160405        53.0   ...    TO BE DETERMINATED                   M   \n",
       "82  20160405        53.0   ...    TO BE DETERMINATED                   M   \n",
       "83  20160417        27.0   ...    TO BE DETERMINATED                   M   \n",
       "84  20160409        22.0   ...    TO BE DETERMINATED                   M   \n",
       "85  20160409        52.0   ...    TO BE DETERMINATED                   M   \n",
       "86  20160410        26.0   ...    TO BE DETERMINATED                   M   \n",
       "87  20160410        25.0   ...    TO BE DETERMINATED                   M   \n",
       "88  20160424        58.0   ...    TO BE DETERMINATED                   M   \n",
       "89  20160424        47.0   ...    TO BE DETERMINATED                   M   \n",
       "90  20160628        25.0   ...    TO BE DETERMINATED                   M   \n",
       "91  20160408        62.0   ...    TO BE DETERMINATED                   M   \n",
       "92  19600101        36.0   ...    TO BE DETERMINATED  TO BE DETERMINATED   \n",
       "93  19600101        32.0   ...    TO BE DETERMINATED  TO BE DETERMINATED   \n",
       "94  20160403        50.0   ...    TO BE DETERMINATED                   M   \n",
       "95  20160403        48.0   ...    TO BE DETERMINATED                   M   \n",
       "96  20160403        48.0   ...    TO BE DETERMINATED                   M   \n",
       "97  20160403        47.0   ...    TO BE DETERMINATED                   M   \n",
       "98  20160403        30.0   ...    TO BE DETERMINATED                   M   \n",
       "99  20160403        27.0   ...    TO BE DETERMINATED                   M   \n",
       "\n",
       "   brth_yr  allwd_dt                gndr            ins_nmbr arln  \\\n",
       "0   1961.0  09302016                   M  TO BE DETERMINATED   OS   \n",
       "1   1988.0  09302016  TO BE DETERMINATED  TO BE DETERMINATED   AA   \n",
       "2   2012.0  09302016  TO BE DETERMINATED  TO BE DETERMINATED   AA   \n",
       "3   1959.0  09302016  TO BE DETERMINATED  TO BE DETERMINATED   AZ   \n",
       "4   1953.0  09302016  TO BE DETERMINATED  TO BE DETERMINATED   AZ   \n",
       "5   1959.0  09302016  TO BE DETERMINATED  TO BE DETERMINATED   AZ   \n",
       "6   1970.0  09302016  TO BE DETERMINATED  TO BE DETERMINATED   AZ   \n",
       "7   1968.0  09302016  TO BE DETERMINATED  TO BE DETERMINATED   AZ   \n",
       "8   1964.0  09302016  TO BE DETERMINATED  TO BE DETERMINATED   TK   \n",
       "9   1983.0  09302016  TO BE DETERMINATED  TO BE DETERMINATED   MQ   \n",
       "10  1958.0  04062016                   M  TO BE DETERMINATED   LH   \n",
       "11  1960.0  04062016                   F  TO BE DETERMINATED   LH   \n",
       "12  1954.0  09302016                   M  TO BE DETERMINATED   AZ   \n",
       "13  1967.0  09302016                   M  TO BE DETERMINATED   OS   \n",
       "14  1973.0  09302016                   M  TO BE DETERMINATED   OS   \n",
       "15  1963.0  09302016                   F  TO BE DETERMINATED   TK   \n",
       "16  1968.0  09302016                   M  TO BE DETERMINATED   AZ   \n",
       "17  1942.0  09302016                   F  TO BE DETERMINATED   TK   \n",
       "18  1979.0  09302016                   M  TO BE DETERMINATED   TK   \n",
       "19  1967.0  09302016                   F  TO BE DETERMINATED   AZ   \n",
       "20  1983.0  09302016                   M  TO BE DETERMINATED   AZ   \n",
       "21  1951.0  09302016                   F  TO BE DETERMINATED   TK   \n",
       "22  1981.0  09302016                   M  TO BE DETERMINATED   OS   \n",
       "23  1984.0  09302016                   M  TO BE DETERMINATED   OS   \n",
       "24  1978.0  09302016                   M  TO BE DETERMINATED   TK   \n",
       "25  1988.0       D/S                   F  TO BE DETERMINATED   AY   \n",
       "26  1948.0  09302016                   M  TO BE DETERMINATED   AA   \n",
       "27  1955.0  09302016                   F  TO BE DETERMINATED   AA   \n",
       "28  1975.0  09302016                   F  TO BE DETERMINATED   AZ   \n",
       "29  1971.0  09302016                   F  TO BE DETERMINATED   AA   \n",
       "..     ...       ...                 ...                 ...  ...   \n",
       "70  1980.0  06292016                   M  TO BE DETERMINATED   LH   \n",
       "71  1942.0  06292016                   M  TO BE DETERMINATED   LH   \n",
       "72  1955.0  06292016                   F  TO BE DETERMINATED   LH   \n",
       "73  1983.0  06292016                   M  TO BE DETERMINATED   LH   \n",
       "74  2014.0  06292016                   M  TO BE DETERMINATED   LH   \n",
       "75  2016.0  06292016                   M  TO BE DETERMINATED   LH   \n",
       "76  1982.0  06292016                   F  TO BE DETERMINATED   LH   \n",
       "77  1987.0  06292016                   M  TO BE DETERMINATED   LH   \n",
       "78  1948.0  06292016                   M  TO BE DETERMINATED   LH   \n",
       "79  1946.0  06292016                   F  TO BE DETERMINATED   OS   \n",
       "80  1976.0  06292016                   M  TO BE DETERMINATED   OS   \n",
       "81  1963.0  06292016                   F  TO BE DETERMINATED   LH   \n",
       "82  1963.0  06292016                   M  TO BE DETERMINATED   LH   \n",
       "83  1989.0  06292016                   M  TO BE DETERMINATED   OS   \n",
       "84  1994.0  06292016                   F  TO BE DETERMINATED   UA   \n",
       "85  1964.0  06292016                   M  TO BE DETERMINATED   OS   \n",
       "86  1990.0  06292016                   F  TO BE DETERMINATED   LH   \n",
       "87  1991.0  06292016                   M  TO BE DETERMINATED   LH   \n",
       "88  1958.0  06292016                   M  TO BE DETERMINATED   OS   \n",
       "89  1969.0  06292016                   F  TO BE DETERMINATED   OS   \n",
       "90  1991.0  06292016                   F  TO BE DETERMINATED   OS   \n",
       "91  1954.0  06292016                   F  TO BE DETERMINATED   OS   \n",
       "92  1980.0  06292016                   F  TO BE DETERMINATED   OS   \n",
       "93  1984.0  06292016                   F  TO BE DETERMINATED   LH   \n",
       "94  1966.0  06292016                   M  TO BE DETERMINATED   OS   \n",
       "95  1968.0  06292016                   M  TO BE DETERMINATED   OS   \n",
       "96  1968.0  06292016                   M  TO BE DETERMINATED   OS   \n",
       "97  1969.0  06292016                   M  TO BE DETERMINATED   OS   \n",
       "98  1986.0  06292016                   F  TO BE DETERMINATED   OS   \n",
       "99  1989.0  06292016                   M  TO BE DETERMINATED   OS   \n",
       "\n",
       "     admssn_nmbr flght_nmbr  vs_typ  \n",
       "0   6.666432e+08         93      B2  \n",
       "1   9.246846e+10      00199      B2  \n",
       "2   9.246846e+10      00199      B2  \n",
       "3   9.247104e+10      00602      B1  \n",
       "4   9.247140e+10      00602      B2  \n",
       "5   9.247161e+10      00602      B2  \n",
       "6   9.247080e+10      00602      B2  \n",
       "7   9.247849e+10      00608      B1  \n",
       "8   9.250139e+10      00001      B2  \n",
       "9   9.249091e+10      03348      B2  \n",
       "10  9.247876e+10      00422      B1  \n",
       "11  9.247890e+10      00422      B1  \n",
       "12  9.250378e+10      00614      B2  \n",
       "13  9.247021e+10      00089      B2  \n",
       "14  9.247129e+10      00089      B2  \n",
       "15  9.250930e+10      00033      B2  \n",
       "16  9.247042e+10      00602      B2  \n",
       "17  6.697122e+08          1      B2  \n",
       "18  9.250626e+10      00001      B2  \n",
       "19  9.247562e+10      00608      B2  \n",
       "20  9.248609e+10      00608      B2  \n",
       "21  9.250766e+10      00077      B2  \n",
       "22  9.248056e+10      00065      B1  \n",
       "23  9.247781e+10      00065      B1  \n",
       "24  9.250622e+10      00005      B1  \n",
       "25  9.249398e+10      00005      F1  \n",
       "26  9.247360e+10      00199      B2  \n",
       "27  9.247342e+10      00199      B2  \n",
       "28  9.250368e+10      00610      B2  \n",
       "29  9.248627e+10      00207      B2  \n",
       "..           ...        ...     ...  \n",
       "70  5.541992e+10      00442      WB  \n",
       "71  5.542591e+10      00442      WT  \n",
       "72  5.542624e+10      00442      WT  \n",
       "73  5.542472e+10      00442      WT  \n",
       "74  5.542538e+10      00442      WT  \n",
       "75  5.542559e+10      00442      WT  \n",
       "76  5.541936e+10      00442      WB  \n",
       "77  5.541953e+10      00442      WB  \n",
       "78  5.543656e+10      00402      WB  \n",
       "79  5.542247e+10      00089      WT  \n",
       "80  5.542226e+10      00089      WT  \n",
       "81  5.543624e+10      00402      WT  \n",
       "82  5.543637e+10      00402      WT  \n",
       "83  5.542188e+10      00089      WT  \n",
       "84  5.543383e+10      00031      WT  \n",
       "85  5.542163e+10      00089      WT  \n",
       "86  5.543633e+10      00408      WT  \n",
       "87  5.543649e+10      00408      WT  \n",
       "88  5.542267e+10      00089      WT  \n",
       "89  5.542260e+10      00089      WT  \n",
       "90  5.542146e+10      00089      WT  \n",
       "91  5.542131e+10      00089      WT  \n",
       "92  5.542140e+10      00089      WT  \n",
       "93  5.543746e+10      00402      WT  \n",
       "94  5.542164e+10      00089      WT  \n",
       "95  5.542157e+10      00089      WT  \n",
       "96  5.542158e+10      00089      WT  \n",
       "97  5.542154e+10      00089      WT  \n",
       "98  5.542168e+10      00089      WT  \n",
       "99  5.542279e+10      00089      WT  \n",
       "\n",
       "[100 rows x 27 columns]"
      ]
     },
     "execution_count": 150,
     "metadata": {},
     "output_type": "execute_result"
    }
   ],
   "source": [
    "fact.limit(100).toPandas()"
   ]
  },
  {
   "cell_type": "code",
   "execution_count": 151,
   "metadata": {
    "editable": true
   },
   "outputs": [],
   "source": [
    "fact.write.mode(\"overwrite\").partitionBy('yr', 'mnth', 'us_stt').parquet('facts/fact_immigration')"
   ]
  },
  {
   "cell_type": "markdown",
   "metadata": {
    "editable": true
   },
   "source": [
    "### Step 3: Define the Data Model\n",
    "#### 3.1 Conceptual Data Model\n",
    "Map out the conceptual data model and explain why you chose that model\n",
    "\n",
    "#### 3.2 Mapping Out Data Pipelines\n",
    "List the steps necessary to pipeline the data into the chosen data model"
   ]
  },
  {
   "cell_type": "code",
   "execution_count": null,
   "metadata": {
    "editable": true
   },
   "outputs": [],
   "source": []
  },
  {
   "cell_type": "code",
   "execution_count": null,
   "metadata": {
    "editable": true
   },
   "outputs": [],
   "source": []
  },
  {
   "cell_type": "markdown",
   "metadata": {
    "editable": true
   },
   "source": [
    "### Step 4: Run Pipelines to Model the Data \n",
    "#### 4.1 Create the data model\n",
    "Build the data pipelines to create the data model."
   ]
  },
  {
   "cell_type": "code",
   "execution_count": null,
   "metadata": {
    "editable": true
   },
   "outputs": [],
   "source": [
    "# Write code here"
   ]
  },
  {
   "cell_type": "markdown",
   "metadata": {
    "editable": true
   },
   "source": [
    "#### 4.2 Data Quality Checks\n",
    "Explain the data quality checks you'll perform to ensure the pipeline ran as expected. These could include:\n",
    " * Integrity constraints on the relational database (e.g., unique key, data type, etc.)\n",
    " * Unit tests for the scripts to ensure they are doing the right thing\n",
    " * Source/Count checks to ensure completeness\n",
    " \n",
    "Run Quality Checks"
   ]
  },
  {
   "cell_type": "code",
   "execution_count": null,
   "metadata": {
    "editable": true
   },
   "outputs": [],
   "source": [
    "# Perform quality checks here"
   ]
  },
  {
   "cell_type": "markdown",
   "metadata": {
    "editable": true
   },
   "source": [
    "#### 4.3 Data dictionary \n",
    "Create a data dictionary for your data model. For each field, provide a brief description of what the data is and where it came from. You can include the data dictionary in the notebook or in a separate file."
   ]
  },
  {
   "cell_type": "markdown",
   "metadata": {
    "editable": true
   },
   "source": [
    "#### Step 5: Complete Project Write Up\n",
    "* Clearly state the rationale for the choice of tools and technologies for the project.\n",
    "* Propose how often the data should be updated and why.\n",
    "* Write a description of how you would approach the problem differently under the following scenarios:\n",
    " * The data was increased by 100x.\n",
    " * The data populates a dashboard that must be updated on a daily basis by 7am every day.\n",
    " * The database needed to be accessed by 100+ people."
   ]
  },
  {
   "cell_type": "code",
   "execution_count": null,
   "metadata": {
    "editable": true
   },
   "outputs": [],
   "source": []
  },
  {
   "cell_type": "code",
   "execution_count": null,
   "metadata": {
    "editable": true
   },
   "outputs": [],
   "source": []
  },
  {
   "cell_type": "code",
   "execution_count": null,
   "metadata": {
    "editable": true
   },
   "outputs": [],
   "source": []
  },
  {
   "cell_type": "code",
   "execution_count": null,
   "metadata": {
    "editable": true
   },
   "outputs": [],
   "source": []
  },
  {
   "cell_type": "code",
   "execution_count": null,
   "metadata": {
    "editable": true
   },
   "outputs": [],
   "source": []
  },
  {
   "cell_type": "code",
   "execution_count": null,
   "metadata": {
    "editable": true
   },
   "outputs": [],
   "source": []
  }
 ],
 "metadata": {
  "kernelspec": {
   "display_name": "Python 3",
   "language": "python",
   "name": "python3"
  },
  "language_info": {
   "codemirror_mode": {
    "name": "ipython",
    "version": 3
   },
   "file_extension": ".py",
   "mimetype": "text/x-python",
   "name": "python",
   "nbconvert_exporter": "python",
   "pygments_lexer": "ipython3",
   "version": "3.6.3"
  }
 },
 "nbformat": 4,
 "nbformat_minor": 4
}
